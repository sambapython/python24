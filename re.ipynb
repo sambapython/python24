{
 "cells": [
  {
   "cell_type": "code",
   "execution_count": 1,
   "metadata": {
    "collapsed": true
   },
   "outputs": [],
   "source": [
    "f=open('data1.txt')\n",
    "data = f.read()"
   ]
  },
  {
   "cell_type": "code",
   "execution_count": 2,
   "metadata": {
    "collapsed": false
   },
   "outputs": [
    {
     "name": "stdout",
     "output_type": "stream",
     "text": [
      "23,ashok,8798765467,ashok1@gmail.com\n",
      "anil2@yahoo.com,24,anil,2345678904\n",
      "3456789234,pavan,25,pavan2@yahoo.co.in\n",
      "26,ashok,8798765468,ashok2@gmail.com\n",
      "anil3@yahoo.com,25,anil,2345678905\n",
      "3456789235,pavan,25,pavan3@outlook.co.in\n",
      "\n",
      "\n"
     ]
    }
   ],
   "source": [
    "print data"
   ]
  },
  {
   "cell_type": "code",
   "execution_count": 3,
   "metadata": {
    "collapsed": true
   },
   "outputs": [],
   "source": [
    "import re"
   ]
  },
  {
   "cell_type": "code",
   "execution_count": 5,
   "metadata": {
    "collapsed": false
   },
   "outputs": [
    {
     "data": {
      "text/plain": [
       "['8798765467',\n",
       " '2345678904',\n",
       " '3456789234',\n",
       " '8798765468',\n",
       " '2345678905',\n",
       " '3456789235']"
      ]
     },
     "execution_count": 5,
     "metadata": {},
     "output_type": "execute_result"
    }
   ],
   "source": [
    "re.findall('[0-9]{10}',data)"
   ]
  },
  {
   "cell_type": "code",
   "execution_count": 6,
   "metadata": {
    "collapsed": true
   },
   "outputs": [],
   "source": [
    "#[]{}.*+?"
   ]
  },
  {
   "cell_type": "code",
   "execution_count": 7,
   "metadata": {
    "collapsed": false
   },
   "outputs": [
    {
     "data": {
      "text/plain": [
       "['ashok', 'ashok', 'ashok', 'ashok']"
      ]
     },
     "execution_count": 7,
     "metadata": {},
     "output_type": "execute_result"
    }
   ],
   "source": [
    "re.findall('ashok',data)"
   ]
  },
  {
   "cell_type": "code",
   "execution_count": 8,
   "metadata": {
    "collapsed": false
   },
   "outputs": [
    {
     "data": {
      "text/plain": [
       "['2',\n",
       " '3',\n",
       " ',',\n",
       " 'a',\n",
       " 's',\n",
       " 'h',\n",
       " 'o',\n",
       " 'k',\n",
       " ',',\n",
       " '8',\n",
       " '7',\n",
       " '9',\n",
       " '8',\n",
       " '7',\n",
       " '6',\n",
       " '5',\n",
       " '4',\n",
       " '6',\n",
       " '7',\n",
       " ',',\n",
       " 'a',\n",
       " 's',\n",
       " 'h',\n",
       " 'o',\n",
       " 'k',\n",
       " '1',\n",
       " '@',\n",
       " 'g',\n",
       " 'm',\n",
       " 'a',\n",
       " 'i',\n",
       " 'l',\n",
       " '.',\n",
       " 'c',\n",
       " 'o',\n",
       " 'm',\n",
       " 'a',\n",
       " 'n',\n",
       " 'i',\n",
       " 'l',\n",
       " '2',\n",
       " '@',\n",
       " 'y',\n",
       " 'a',\n",
       " 'h',\n",
       " 'o',\n",
       " 'o',\n",
       " '.',\n",
       " 'c',\n",
       " 'o',\n",
       " 'm',\n",
       " ',',\n",
       " '2',\n",
       " '4',\n",
       " ',',\n",
       " 'a',\n",
       " 'n',\n",
       " 'i',\n",
       " 'l',\n",
       " ',',\n",
       " '2',\n",
       " '3',\n",
       " '4',\n",
       " '5',\n",
       " '6',\n",
       " '7',\n",
       " '8',\n",
       " '9',\n",
       " '0',\n",
       " '4',\n",
       " '3',\n",
       " '4',\n",
       " '5',\n",
       " '6',\n",
       " '7',\n",
       " '8',\n",
       " '9',\n",
       " '2',\n",
       " '3',\n",
       " '4',\n",
       " ',',\n",
       " 'p',\n",
       " 'a',\n",
       " 'v',\n",
       " 'a',\n",
       " 'n',\n",
       " ',',\n",
       " '2',\n",
       " '5',\n",
       " ',',\n",
       " 'p',\n",
       " 'a',\n",
       " 'v',\n",
       " 'a',\n",
       " 'n',\n",
       " '2',\n",
       " '@',\n",
       " 'y',\n",
       " 'a',\n",
       " 'h',\n",
       " 'o',\n",
       " 'o',\n",
       " '.',\n",
       " 'c',\n",
       " 'o',\n",
       " '.',\n",
       " 'i',\n",
       " 'n',\n",
       " '2',\n",
       " '6',\n",
       " ',',\n",
       " 'a',\n",
       " 's',\n",
       " 'h',\n",
       " 'o',\n",
       " 'k',\n",
       " ',',\n",
       " '8',\n",
       " '7',\n",
       " '9',\n",
       " '8',\n",
       " '7',\n",
       " '6',\n",
       " '5',\n",
       " '4',\n",
       " '6',\n",
       " '8',\n",
       " ',',\n",
       " 'a',\n",
       " 's',\n",
       " 'h',\n",
       " 'o',\n",
       " 'k',\n",
       " '2',\n",
       " '@',\n",
       " 'g',\n",
       " 'm',\n",
       " 'a',\n",
       " 'i',\n",
       " 'l',\n",
       " '.',\n",
       " 'c',\n",
       " 'o',\n",
       " 'm',\n",
       " 'a',\n",
       " 'n',\n",
       " 'i',\n",
       " 'l',\n",
       " '3',\n",
       " '@',\n",
       " 'y',\n",
       " 'a',\n",
       " 'h',\n",
       " 'o',\n",
       " 'o',\n",
       " '.',\n",
       " 'c',\n",
       " 'o',\n",
       " 'm',\n",
       " ',',\n",
       " '2',\n",
       " '5',\n",
       " ',',\n",
       " 'a',\n",
       " 'n',\n",
       " 'i',\n",
       " 'l',\n",
       " ',',\n",
       " '2',\n",
       " '3',\n",
       " '4',\n",
       " '5',\n",
       " '6',\n",
       " '7',\n",
       " '8',\n",
       " '9',\n",
       " '0',\n",
       " '5',\n",
       " '3',\n",
       " '4',\n",
       " '5',\n",
       " '6',\n",
       " '7',\n",
       " '8',\n",
       " '9',\n",
       " '2',\n",
       " '3',\n",
       " '5',\n",
       " ',',\n",
       " 'p',\n",
       " 'a',\n",
       " 'v',\n",
       " 'a',\n",
       " 'n',\n",
       " ',',\n",
       " '2',\n",
       " '5',\n",
       " ',',\n",
       " 'p',\n",
       " 'a',\n",
       " 'v',\n",
       " 'a',\n",
       " 'n',\n",
       " '3',\n",
       " '@',\n",
       " 'o',\n",
       " 'u',\n",
       " 't',\n",
       " 'l',\n",
       " 'o',\n",
       " 'o',\n",
       " 'k',\n",
       " '.',\n",
       " 'c',\n",
       " 'o',\n",
       " '.',\n",
       " 'i',\n",
       " 'n']"
      ]
     },
     "execution_count": 8,
     "metadata": {},
     "output_type": "execute_result"
    }
   ],
   "source": [
    "re.findall('.',data)"
   ]
  },
  {
   "cell_type": "code",
   "execution_count": 9,
   "metadata": {
    "collapsed": false
   },
   "outputs": [
    {
     "data": {
      "text/plain": [
       "['2',\n",
       " '3',\n",
       " ',',\n",
       " 'a',\n",
       " 's',\n",
       " 'h',\n",
       " 'o',\n",
       " 'k',\n",
       " ',',\n",
       " '8',\n",
       " '7',\n",
       " '9',\n",
       " '8',\n",
       " '7',\n",
       " '6',\n",
       " '5',\n",
       " '4',\n",
       " '6',\n",
       " '7',\n",
       " ',',\n",
       " 'a',\n",
       " 's',\n",
       " 'h',\n",
       " 'o',\n",
       " 'k',\n",
       " '1',\n",
       " '@',\n",
       " 'g',\n",
       " 'm',\n",
       " 'a',\n",
       " 'i',\n",
       " 'l',\n",
       " '.',\n",
       " 'c',\n",
       " 'o',\n",
       " 'm',\n",
       " '\\n',\n",
       " 'a',\n",
       " 'n',\n",
       " 'i',\n",
       " 'l',\n",
       " '2',\n",
       " '@',\n",
       " 'y',\n",
       " 'a',\n",
       " 'h',\n",
       " 'o',\n",
       " 'o',\n",
       " '.',\n",
       " 'c',\n",
       " 'o',\n",
       " 'm',\n",
       " ',',\n",
       " '2',\n",
       " '4',\n",
       " ',',\n",
       " 'a',\n",
       " 'n',\n",
       " 'i',\n",
       " 'l',\n",
       " ',',\n",
       " '2',\n",
       " '3',\n",
       " '4',\n",
       " '5',\n",
       " '6',\n",
       " '7',\n",
       " '8',\n",
       " '9',\n",
       " '0',\n",
       " '4',\n",
       " '\\n',\n",
       " '3',\n",
       " '4',\n",
       " '5',\n",
       " '6',\n",
       " '7',\n",
       " '8',\n",
       " '9',\n",
       " '2',\n",
       " '3',\n",
       " '4',\n",
       " ',',\n",
       " 'p',\n",
       " 'a',\n",
       " 'v',\n",
       " 'a',\n",
       " 'n',\n",
       " ',',\n",
       " '2',\n",
       " '5',\n",
       " ',',\n",
       " 'p',\n",
       " 'a',\n",
       " 'v',\n",
       " 'a',\n",
       " 'n',\n",
       " '2',\n",
       " '@',\n",
       " 'y',\n",
       " 'a',\n",
       " 'h',\n",
       " 'o',\n",
       " 'o',\n",
       " '.',\n",
       " 'c',\n",
       " 'o',\n",
       " '.',\n",
       " 'i',\n",
       " 'n',\n",
       " '\\n',\n",
       " '2',\n",
       " '6',\n",
       " ',',\n",
       " 'a',\n",
       " 's',\n",
       " 'h',\n",
       " 'o',\n",
       " 'k',\n",
       " ',',\n",
       " '8',\n",
       " '7',\n",
       " '9',\n",
       " '8',\n",
       " '7',\n",
       " '6',\n",
       " '5',\n",
       " '4',\n",
       " '6',\n",
       " '8',\n",
       " ',',\n",
       " 'a',\n",
       " 's',\n",
       " 'h',\n",
       " 'o',\n",
       " 'k',\n",
       " '2',\n",
       " '@',\n",
       " 'g',\n",
       " 'm',\n",
       " 'a',\n",
       " 'i',\n",
       " 'l',\n",
       " '.',\n",
       " 'c',\n",
       " 'o',\n",
       " 'm',\n",
       " '\\n',\n",
       " 'a',\n",
       " 'n',\n",
       " 'i',\n",
       " 'l',\n",
       " '3',\n",
       " '@',\n",
       " 'y',\n",
       " 'a',\n",
       " 'h',\n",
       " 'o',\n",
       " 'o',\n",
       " '.',\n",
       " 'c',\n",
       " 'o',\n",
       " 'm',\n",
       " ',',\n",
       " '2',\n",
       " '5',\n",
       " ',',\n",
       " 'a',\n",
       " 'n',\n",
       " 'i',\n",
       " 'l',\n",
       " ',',\n",
       " '2',\n",
       " '3',\n",
       " '4',\n",
       " '5',\n",
       " '6',\n",
       " '7',\n",
       " '8',\n",
       " '9',\n",
       " '0',\n",
       " '5',\n",
       " '\\n',\n",
       " '3',\n",
       " '4',\n",
       " '5',\n",
       " '6',\n",
       " '7',\n",
       " '8',\n",
       " '9',\n",
       " '2',\n",
       " '3',\n",
       " '5',\n",
       " ',',\n",
       " 'p',\n",
       " 'a',\n",
       " 'v',\n",
       " 'a',\n",
       " 'n',\n",
       " ',',\n",
       " '2',\n",
       " '5',\n",
       " ',',\n",
       " 'p',\n",
       " 'a',\n",
       " 'v',\n",
       " 'a',\n",
       " 'n',\n",
       " '3',\n",
       " '@',\n",
       " 'o',\n",
       " 'u',\n",
       " 't',\n",
       " 'l',\n",
       " 'o',\n",
       " 'o',\n",
       " 'k',\n",
       " '.',\n",
       " 'c',\n",
       " 'o',\n",
       " '.',\n",
       " 'i',\n",
       " 'n',\n",
       " '\\n',\n",
       " '\\n']"
      ]
     },
     "execution_count": 9,
     "metadata": {},
     "output_type": "execute_result"
    }
   ],
   "source": [
    "re.findall('.',data,re.DOTALL)"
   ]
  },
  {
   "cell_type": "code",
   "execution_count": 10,
   "metadata": {
    "collapsed": false
   },
   "outputs": [
    {
     "data": {
      "text/plain": [
       "['23',\n",
       " ',a',\n",
       " 'sh',\n",
       " 'ok',\n",
       " ',8',\n",
       " '79',\n",
       " '87',\n",
       " '65',\n",
       " '46',\n",
       " '7,',\n",
       " 'as',\n",
       " 'ho',\n",
       " 'k1',\n",
       " '@g',\n",
       " 'ma',\n",
       " 'il',\n",
       " '.c',\n",
       " 'om',\n",
       " 'an',\n",
       " 'il',\n",
       " '2@',\n",
       " 'ya',\n",
       " 'ho',\n",
       " 'o.',\n",
       " 'co',\n",
       " 'm,',\n",
       " '24',\n",
       " ',a',\n",
       " 'ni',\n",
       " 'l,',\n",
       " '23',\n",
       " '45',\n",
       " '67',\n",
       " '89',\n",
       " '04',\n",
       " '34',\n",
       " '56',\n",
       " '78',\n",
       " '92',\n",
       " '34',\n",
       " ',p',\n",
       " 'av',\n",
       " 'an',\n",
       " ',2',\n",
       " '5,',\n",
       " 'pa',\n",
       " 'va',\n",
       " 'n2',\n",
       " '@y',\n",
       " 'ah',\n",
       " 'oo',\n",
       " '.c',\n",
       " 'o.',\n",
       " 'in',\n",
       " '26',\n",
       " ',a',\n",
       " 'sh',\n",
       " 'ok',\n",
       " ',8',\n",
       " '79',\n",
       " '87',\n",
       " '65',\n",
       " '46',\n",
       " '8,',\n",
       " 'as',\n",
       " 'ho',\n",
       " 'k2',\n",
       " '@g',\n",
       " 'ma',\n",
       " 'il',\n",
       " '.c',\n",
       " 'om',\n",
       " 'an',\n",
       " 'il',\n",
       " '3@',\n",
       " 'ya',\n",
       " 'ho',\n",
       " 'o.',\n",
       " 'co',\n",
       " 'm,',\n",
       " '25',\n",
       " ',a',\n",
       " 'ni',\n",
       " 'l,',\n",
       " '23',\n",
       " '45',\n",
       " '67',\n",
       " '89',\n",
       " '05',\n",
       " '34',\n",
       " '56',\n",
       " '78',\n",
       " '92',\n",
       " '35',\n",
       " ',p',\n",
       " 'av',\n",
       " 'an',\n",
       " ',2',\n",
       " '5,',\n",
       " 'pa',\n",
       " 'va',\n",
       " 'n3',\n",
       " '@o',\n",
       " 'ut',\n",
       " 'lo',\n",
       " 'ok',\n",
       " '.c',\n",
       " 'o.',\n",
       " 'in']"
      ]
     },
     "execution_count": 10,
     "metadata": {},
     "output_type": "execute_result"
    }
   ],
   "source": [
    "re.findall('.{2}',data)"
   ]
  },
  {
   "cell_type": "code",
   "execution_count": 12,
   "metadata": {
    "collapsed": false
   },
   "outputs": [
    {
     "data": {
      "text/plain": [
       "['23,a',\n",
       " 'shok',\n",
       " ',879',\n",
       " '8765',\n",
       " '467,',\n",
       " 'asho',\n",
       " 'k1@g',\n",
       " 'mail',\n",
       " '.com',\n",
       " 'anil',\n",
       " '2@ya',\n",
       " 'hoo.',\n",
       " 'com,',\n",
       " '24,a',\n",
       " 'nil,',\n",
       " '2345',\n",
       " '6789',\n",
       " '3456',\n",
       " '7892',\n",
       " '34,p',\n",
       " 'avan',\n",
       " ',25,',\n",
       " 'pava',\n",
       " 'n2@y',\n",
       " 'ahoo',\n",
       " '.co.',\n",
       " '26,a',\n",
       " 'shok',\n",
       " ',879',\n",
       " '8765',\n",
       " '468,',\n",
       " 'asho',\n",
       " 'k2@g',\n",
       " 'mail',\n",
       " '.com',\n",
       " 'anil',\n",
       " '3@ya',\n",
       " 'hoo.',\n",
       " 'com,',\n",
       " '25,a',\n",
       " 'nil,',\n",
       " '2345',\n",
       " '6789',\n",
       " '3456',\n",
       " '7892',\n",
       " '35,p',\n",
       " 'avan',\n",
       " ',25,',\n",
       " 'pava',\n",
       " 'n3@o',\n",
       " 'utlo',\n",
       " 'ok.c',\n",
       " 'o.in']"
      ]
     },
     "execution_count": 12,
     "metadata": {},
     "output_type": "execute_result"
    }
   ],
   "source": [
    "re.findall('.{4}',data)"
   ]
  },
  {
   "cell_type": "code",
   "execution_count": 13,
   "metadata": {
    "collapsed": false
   },
   "outputs": [
    {
     "data": {
      "text/plain": [
       "['2',\n",
       " '3',\n",
       " '4',\n",
       " '1',\n",
       " '2',\n",
       " '2',\n",
       " '4',\n",
       " '2',\n",
       " '3',\n",
       " '4',\n",
       " '0',\n",
       " '4',\n",
       " '3',\n",
       " '4',\n",
       " '2',\n",
       " '3',\n",
       " '4',\n",
       " '2',\n",
       " '2',\n",
       " '2',\n",
       " '4',\n",
       " '2',\n",
       " '3',\n",
       " '2',\n",
       " '2',\n",
       " '3',\n",
       " '4',\n",
       " '0',\n",
       " '3',\n",
       " '4',\n",
       " '2',\n",
       " '3',\n",
       " '2',\n",
       " '3']"
      ]
     },
     "execution_count": 13,
     "metadata": {},
     "output_type": "execute_result"
    }
   ],
   "source": [
    "re.findall('[01234]',data)"
   ]
  },
  {
   "cell_type": "code",
   "execution_count": 14,
   "metadata": {
    "collapsed": false
   },
   "outputs": [
    {
     "data": {
      "text/plain": [
       "['2',\n",
       " '3',\n",
       " '8',\n",
       " '7',\n",
       " '9',\n",
       " '8',\n",
       " '7',\n",
       " '6',\n",
       " '5',\n",
       " '4',\n",
       " '6',\n",
       " '7',\n",
       " '1',\n",
       " '2',\n",
       " '2',\n",
       " '4',\n",
       " '2',\n",
       " '3',\n",
       " '4',\n",
       " '5',\n",
       " '6',\n",
       " '7',\n",
       " '8',\n",
       " '9',\n",
       " '0',\n",
       " '4',\n",
       " '3',\n",
       " '4',\n",
       " '5',\n",
       " '6',\n",
       " '7',\n",
       " '8',\n",
       " '9',\n",
       " '2',\n",
       " '3',\n",
       " '4',\n",
       " '2',\n",
       " '5',\n",
       " '2',\n",
       " '2',\n",
       " '6',\n",
       " '8',\n",
       " '7',\n",
       " '9',\n",
       " '8',\n",
       " '7',\n",
       " '6',\n",
       " '5',\n",
       " '4',\n",
       " '6',\n",
       " '8',\n",
       " '2',\n",
       " '3',\n",
       " '2',\n",
       " '5',\n",
       " '2',\n",
       " '3',\n",
       " '4',\n",
       " '5',\n",
       " '6',\n",
       " '7',\n",
       " '8',\n",
       " '9',\n",
       " '0',\n",
       " '5',\n",
       " '3',\n",
       " '4',\n",
       " '5',\n",
       " '6',\n",
       " '7',\n",
       " '8',\n",
       " '9',\n",
       " '2',\n",
       " '3',\n",
       " '5',\n",
       " '2',\n",
       " '5',\n",
       " '3']"
      ]
     },
     "execution_count": 14,
     "metadata": {},
     "output_type": "execute_result"
    }
   ],
   "source": [
    "re.findall('[0-9]',data)"
   ]
  },
  {
   "cell_type": "code",
   "execution_count": 15,
   "metadata": {
    "collapsed": false
   },
   "outputs": [
    {
     "data": {
      "text/plain": [
       "['87987',\n",
       " '65467',\n",
       " '23456',\n",
       " '78904',\n",
       " '34567',\n",
       " '89234',\n",
       " '87987',\n",
       " '65468',\n",
       " '23456',\n",
       " '78905',\n",
       " '34567',\n",
       " '89235']"
      ]
     },
     "execution_count": 15,
     "metadata": {},
     "output_type": "execute_result"
    }
   ],
   "source": [
    "re.findall('[0-9]{5}',data)"
   ]
  },
  {
   "cell_type": "code",
   "execution_count": 17,
   "metadata": {
    "collapsed": false
   },
   "outputs": [
    {
     "data": {
      "text/plain": [
       "['8798765467',\n",
       " '2345678904',\n",
       " '3456789234',\n",
       " '8798765468',\n",
       " '2345678905',\n",
       " '3456789235']"
      ]
     },
     "execution_count": 17,
     "metadata": {},
     "output_type": "execute_result"
    }
   ],
   "source": [
    "re.findall('[0-9]{10}',data)"
   ]
  },
  {
   "cell_type": "code",
   "execution_count": 18,
   "metadata": {
    "collapsed": false
   },
   "outputs": [
    {
     "data": {
      "text/plain": [
       "['8798765467',\n",
       " '2345678904',\n",
       " '3456789234',\n",
       " '8798765468',\n",
       " '2345678905',\n",
       " '3456789235']"
      ]
     },
     "execution_count": 18,
     "metadata": {},
     "output_type": "execute_result"
    }
   ],
   "source": [
    "re.findall('[0-9]{5,10}',data)"
   ]
  },
  {
   "cell_type": "code",
   "execution_count": 19,
   "metadata": {
    "collapsed": false
   },
   "outputs": [
    {
     "data": {
      "text/plain": [
       "['23',\n",
       " '',\n",
       " '',\n",
       " '',\n",
       " '',\n",
       " '',\n",
       " '',\n",
       " '',\n",
       " '8798765467',\n",
       " '',\n",
       " '',\n",
       " '',\n",
       " '',\n",
       " '',\n",
       " '',\n",
       " '1',\n",
       " '',\n",
       " '',\n",
       " '',\n",
       " '',\n",
       " '',\n",
       " '',\n",
       " '',\n",
       " '',\n",
       " '',\n",
       " '',\n",
       " '',\n",
       " '',\n",
       " '',\n",
       " '',\n",
       " '',\n",
       " '2',\n",
       " '',\n",
       " '',\n",
       " '',\n",
       " '',\n",
       " '',\n",
       " '',\n",
       " '',\n",
       " '',\n",
       " '',\n",
       " '',\n",
       " '',\n",
       " '24',\n",
       " '',\n",
       " '',\n",
       " '',\n",
       " '',\n",
       " '',\n",
       " '',\n",
       " '2345678904',\n",
       " '',\n",
       " '3456789234',\n",
       " '',\n",
       " '',\n",
       " '',\n",
       " '',\n",
       " '',\n",
       " '',\n",
       " '',\n",
       " '25',\n",
       " '',\n",
       " '',\n",
       " '',\n",
       " '',\n",
       " '',\n",
       " '',\n",
       " '2',\n",
       " '',\n",
       " '',\n",
       " '',\n",
       " '',\n",
       " '',\n",
       " '',\n",
       " '',\n",
       " '',\n",
       " '',\n",
       " '',\n",
       " '',\n",
       " '',\n",
       " '',\n",
       " '26',\n",
       " '',\n",
       " '',\n",
       " '',\n",
       " '',\n",
       " '',\n",
       " '',\n",
       " '',\n",
       " '8798765468',\n",
       " '',\n",
       " '',\n",
       " '',\n",
       " '',\n",
       " '',\n",
       " '',\n",
       " '2',\n",
       " '',\n",
       " '',\n",
       " '',\n",
       " '',\n",
       " '',\n",
       " '',\n",
       " '',\n",
       " '',\n",
       " '',\n",
       " '',\n",
       " '',\n",
       " '',\n",
       " '',\n",
       " '',\n",
       " '',\n",
       " '3',\n",
       " '',\n",
       " '',\n",
       " '',\n",
       " '',\n",
       " '',\n",
       " '',\n",
       " '',\n",
       " '',\n",
       " '',\n",
       " '',\n",
       " '',\n",
       " '25',\n",
       " '',\n",
       " '',\n",
       " '',\n",
       " '',\n",
       " '',\n",
       " '',\n",
       " '2345678905',\n",
       " '',\n",
       " '3456789235',\n",
       " '',\n",
       " '',\n",
       " '',\n",
       " '',\n",
       " '',\n",
       " '',\n",
       " '',\n",
       " '25',\n",
       " '',\n",
       " '',\n",
       " '',\n",
       " '',\n",
       " '',\n",
       " '',\n",
       " '3',\n",
       " '',\n",
       " '',\n",
       " '',\n",
       " '',\n",
       " '',\n",
       " '',\n",
       " '',\n",
       " '',\n",
       " '',\n",
       " '',\n",
       " '',\n",
       " '',\n",
       " '',\n",
       " '',\n",
       " '',\n",
       " '',\n",
       " '']"
      ]
     },
     "execution_count": 19,
     "metadata": {},
     "output_type": "execute_result"
    }
   ],
   "source": [
    "re.findall('[0-9]*',data)"
   ]
  },
  {
   "cell_type": "code",
   "execution_count": 20,
   "metadata": {
    "collapsed": false
   },
   "outputs": [
    {
     "name": "stdout",
     "output_type": "stream",
     "text": [
      "23,ashok,8798765467,ashok1@gmail.com\n",
      "anil2@yahoo.com,24,anil,2345678904\n",
      "3456789234,pavan,25,pavan2@yahoo.co.in\n",
      "26,ashok,8798765468,ashok2@gmail.com\n",
      "anil3@yahoo.com,25,anil,2345678905\n",
      "3456789235,pavan,25,pavan3@outlook.co.in\n",
      "\n",
      "\n"
     ]
    }
   ],
   "source": [
    "#re.findall('[0-9]*',data)\n",
    "print data "
   ]
  },
  {
   "cell_type": "code",
   "execution_count": 22,
   "metadata": {
    "collapsed": false
   },
   "outputs": [
    {
     "name": "stdout",
     "output_type": "stream",
     "text": [
      "['23', '8798765467', '1', '2', '24', '2345678904', '3456789234', '25', '2', '26', '8798765468', '2', '3', '25', '2345678905', '3456789235', '25', '3']\n",
      "23,ashok,8798765467,ashok1@gmail.com\n",
      "anil2@yahoo.com,24,anil,2345678904\n",
      "3456789234,pavan,25,pavan2@yahoo.co.in\n",
      "26,ashok,8798765468,ashok2@gmail.com\n",
      "anil3@yahoo.com,25,anil,2345678905\n",
      "3456789235,pavan,25,pavan3@outlook.co.in\n",
      "\n",
      "\n"
     ]
    }
   ],
   "source": [
    "print re.findall('[0-9]+',data)\n",
    "print data "
   ]
  },
  {
   "cell_type": "code",
   "execution_count": 23,
   "metadata": {
    "collapsed": false
   },
   "outputs": [
    {
     "name": "stdout",
     "output_type": "stream",
     "text": [
      "['2', '3', '', '', '', '', '', '', '', '8', '7', '9', '8', '7', '6', '5', '4', '6', '7', '', '', '', '', '', '', '1', '', '', '', '', '', '', '', '', '', '', '', '', '', '', '', '2', '', '', '', '', '', '', '', '', '', '', '', '2', '4', '', '', '', '', '', '', '2', '3', '4', '5', '6', '7', '8', '9', '0', '4', '', '3', '4', '5', '6', '7', '8', '9', '2', '3', '4', '', '', '', '', '', '', '', '2', '5', '', '', '', '', '', '', '2', '', '', '', '', '', '', '', '', '', '', '', '', '', '2', '6', '', '', '', '', '', '', '', '8', '7', '9', '8', '7', '6', '5', '4', '6', '8', '', '', '', '', '', '', '2', '', '', '', '', '', '', '', '', '', '', '', '', '', '', '', '3', '', '', '', '', '', '', '', '', '', '', '', '2', '5', '', '', '', '', '', '', '2', '3', '4', '5', '6', '7', '8', '9', '0', '5', '', '3', '4', '5', '6', '7', '8', '9', '2', '3', '5', '', '', '', '', '', '', '', '2', '5', '', '', '', '', '', '', '3', '', '', '', '', '', '', '', '', '', '', '', '', '', '', '', '', '']\n",
      "23,ashok,8798765467,ashok1@gmail.com\n",
      "anil2@yahoo.com,24,anil,2345678904\n",
      "3456789234,pavan,25,pavan2@yahoo.co.in\n",
      "26,ashok,8798765468,ashok2@gmail.com\n",
      "anil3@yahoo.com,25,anil,2345678905\n",
      "3456789235,pavan,25,pavan3@outlook.co.in\n",
      "\n",
      "\n"
     ]
    }
   ],
   "source": [
    "print re.findall('[0-9]?',data)\n",
    "print data "
   ]
  },
  {
   "cell_type": "code",
   "execution_count": 24,
   "metadata": {
    "collapsed": true
   },
   "outputs": [],
   "source": [
    "data = open('data1.txt').read()"
   ]
  },
  {
   "cell_type": "code",
   "execution_count": 25,
   "metadata": {
    "collapsed": false
   },
   "outputs": [
    {
     "name": "stdout",
     "output_type": "stream",
     "text": [
      "23,ashok,8798765467,ashok1@gmail.com\n",
      "anil2@yahoo.com,24,anil,2345678904\n",
      "3456789234,pavan,25,pavan2@yahoo.co.in\n",
      "26,ashok,8798765468,ashok2@gmail.com\n",
      "anil3@yahoo.com,25,anil,2345678905\n",
      "3456789235,pavan,27,pavan3@outlook.co.in\n",
      "3456789236,pavan,26,PAVAAAN4@outlook.co.in\n",
      "\n",
      "\n"
     ]
    }
   ],
   "source": [
    "print data"
   ]
  },
  {
   "cell_type": "code",
   "execution_count": 27,
   "metadata": {
    "collapsed": false
   },
   "outputs": [
    {
     "data": {
      "text/plain": [
       "['ashok1@gmail.com',\n",
       " 'anil2@yahoo.com',\n",
       " 'pavan2@yahoo.co.in',\n",
       " 'ashok2@gmail.com',\n",
       " 'anil3@yahoo.com',\n",
       " 'pavan3@outlook.co.in',\n",
       " 'PAVAAAN4@outlook.co.in']"
      ]
     },
     "execution_count": 27,
     "metadata": {},
     "output_type": "execute_result"
    }
   ],
   "source": [
    "re.findall('[a-zA-Z0-9]+@[a-z]+\\.[com]{2,3}\\.?[in]*',data)"
   ]
  },
  {
   "cell_type": "code",
   "execution_count": 28,
   "metadata": {
    "collapsed": true
   },
   "outputs": [],
   "source": [
    "# compile\n",
    "email_reg = re.compile('[a-zA-Z0-9]+@[a-z]+\\.[com]{2,3}\\.?[in]*')\n"
   ]
  },
  {
   "cell_type": "code",
   "execution_count": 29,
   "metadata": {
    "collapsed": false
   },
   "outputs": [
    {
     "data": {
      "text/plain": [
       "['ashok1@gmail.com',\n",
       " 'anil2@yahoo.com',\n",
       " 'pavan2@yahoo.co.in',\n",
       " 'ashok2@gmail.com',\n",
       " 'anil3@yahoo.com',\n",
       " 'pavan3@outlook.co.in',\n",
       " 'PAVAAAN4@outlook.co.in']"
      ]
     },
     "execution_count": 29,
     "metadata": {},
     "output_type": "execute_result"
    }
   ],
   "source": [
    "email_reg.findall(data)"
   ]
  },
  {
   "cell_type": "code",
   "execution_count": 30,
   "metadata": {
    "collapsed": false
   },
   "outputs": [
    {
     "data": {
      "text/plain": [
       "'23,ashok,8798765467,ashok1@gmail.com\\nanil2@yahoo.com,24,anil,2345678904\\n3456789234,pavan,25,pavan2@yahoo.co.in\\n26,ashok,8798765468,ashok2@gmail.com\\nanil3@yahoo.com,25,anil,2345678905\\n3456789235,pavan,27,pavan3@outlook.co.in\\n3456789236,pavan,26,PAVAAAN4@outlook.co.in\\n\\n'"
      ]
     },
     "execution_count": 30,
     "metadata": {},
     "output_type": "execute_result"
    }
   ],
   "source": [
    "data"
   ]
  },
  {
   "cell_type": "code",
   "execution_count": 31,
   "metadata": {
    "collapsed": true
   },
   "outputs": [],
   "source": [
    "# $^"
   ]
  },
  {
   "cell_type": "code",
   "execution_count": 32,
   "metadata": {
    "collapsed": false
   },
   "outputs": [
    {
     "data": {
      "text/plain": [
       "[]"
      ]
     },
     "execution_count": 32,
     "metadata": {},
     "output_type": "execute_result"
    }
   ],
   "source": [
    "re.findall('^[a-zA-Z0-9]+@[a-z]+\\.[com]{2,3}\\.?[in]*',data)"
   ]
  },
  {
   "cell_type": "code",
   "execution_count": 33,
   "metadata": {
    "collapsed": false
   },
   "outputs": [
    {
     "data": {
      "text/plain": [
       "[]"
      ]
     },
     "execution_count": 33,
     "metadata": {},
     "output_type": "execute_result"
    }
   ],
   "source": [
    "re.findall('[a-zA-Z0-9]+@[a-z]+\\.[com]{2,3}\\.?[in]*$',data)"
   ]
  },
  {
   "cell_type": "code",
   "execution_count": 41,
   "metadata": {
    "collapsed": false
   },
   "outputs": [],
   "source": [
    "re.match('[a-zA-Z0-9]+@[a-z]+\\.[com]{2,3}\\.?[in]*$',data)"
   ]
  },
  {
   "cell_type": "code",
   "execution_count": 42,
   "metadata": {
    "collapsed": false
   },
   "outputs": [
    {
     "data": {
      "text/plain": [
       "<_sre.SRE_Match at 0x7f1e287aac60>"
      ]
     },
     "execution_count": 42,
     "metadata": {},
     "output_type": "execute_result"
    }
   ],
   "source": [
    "re.search('[a-zA-Z0-9]+@[a-z]+\\.[com]{2,3}\\.?[in]*',data)"
   ]
  },
  {
   "cell_type": "code",
   "execution_count": 43,
   "metadata": {
    "collapsed": true
   },
   "outputs": [],
   "source": [
    "matched  = re.search('[a-zA-Z0-9]+@[a-z]+\\.[com]{2,3}\\.?[in]*',data)"
   ]
  },
  {
   "cell_type": "code",
   "execution_count": 44,
   "metadata": {
    "collapsed": false
   },
   "outputs": [
    {
     "data": {
      "text/plain": [
       "'ashok1@gmail.com'"
      ]
     },
     "execution_count": 44,
     "metadata": {},
     "output_type": "execute_result"
    }
   ],
   "source": [
    "matched.group(0)"
   ]
  },
  {
   "cell_type": "code",
   "execution_count": 48,
   "metadata": {
    "collapsed": false
   },
   "outputs": [
    {
     "name": "stdout",
     "output_type": "stream",
     "text": [
      "['anil2@yahoo.com', 'anil3@yahoo.com']\n",
      "23,ashok,8798765467,ashok1@gmail.com\n",
      "anil2@yahoo.com,24,anil,2345678904\n",
      "3456789234,pavan,25,pavan2@yahoo.co.in\n",
      "26,ashok,8798765468,ashok2@gmail.com\n",
      "anil3@yahoo.com,25,anil,2345678905\n",
      "3456789235,pavan,27,pavan3@outlook.co.in\n",
      "3456789236,pavan,26,PAVAAAN4@outlook.co.in\n",
      "\n",
      "\n"
     ]
    }
   ],
   "source": [
    "print re.findall('^[a-zA-Z0-9]+@[a-z]+\\.[com]{2,3}\\.?[in]*',data,re.I|re.M)\n",
    "print data"
   ]
  },
  {
   "cell_type": "code",
   "execution_count": 50,
   "metadata": {
    "collapsed": false
   },
   "outputs": [
    {
     "name": "stdout",
     "output_type": "stream",
     "text": [
      "['PAVAAAN4@outlook.co.in\\n']\n",
      "23,ashok,8798765467,ashok1@gmail.com\n",
      "anil2@yahoo.com,24,anil,2345678904\n",
      "3456789234,pavan,25,pavan2@yahoo.co.in\n",
      "26,ashok,8798765468,ashok2@gmail.com\n",
      "anil3@yahoo.com,25,anil,2345678905\n",
      "3456789235,pavan,27,pavan3@outlook.co.in\n",
      "3456789236,pavan,26,PAVAAAN4@outlook.co.in\n",
      "\n",
      "\n"
     ]
    }
   ],
   "source": [
    "print re.findall('[a-zA-Z0-9]+@[a-z]+\\.[com]{2,3}\\.?[in]*\\n$',data,re.I|re.M)\n",
    "print data"
   ]
  },
  {
   "cell_type": "code",
   "execution_count": 51,
   "metadata": {
    "collapsed": false
   },
   "outputs": [
    {
     "data": {
      "text/plain": [
       "'23,ashok,8798765467,ashok1@gmail.com\\nanil2@yahoo.com,24,anil,2345678904\\n3456789234,pavan,25,pavan2@yahoo.co.in\\n26,ashok,8798765468,ashok2@gmail.com\\nanil3@yahoo.com,25,anil,2345678905\\n3456789235,pavan,27,pavan3@outlook.co.in\\n3456789236,pavan,26,PAVAAAN4@outlook.co.in\\n\\n'"
      ]
     },
     "execution_count": 51,
     "metadata": {},
     "output_type": "execute_result"
    }
   ],
   "source": [
    "data"
   ]
  },
  {
   "cell_type": "code",
   "execution_count": null,
   "metadata": {
    "collapsed": true
   },
   "outputs": [],
   "source": []
  }
 ],
 "metadata": {
  "kernelspec": {
   "display_name": "Python 2",
   "language": "python",
   "name": "python2"
  },
  "language_info": {
   "codemirror_mode": {
    "name": "ipython",
    "version": 2
   },
   "file_extension": ".py",
   "mimetype": "text/x-python",
   "name": "python",
   "nbconvert_exporter": "python",
   "pygments_lexer": "ipython2",
   "version": "2.7.11"
  }
 },
 "nbformat": 4,
 "nbformat_minor": 0
}
