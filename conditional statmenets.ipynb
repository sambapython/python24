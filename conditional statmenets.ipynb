{
 "cells": [
  {
   "cell_type": "code",
   "execution_count": 1,
   "metadata": {
    "collapsed": false
   },
   "outputs": [
    {
     "data": {
      "text/plain": [
       "False"
      ]
     },
     "execution_count": 1,
     "metadata": {},
     "output_type": "execute_result"
    }
   ],
   "source": [
    "bool(10>20)"
   ]
  },
  {
   "cell_type": "code",
   "execution_count": 2,
   "metadata": {
    "collapsed": false
   },
   "outputs": [
    {
     "data": {
      "text/plain": [
       "True"
      ]
     },
     "execution_count": 2,
     "metadata": {},
     "output_type": "execute_result"
    }
   ],
   "source": [
    "bool(\"python\" in  \"python program\")"
   ]
  },
  {
   "cell_type": "code",
   "execution_count": 3,
   "metadata": {
    "collapsed": false
   },
   "outputs": [
    {
     "data": {
      "text/plain": [
       "True"
      ]
     },
     "execution_count": 3,
     "metadata": {},
     "output_type": "execute_result"
    }
   ],
   "source": [
    "bool('p' in \"python\")"
   ]
  },
  {
   "cell_type": "code",
   "execution_count": 4,
   "metadata": {
    "collapsed": false
   },
   "outputs": [
    {
     "data": {
      "text/plain": [
       "True"
      ]
     },
     "execution_count": 4,
     "metadata": {},
     "output_type": "execute_result"
    }
   ],
   "source": [
    "'p' in \"python\""
   ]
  },
  {
   "cell_type": "code",
   "execution_count": 5,
   "metadata": {
    "collapsed": false
   },
   "outputs": [
    {
     "data": {
      "text/plain": [
       "False"
      ]
     },
     "execution_count": 5,
     "metadata": {},
     "output_type": "execute_result"
    }
   ],
   "source": [
    "bool(0)"
   ]
  },
  {
   "cell_type": "code",
   "execution_count": 6,
   "metadata": {
    "collapsed": false
   },
   "outputs": [
    {
     "data": {
      "text/plain": [
       "True"
      ]
     },
     "execution_count": 6,
     "metadata": {},
     "output_type": "execute_result"
    }
   ],
   "source": [
    "bool(1)"
   ]
  },
  {
   "cell_type": "code",
   "execution_count": 7,
   "metadata": {
    "collapsed": false
   },
   "outputs": [
    {
     "data": {
      "text/plain": [
       "True"
      ]
     },
     "execution_count": 7,
     "metadata": {},
     "output_type": "execute_result"
    }
   ],
   "source": [
    "bool(\"python\")"
   ]
  },
  {
   "cell_type": "code",
   "execution_count": 8,
   "metadata": {
    "collapsed": false
   },
   "outputs": [
    {
     "data": {
      "text/plain": [
       "False"
      ]
     },
     "execution_count": 8,
     "metadata": {},
     "output_type": "execute_result"
    }
   ],
   "source": [
    "bool(\"\")"
   ]
  },
  {
   "cell_type": "code",
   "execution_count": 9,
   "metadata": {
    "collapsed": false
   },
   "outputs": [
    {
     "data": {
      "text/plain": [
       "True"
      ]
     },
     "execution_count": 9,
     "metadata": {},
     "output_type": "execute_result"
    }
   ],
   "source": [
    "bool(-10)"
   ]
  },
  {
   "cell_type": "code",
   "execution_count": 10,
   "metadata": {
    "collapsed": false
   },
   "outputs": [
    {
     "data": {
      "text/plain": [
       "False"
      ]
     },
     "execution_count": 10,
     "metadata": {},
     "output_type": "execute_result"
    }
   ],
   "source": [
    "bool([])"
   ]
  },
  {
   "cell_type": "code",
   "execution_count": 11,
   "metadata": {
    "collapsed": false
   },
   "outputs": [
    {
     "data": {
      "text/plain": [
       "True"
      ]
     },
     "execution_count": 11,
     "metadata": {},
     "output_type": "execute_result"
    }
   ],
   "source": [
    "bool([1,2,3])"
   ]
  },
  {
   "cell_type": "code",
   "execution_count": 12,
   "metadata": {
    "collapsed": false
   },
   "outputs": [
    {
     "data": {
      "text/plain": [
       "True"
      ]
     },
     "execution_count": 12,
     "metadata": {},
     "output_type": "execute_result"
    }
   ],
   "source": [
    "bool(\"0\")"
   ]
  },
  {
   "cell_type": "code",
   "execution_count": 13,
   "metadata": {
    "collapsed": false
   },
   "outputs": [
    {
     "data": {
      "text/plain": [
       "True"
      ]
     },
     "execution_count": 13,
     "metadata": {},
     "output_type": "execute_result"
    }
   ],
   "source": [
    "bool([0])"
   ]
  },
  {
   "cell_type": "code",
   "execution_count": 14,
   "metadata": {
    "collapsed": false
   },
   "outputs": [
    {
     "data": {
      "text/plain": [
       "True"
      ]
     },
     "execution_count": 14,
     "metadata": {},
     "output_type": "execute_result"
    }
   ],
   "source": [
    "bool((0,))"
   ]
  },
  {
   "cell_type": "code",
   "execution_count": 15,
   "metadata": {
    "collapsed": false
   },
   "outputs": [
    {
     "data": {
      "text/plain": [
       "False"
      ]
     },
     "execution_count": 15,
     "metadata": {},
     "output_type": "execute_result"
    }
   ],
   "source": [
    "bool((0))"
   ]
  },
  {
   "cell_type": "code",
   "execution_count": 16,
   "metadata": {
    "collapsed": false
   },
   "outputs": [
    {
     "name": "stdout",
     "output_type": "stream",
     "text": [
      "program started\n",
      "this is if block\n",
      "a>b is true\n",
      "other statments in program\n",
      "program ended\n"
     ]
    }
   ],
   "source": [
    "\"\"\"\n",
    "if condition:\n",
    "   if statements\n",
    "else:\n",
    "   else statements\n",
    "\"\"\"\n",
    "print \"program started\"\n",
    "a=10\n",
    "b=2\n",
    "if a>b:\n",
    "    print \"this is if block\"\n",
    "    print \"a>b is true\"\n",
    "else:\n",
    "    print \"this is else block\"\n",
    "    print \"a>b is false\"\n",
    "print \"other statments in program\"\n",
    "print \"program ended\""
   ]
  },
  {
   "cell_type": "code",
   "execution_count": 17,
   "metadata": {
    "collapsed": false
   },
   "outputs": [
    {
     "name": "stdout",
     "output_type": "stream",
     "text": [
      "program started\n",
      "this is else block\n",
      "a>b is false\n",
      "other statments in program\n",
      "program ended\n"
     ]
    }
   ],
   "source": [
    "print \"program started\"\n",
    "a=10\n",
    "b=20\n",
    "if a>b:\n",
    "    print \"this is if block\"\n",
    "    print \"a>b is true\"\n",
    "else:\n",
    "    print \"this is else block\"\n",
    "    print \"a>b is false\"\n",
    "print \"other statments in program\"\n",
    "print \"program ended\""
   ]
  },
  {
   "cell_type": "code",
   "execution_count": 18,
   "metadata": {
    "collapsed": false
   },
   "outputs": [
    {
     "name": "stdout",
     "output_type": "stream",
     "text": [
      "menu:\n",
      "1.windows\n",
      "2.llinux\n",
      "3.mac\n"
     ]
    }
   ],
   "source": [
    "'''\n",
    "menu:\n",
    "1.windows\n",
    "2.linux\n",
    "3.mac\n",
    "'''\n",
    "print \"menu:\\n1.windows\\n2.llinux\\n3.mac\""
   ]
  },
  {
   "cell_type": "code",
   "execution_count": 19,
   "metadata": {
    "collapsed": false
   },
   "outputs": [
    {
     "name": "stdout",
     "output_type": "stream",
     "text": [
      "menu:\n",
      "1.windows\n",
      "2.llinux\n",
      "3.mac\n",
      "Enter an option:1\n",
      "selected windows os\n"
     ]
    }
   ],
   "source": [
    "'''\n",
    "menu:\n",
    "1.windows\n",
    "2.linux\n",
    "3.mac\n",
    "'''\n",
    "print \"menu:\\n1.windows\\n2.llinux\\n3.mac\"\n",
    "flag = raw_input(\"Enter an option:\")\n",
    "if flag == \"1\":\n",
    "    print \"selected windows os\"\n",
    "if flag == \"2\":\n",
    "    print \"selected linux os\"\n",
    "if flag == \"3\":\n",
    "    print \"selected mac os\""
   ]
  },
  {
   "cell_type": "code",
   "execution_count": 20,
   "metadata": {
    "collapsed": false
   },
   "outputs": [
    {
     "name": "stdout",
     "output_type": "stream",
     "text": [
      "menu:\n",
      "1.windows\n",
      "2.llinux\n",
      "3.mac\n",
      "Enter an option:2\n",
      "selected linux os\n"
     ]
    }
   ],
   "source": [
    "print \"menu:\\n1.windows\\n2.llinux\\n3.mac\"\n",
    "flag = raw_input(\"Enter an option:\")\n",
    "if flag == \"1\":\n",
    "    print \"selected windows os\"\n",
    "if flag == \"2\":\n",
    "    print \"selected linux os\"\n",
    "if flag == \"3\":\n",
    "    print \"selected mac os\""
   ]
  },
  {
   "cell_type": "code",
   "execution_count": 21,
   "metadata": {
    "collapsed": false
   },
   "outputs": [
    {
     "name": "stdout",
     "output_type": "stream",
     "text": [
      "menu:\n",
      "1.windows\n",
      "2.llinux\n",
      "3.mac\n",
      "Enter an option:3\n",
      "selected mac os\n"
     ]
    }
   ],
   "source": [
    "print \"menu:\\n1.windows\\n2.llinux\\n3.mac\"\n",
    "flag = raw_input(\"Enter an option:\")\n",
    "if flag == \"1\":\n",
    "    print \"selected windows os\"\n",
    "if flag == \"2\":\n",
    "    print \"selected linux os\"\n",
    "if flag == \"3\":\n",
    "    print \"selected mac os\""
   ]
  },
  {
   "cell_type": "code",
   "execution_count": 23,
   "metadata": {
    "collapsed": false
   },
   "outputs": [
    {
     "name": "stdout",
     "output_type": "stream",
     "text": [
      "program started\n",
      "menu:\n",
      "1.windows\n",
      "2.llinux\n",
      "3.mac\n",
      "Enter an option:4\n",
      "other statments in program\n",
      "program ended\n"
     ]
    }
   ],
   "source": [
    "print \"program started\"\n",
    "print \"menu:\\n1.windows\\n2.llinux\\n3.mac\"\n",
    "flag = raw_input(\"Enter an option:\")\n",
    "if flag == \"1\":\n",
    "    print \"selected windows os\"\n",
    "if flag == \"2\":\n",
    "    print \"selected linux os\"\n",
    "if flag == \"3\":\n",
    "    print \"selected mac os\"\n",
    "print \"other statments in program\"\n",
    "print \"program ended\""
   ]
  },
  {
   "cell_type": "code",
   "execution_count": 24,
   "metadata": {
    "collapsed": false
   },
   "outputs": [
    {
     "name": "stdout",
     "output_type": "stream",
     "text": [
      "program started\n",
      "menu:\n",
      "1.windows\n",
      "2.llinux\n",
      "3.mac\n",
      "Enter an option:4\n",
      "selected wrong option\n",
      "other statments in program\n",
      "program ended\n"
     ]
    }
   ],
   "source": [
    "print \"program started\"\n",
    "print \"menu:\\n1.windows\\n2.llinux\\n3.mac\"\n",
    "flag = raw_input(\"Enter an option:\")\n",
    "if flag == \"1\":\n",
    "    print \"selected windows os\"\n",
    "if flag == \"2\":\n",
    "    print \"selected linux os\"\n",
    "if flag == \"3\":\n",
    "    print \"selected mac os\"\n",
    "else:\n",
    "    print \"selected wrong option\"\n",
    "print \"other statments in program\"\n",
    "print \"program ended\""
   ]
  },
  {
   "cell_type": "code",
   "execution_count": 25,
   "metadata": {
    "collapsed": false
   },
   "outputs": [
    {
     "name": "stdout",
     "output_type": "stream",
     "text": [
      "program started\n",
      "menu:\n",
      "1.windows\n",
      "2.llinux\n",
      "3.mac\n",
      "Enter an option:2\n",
      "selected linux os\n",
      "selected wrong option\n",
      "other statments in program\n",
      "program ended\n"
     ]
    }
   ],
   "source": [
    "print \"program started\"\n",
    "print \"menu:\\n1.windows\\n2.llinux\\n3.mac\"\n",
    "flag = raw_input(\"Enter an option:\")\n",
    "if flag == \"1\":\n",
    "    print \"selected windows os\"\n",
    "if flag == \"2\":\n",
    "    print \"selected linux os\"\n",
    "if flag == \"3\":\n",
    "    print \"selected mac os\"\n",
    "else:\n",
    "    print \"selected wrong option\"\n",
    "print \"other statments in program\"\n",
    "print \"program ended\""
   ]
  },
  {
   "cell_type": "code",
   "execution_count": 26,
   "metadata": {
    "collapsed": false
   },
   "outputs": [
    {
     "name": "stdout",
     "output_type": "stream",
     "text": [
      "program started\n",
      "menu:\n",
      "1.windows\n",
      "2.llinux\n",
      "3.mac\n",
      "Enter an option:2\n",
      "selected linux os\n",
      "other statments in program\n",
      "program ended\n"
     ]
    }
   ],
   "source": [
    "print \"program started\"\n",
    "print \"menu:\\n1.windows\\n2.llinux\\n3.mac\"\n",
    "flag = raw_input(\"Enter an option:\")\n",
    "if flag == \"1\":\n",
    "    print \"selected windows os\"\n",
    "elif flag == \"2\":\n",
    "    print \"selected linux os\"\n",
    "elif flag == \"3\":\n",
    "    print \"selected mac os\"\n",
    "else:\n",
    "    print \"selected wrong option\"\n",
    "print \"other statments in program\"\n",
    "print \"program ended\""
   ]
  },
  {
   "cell_type": "code",
   "execution_count": 28,
   "metadata": {
    "collapsed": false
   },
   "outputs": [
    {
     "name": "stdout",
     "output_type": "stream",
     "text": [
      "program started\n",
      "\n",
      "menu:\n",
      "1.windows\n",
      "2.llinux\n",
      "3.mac\n",
      "\n",
      "Enter an option:2\n",
      "selected linux os\n",
      "other statments in program\n",
      "program ended\n"
     ]
    }
   ],
   "source": [
    "print \"program started\"\n",
    "#print \"menu:\\n1.windows\\n2.llinux\\n3.mac\"\n",
    "print \"\"\"\n",
    "menu:\n",
    "1.windows\n",
    "2.llinux\n",
    "3.mac\n",
    "\"\"\"\n",
    "flag = raw_input(\"Enter an option:\")\n",
    "if flag == \"1\":\n",
    "    print \"selected windows os\"\n",
    "elif flag == \"2\":\n",
    "    print \"selected linux os\"\n",
    "elif flag == \"3\":\n",
    "    print \"selected mac os\"\n",
    "else:\n",
    "    print \"selected wrong option\"\n",
    "print \"other statments in program\"\n",
    "print \"program ended\""
   ]
  },
  {
   "cell_type": "code",
   "execution_count": 29,
   "metadata": {
    "collapsed": false
   },
   "outputs": [
    {
     "ename": "SyntaxError",
     "evalue": "EOL while scanning string literal (<ipython-input-29-58f7cc2e7f92>, line 1)",
     "output_type": "error",
     "traceback": [
      "\u001b[1;36m  File \u001b[1;32m\"<ipython-input-29-58f7cc2e7f92>\"\u001b[1;36m, line \u001b[1;32m1\u001b[0m\n\u001b[1;33m    print \"menu:\u001b[0m\n\u001b[1;37m               ^\u001b[0m\n\u001b[1;31mSyntaxError\u001b[0m\u001b[1;31m:\u001b[0m EOL while scanning string literal\n"
     ]
    }
   ],
   "source": [
    "print \"menu:\n",
    "1.windows\n",
    "2.linux\n",
    "3.mac\n",
    "\""
   ]
  },
  {
   "cell_type": "code",
   "execution_count": 30,
   "metadata": {
    "collapsed": false
   },
   "outputs": [
    {
     "name": "stdout",
     "output_type": "stream",
     "text": [
      "menu:1.windows2.linux3.mac\n"
     ]
    }
   ],
   "source": [
    "print \"menu:\\\n",
    "1.windows\\\n",
    "2.linux\\\n",
    "3.mac\\\n",
    "\""
   ]
  },
  {
   "cell_type": "code",
   "execution_count": null,
   "metadata": {
    "collapsed": true
   },
   "outputs": [],
   "source": [
    "a = 10\n",
    "a=[10,20,30,40]\n",
    "# take the number for thuse and chekc whether it is even number or not\n",
    "# which ic big\n",
    "# sub string check whether subdtring is there main string or not\n",
    "# take two values compre those are 3qual or not."
   ]
  }
 ],
 "metadata": {
  "kernelspec": {
   "display_name": "Python 2",
   "language": "python",
   "name": "python2"
  },
  "language_info": {
   "codemirror_mode": {
    "name": "ipython",
    "version": 2
   },
   "file_extension": ".py",
   "mimetype": "text/x-python",
   "name": "python",
   "nbconvert_exporter": "python",
   "pygments_lexer": "ipython2",
   "version": "2.7.11"
  }
 },
 "nbformat": 4,
 "nbformat_minor": 0
}
