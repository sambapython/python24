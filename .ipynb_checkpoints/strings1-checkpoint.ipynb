{
 "cells": [
  {
   "cell_type": "code",
   "execution_count": null,
   "metadata": {
    "collapsed": true
   },
   "outputs": [],
   "source": [
    "a=\"#$%\"\n",
    "if a:\n",
    "    if not a.islower() and not a.isdigit():\n",
    "        print \"Given string  contains capital lettelrs\"\n",
    "        \n",
    "    else:\n",
    "        print \"Given string does not contains capital lettelrs\"\n",
    "        \n",
    "else:\n",
    "    print \"Given string is empty\""
   ]
  },
  {
   "cell_type": "code",
   "execution_count": 1,
   "metadata": {
    "collapsed": false
   },
   "outputs": [
    {
     "data": {
      "text/plain": [
       "True"
      ]
     },
     "execution_count": 1,
     "metadata": {},
     "output_type": "execute_result"
    }
   ],
   "source": [
    "\"abldf\".isalpha()"
   ]
  },
  {
   "cell_type": "code",
   "execution_count": 2,
   "metadata": {
    "collapsed": false
   },
   "outputs": [
    {
     "data": {
      "text/plain": [
       "False"
      ]
     },
     "execution_count": 2,
     "metadata": {},
     "output_type": "execute_result"
    }
   ],
   "source": [
    "\"123abdnc\".isalpha()"
   ]
  },
  {
   "cell_type": "code",
   "execution_count": 3,
   "metadata": {
    "collapsed": false
   },
   "outputs": [
    {
     "data": {
      "text/plain": [
       "False"
      ]
     },
     "execution_count": 3,
     "metadata": {},
     "output_type": "execute_result"
    }
   ],
   "source": [
    "\"\".isalpha()"
   ]
  },
  {
   "cell_type": "code",
   "execution_count": 4,
   "metadata": {
    "collapsed": false
   },
   "outputs": [
    {
     "data": {
      "text/plain": [
       "False"
      ]
     },
     "execution_count": 4,
     "metadata": {},
     "output_type": "execute_result"
    }
   ],
   "source": [
    "\"abc#$%\".isalpha()"
   ]
  },
  {
   "cell_type": "code",
   "execution_count": 5,
   "metadata": {
    "collapsed": false
   },
   "outputs": [
    {
     "data": {
      "text/plain": [
       "True"
      ]
     },
     "execution_count": 5,
     "metadata": {},
     "output_type": "execute_result"
    }
   ],
   "source": [
    "\"abcd\".isalnum()"
   ]
  },
  {
   "cell_type": "code",
   "execution_count": 6,
   "metadata": {
    "collapsed": false
   },
   "outputs": [
    {
     "data": {
      "text/plain": [
       "True"
      ]
     },
     "execution_count": 6,
     "metadata": {},
     "output_type": "execute_result"
    }
   ],
   "source": [
    "\"wer123\".isalnum()"
   ]
  },
  {
   "cell_type": "code",
   "execution_count": 7,
   "metadata": {
    "collapsed": false
   },
   "outputs": [
    {
     "data": {
      "text/plain": [
       "False"
      ]
     },
     "execution_count": 7,
     "metadata": {},
     "output_type": "execute_result"
    }
   ],
   "source": [
    "\"wer2334$\".isalnum()"
   ]
  },
  {
   "cell_type": "code",
   "execution_count": 8,
   "metadata": {
    "collapsed": false
   },
   "outputs": [
    {
     "data": {
      "text/plain": [
       "True"
      ]
     },
     "execution_count": 8,
     "metadata": {},
     "output_type": "execute_result"
    }
   ],
   "source": [
    "\"123\".isalnum()"
   ]
  },
  {
   "cell_type": "code",
   "execution_count": 9,
   "metadata": {
    "collapsed": false
   },
   "outputs": [
    {
     "name": "stdout",
     "output_type": "stream",
     "text": [
      "Given string does not contains capital lettelrs\n"
     ]
    }
   ],
   "source": [
    "a=\"#$%\"\n",
    "if a:\n",
    "    if not a.islower() and not a.isdigit():\n",
    "        if a.isalnum():\n",
    "            print \"Given string  contains capital lettelrs\"\n",
    "        else:\n",
    "            print \"Given string does not contains capital lettelrs\"\n",
    "        \n",
    "    else:\n",
    "        print \"Given string does not contains capital lettelrs\"\n",
    "        \n",
    "else:\n",
    "    print \"Given string is empty\""
   ]
  },
  {
   "cell_type": "code",
   "execution_count": 10,
   "metadata": {
    "collapsed": false
   },
   "outputs": [
    {
     "name": "stdout",
     "output_type": "stream",
     "text": [
      "Given string does not contains capital lettelrs\n"
     ]
    }
   ],
   "source": [
    "a=\"#$%qwe\"\n",
    "if a:\n",
    "    if not a.islower() and not a.isdigit():\n",
    "        if a.isalnum():\n",
    "            print \"Given string  contains capital lettelrs\"\n",
    "        else:\n",
    "            print \"Given string does not contains capital lettelrs\"\n",
    "        \n",
    "    else:\n",
    "        print \"Given string does not contains capital lettelrs\"\n",
    "        \n",
    "else:\n",
    "    print \"Given string is empty\""
   ]
  },
  {
   "cell_type": "code",
   "execution_count": 12,
   "metadata": {
    "collapsed": false
   },
   "outputs": [
    {
     "name": "stdout",
     "output_type": "stream",
     "text": [
      "Given string  contains capital lettelrs\n"
     ]
    }
   ],
   "source": [
    "a=\"#$%qweACDF\"\n",
    "if a:\n",
    "    if not a.islower() and not a.isdigit():\n",
    "    \n",
    "        print \"Given string  contains capital lettelrs\"\n",
    "    else:\n",
    "        print \"Given string does not contains capital lettelrs\"\n",
    "        \n",
    "else:\n",
    "    print \"Given string is empty\""
   ]
  },
  {
   "cell_type": "code",
   "execution_count": 25,
   "metadata": {
    "collapsed": false
   },
   "outputs": [
    {
     "name": "stdout",
     "output_type": "stream",
     "text": [
      "Given string  contains capital lettelrs\n"
     ]
    }
   ],
   "source": [
    "a=\"@#$123\"  \n",
    "if a:\n",
    "    if not a.islower() and not a.isdigit():\n",
    "        \n",
    "        print \"Given string  contains capital lettelrs\"\n",
    "    else:\n",
    "        print \"Given string does not contains capital lettelrs\"\n",
    "        \n",
    "else:\n",
    "    print \"Given string is empty\""
   ]
  },
  {
   "cell_type": "code",
   "execution_count": 14,
   "metadata": {
    "collapsed": false
   },
   "outputs": [
    {
     "data": {
      "text/plain": [
       "True"
      ]
     },
     "execution_count": 14,
     "metadata": {},
     "output_type": "execute_result"
    }
   ],
   "source": [
    "\"asd\".isalnum()"
   ]
  },
  {
   "cell_type": "code",
   "execution_count": 15,
   "metadata": {
    "collapsed": false
   },
   "outputs": [
    {
     "data": {
      "text/plain": [
       "False"
      ]
     },
     "execution_count": 15,
     "metadata": {},
     "output_type": "execute_result"
    }
   ],
   "source": [
    "\"asf@#$\".isalnum()"
   ]
  },
  {
   "cell_type": "code",
   "execution_count": 27,
   "metadata": {
    "collapsed": false
   },
   "outputs": [],
   "source": [
    "def check_contailns_alphabets(s):\n",
    "    for char in s:\n",
    "        if char.isalpha():\n",
    "            return True\n",
    "    return False\n",
    "alpha = check_contailns_alphabets(\"awer@#$\")"
   ]
  },
  {
   "cell_type": "code",
   "execution_count": 28,
   "metadata": {
    "collapsed": false
   },
   "outputs": [
    {
     "name": "stdout",
     "output_type": "stream",
     "text": [
      "True\n"
     ]
    }
   ],
   "source": [
    "print alpha"
   ]
  },
  {
   "cell_type": "code",
   "execution_count": 30,
   "metadata": {
    "collapsed": false
   },
   "outputs": [
    {
     "name": "stdout",
     "output_type": "stream",
     "text": [
      "Given string does not contains capital lettelrs\n"
     ]
    }
   ],
   "source": [
    "def check_contailns_alphabets(s):\n",
    "    for char in s:\n",
    "        if char.isalpha():\n",
    "            return True\n",
    "    return False\n",
    "\n",
    "a=\"@#$123\"  \n",
    "if a:\n",
    "    if not a.islower() and not a.isdigit() and check_contailns_alphabets(a):\n",
    "        \n",
    "        print \"Given string  contains capital lettelrs\"\n",
    "    else:\n",
    "        print \"Given string does not contains capital lettelrs\"\n",
    "        \n",
    "else:\n",
    "    print \"Given string is empty\""
   ]
  },
  {
   "cell_type": "code",
   "execution_count": 32,
   "metadata": {
    "collapsed": false
   },
   "outputs": [
    {
     "name": "stdout",
     "output_type": "stream",
     "text": [
      "Enter a string: qewqe\n",
      "Given string does not contains capital lettelrs\n"
     ]
    }
   ],
   "source": [
    "\n",
    "def check_contailns_alphabets(s):\n",
    "    for char in s:\n",
    "        if char.isalpha():\n",
    "            return True\n",
    "    return False\n",
    "\n",
    "a= raw_input(\"Enter a string: \") \n",
    "if a:\n",
    "    if not a.islower() and not a.isdigit() and check_contailns_alphabets(a):\n",
    "        \n",
    "        print \"Given string  contains capital lettelrs\"\n",
    "    else:\n",
    "        print \"Given string does not contains capital lettelrs\"\n",
    "        \n",
    "else:\n",
    "    print \"Given string is empty\""
   ]
  },
  {
   "cell_type": "code",
   "execution_count": 33,
   "metadata": {
    "collapsed": false
   },
   "outputs": [
    {
     "name": "stdout",
     "output_type": "stream",
     "text": [
      "Enter a string: QWER\n",
      "Given string  contains capital lettelrs\n"
     ]
    }
   ],
   "source": [
    "\n",
    "def check_contailns_alphabets(s):\n",
    "    for char in s:\n",
    "        if char.isalpha():\n",
    "            return True\n",
    "    return False\n",
    "\n",
    "a= raw_input(\"Enter a string: \") \n",
    "if a:\n",
    "    if not a.islower() and not a.isdigit() and check_contailns_alphabets(a):\n",
    "        \n",
    "        print \"Given string  contains capital lettelrs\"\n",
    "    else:\n",
    "        print \"Given string does not contains capital lettelrs\"\n",
    "        \n",
    "else:\n",
    "    print \"Given string is empty\""
   ]
  },
  {
   "cell_type": "code",
   "execution_count": 34,
   "metadata": {
    "collapsed": false
   },
   "outputs": [
    {
     "name": "stdout",
     "output_type": "stream",
     "text": [
      "Enter a string: 123qwer\n",
      "Given string does not contains capital lettelrs\n"
     ]
    }
   ],
   "source": [
    "\n",
    "def check_contailns_alphabets(s):\n",
    "    for char in s:\n",
    "        if char.isalpha():\n",
    "            return True\n",
    "    return False\n",
    "\n",
    "a= raw_input(\"Enter a string: \") \n",
    "if a:\n",
    "    if not a.islower() and not a.isdigit() and check_contailns_alphabets(a):\n",
    "        \n",
    "        print \"Given string  contains capital lettelrs\"\n",
    "    else:\n",
    "        print \"Given string does not contains capital lettelrs\"\n",
    "        \n",
    "else:\n",
    "    print \"Given string is empty\""
   ]
  },
  {
   "cell_type": "code",
   "execution_count": 35,
   "metadata": {
    "collapsed": false
   },
   "outputs": [
    {
     "name": "stdout",
     "output_type": "stream",
     "text": [
      "Enter a string: 123QWE\n",
      "Given string  contains capital lettelrs\n"
     ]
    }
   ],
   "source": [
    "\n",
    "def check_contailns_alphabets(s):\n",
    "    for char in s:\n",
    "        if char.isalpha():\n",
    "            return True\n",
    "    return False\n",
    "\n",
    "a= raw_input(\"Enter a string: \") \n",
    "if a:\n",
    "    if not a.islower() and not a.isdigit() and check_contailns_alphabets(a):\n",
    "        \n",
    "        print \"Given string  contains capital lettelrs\"\n",
    "    else:\n",
    "        print \"Given string does not contains capital lettelrs\"\n",
    "        \n",
    "else:\n",
    "    print \"Given string is empty\""
   ]
  },
  {
   "cell_type": "code",
   "execution_count": 36,
   "metadata": {
    "collapsed": false
   },
   "outputs": [
    {
     "name": "stdout",
     "output_type": "stream",
     "text": [
      "Enter a string: 123qweQWE\n",
      "Given string  contains capital lettelrs\n"
     ]
    }
   ],
   "source": [
    "\n",
    "def check_contailns_alphabets(s):\n",
    "    for char in s:\n",
    "        if char.isalpha():\n",
    "            return True\n",
    "    return False\n",
    "\n",
    "a= raw_input(\"Enter a string: \") \n",
    "if a:\n",
    "    if not a.islower() and not a.isdigit() and check_contailns_alphabets(a):\n",
    "        \n",
    "        print \"Given string  contains capital lettelrs\"\n",
    "    else:\n",
    "        print \"Given string does not contains capital lettelrs\"\n",
    "        \n",
    "else:\n",
    "    print \"Given string is empty\""
   ]
  },
  {
   "cell_type": "code",
   "execution_count": 37,
   "metadata": {
    "collapsed": false
   },
   "outputs": [
    {
     "name": "stdout",
     "output_type": "stream",
     "text": [
      "Enter a string: 12@#$qwe\n",
      "Given string does not contains capital lettelrs\n"
     ]
    }
   ],
   "source": [
    "\n",
    "def check_contailns_alphabets(s):\n",
    "    for char in s:\n",
    "        if char.isalpha():\n",
    "            return True\n",
    "    return False\n",
    "\n",
    "a= raw_input(\"Enter a string: \") \n",
    "if a:\n",
    "    if not a.islower() and not a.isdigit() and check_contailns_alphabets(a):\n",
    "        \n",
    "        print \"Given string  contains capital lettelrs\"\n",
    "    else:\n",
    "        print \"Given string does not contains capital lettelrs\"\n",
    "        \n",
    "else:\n",
    "    print \"Given string is empty\""
   ]
  },
  {
   "cell_type": "code",
   "execution_count": 38,
   "metadata": {
    "collapsed": false
   },
   "outputs": [
    {
     "name": "stdout",
     "output_type": "stream",
     "text": [
      "Enter a string: 123@#$qweQWE\n",
      "Given string  contains capital lettelrs\n"
     ]
    }
   ],
   "source": [
    "\n",
    "def check_contailns_alphabets(s):\n",
    "    for char in s:\n",
    "        if char.isalpha():\n",
    "            return True\n",
    "    return False\n",
    "\n",
    "a= raw_input(\"Enter a string: \") \n",
    "if a:\n",
    "    if not a.islower() and not a.isdigit() and check_contailns_alphabets(a):\n",
    "        \n",
    "        print \"Given string  contains capital lettelrs\"\n",
    "    else:\n",
    "        print \"Given string does not contains capital lettelrs\"\n",
    "        \n",
    "else:\n",
    "    print \"Given string is empty\""
   ]
  },
  {
   "cell_type": "code",
   "execution_count": 39,
   "metadata": {
    "collapsed": false
   },
   "outputs": [
    {
     "name": "stdout",
     "output_type": "stream",
     "text": [
      "Enter a string: 123#$%WERasd\n",
      "Given string  contains capital lettelrs\n"
     ]
    }
   ],
   "source": [
    "\n",
    "def check_contailns_alphabets(s):\n",
    "    for char in s:\n",
    "        if char.isalpha():\n",
    "            return True\n",
    "    return False\n",
    "\n",
    "a= raw_input(\"Enter a string: \") \n",
    "if a:\n",
    "    if not a.islower() and not a.isdigit() and check_contailns_alphabets(a):\n",
    "        \n",
    "        print \"Given string  contains capital lettelrs\"\n",
    "    else:\n",
    "        print \"Given string does not contains capital lettelrs\"\n",
    "        \n",
    "else:\n",
    "    print \"Given string is empty\""
   ]
  },
  {
   "cell_type": "code",
   "execution_count": 40,
   "metadata": {
    "collapsed": false
   },
   "outputs": [
    {
     "name": "stdout",
     "output_type": "stream",
     "text": [
      "Enter a string: @#$\n",
      "Given string does not contains capital lettelrs\n"
     ]
    }
   ],
   "source": [
    "\n",
    "def check_contailns_alphabets(s):\n",
    "    for char in s:\n",
    "        if char.isalpha():\n",
    "            return True\n",
    "    return False\n",
    "\n",
    "a= raw_input(\"Enter a string: \") \n",
    "if a:\n",
    "    if not a.islower() and not a.isdigit() and check_contailns_alphabets(a):\n",
    "        \n",
    "        print \"Given string  contains capital lettelrs\"\n",
    "    else:\n",
    "        print \"Given string does not contains capital lettelrs\"\n",
    "        \n",
    "else:\n",
    "    print \"Given string is empty\""
   ]
  },
  {
   "cell_type": "code",
   "execution_count": 41,
   "metadata": {
    "collapsed": false
   },
   "outputs": [
    {
     "name": "stdout",
     "output_type": "stream",
     "text": [
      "Enter a string: @#$QWRR\n",
      "Given string  contains capital lettelrs\n"
     ]
    }
   ],
   "source": [
    "\n",
    "def check_contailns_alphabets(s):\n",
    "    for char in s:\n",
    "        if char.isalpha():\n",
    "            return True\n",
    "    return False\n",
    "\n",
    "a= raw_input(\"Enter a string: \") \n",
    "if a:\n",
    "    if not a.islower() and not a.isdigit() and check_contailns_alphabets(a):\n",
    "        \n",
    "        print \"Given string  contains capital lettelrs\"\n",
    "    else:\n",
    "        print \"Given string does not contains capital lettelrs\"\n",
    "        \n",
    "else:\n",
    "    print \"Given string is empty\""
   ]
  },
  {
   "cell_type": "code",
   "execution_count": 42,
   "metadata": {
    "collapsed": false
   },
   "outputs": [
    {
     "name": "stdout",
     "output_type": "stream",
     "text": [
      "Enter a string: @#$asd\n",
      "Given string does not contains capital lettelrs\n"
     ]
    }
   ],
   "source": [
    "\n",
    "def check_contailns_alphabets(s):\n",
    "    for char in s:\n",
    "        if char.isalpha():\n",
    "            return True\n",
    "    return False\n",
    "\n",
    "a= raw_input(\"Enter a string: \") \n",
    "if a:\n",
    "    if not a.islower() and not a.isdigit() and check_contailns_alphabets(a):\n",
    "        \n",
    "        print \"Given string  contains capital lettelrs\"\n",
    "    else:\n",
    "        print \"Given string does not contains capital lettelrs\"\n",
    "        \n",
    "else:\n",
    "    print \"Given string is empty\""
   ]
  },
  {
   "cell_type": "code",
   "execution_count": null,
   "metadata": {
    "collapsed": true
   },
   "outputs": [],
   "source": [
    "# user gives a sub string, find whether given string is there or not in actual string\n",
    "s=\"python program\"\n",
    "sub = raw_input(\"Enter a sub string to search: \")\n"
   ]
  },
  {
   "cell_type": "code",
   "execution_count": 44,
   "metadata": {
    "collapsed": false
   },
   "outputs": [
    {
     "data": {
      "text/plain": [
       "0"
      ]
     },
     "execution_count": 44,
     "metadata": {},
     "output_type": "execute_result"
    }
   ],
   "source": [
    "s=\"python program\"\n",
    "s.find(\"python\")"
   ]
  },
  {
   "cell_type": "code",
   "execution_count": 45,
   "metadata": {
    "collapsed": false
   },
   "outputs": [
    {
     "data": {
      "text/plain": [
       "7"
      ]
     },
     "execution_count": 45,
     "metadata": {},
     "output_type": "execute_result"
    }
   ],
   "source": [
    "s=\"python program\"\n",
    "s.find(\"pro\")"
   ]
  },
  {
   "cell_type": "code",
   "execution_count": 46,
   "metadata": {
    "collapsed": false
   },
   "outputs": [
    {
     "data": {
      "text/plain": [
       "-1"
      ]
     },
     "execution_count": 46,
     "metadata": {},
     "output_type": "execute_result"
    }
   ],
   "source": [
    "s=\"python program\"\n",
    "s.find(\"pg\")"
   ]
  },
  {
   "cell_type": "code",
   "execution_count": 47,
   "metadata": {
    "collapsed": false
   },
   "outputs": [
    {
     "data": {
      "text/plain": [
       "0"
      ]
     },
     "execution_count": 47,
     "metadata": {},
     "output_type": "execute_result"
    }
   ],
   "source": [
    "s=\"python program\"\n",
    "s.find(\"p\")"
   ]
  },
  {
   "cell_type": "code",
   "execution_count": 48,
   "metadata": {
    "collapsed": true
   },
   "outputs": [],
   "source": [
    "# write a program to find out tird occurance of the given suv string"
   ]
  },
  {
   "cell_type": "code",
   "execution_count": 49,
   "metadata": {
    "collapsed": false
   },
   "outputs": [
    {
     "data": {
      "text/plain": [
       "-1"
      ]
     },
     "execution_count": 49,
     "metadata": {},
     "output_type": "execute_result"
    }
   ],
   "source": [
    "s=\"python program\"\n",
    "s.find(\"PytHON\")"
   ]
  },
  {
   "cell_type": "code",
   "execution_count": 50,
   "metadata": {
    "collapsed": false
   },
   "outputs": [
    {
     "name": "stdout",
     "output_type": "stream",
     "text": [
      "Enter a sub string to search: python\n",
      "sub string:  python find at: 0\n"
     ]
    }
   ],
   "source": [
    "# user gives a sub string, find whether given string is there or not in actual string\n",
    "s=\"python program\"\n",
    "sub = raw_input(\"Enter a sub string to search: \")\n",
    "if s.find(sub)!= -1:\n",
    "    print \"sub string: \",sub, \"find at:\", s.find(sub)\n",
    "else:\n",
    "    print \"sub string not found\""
   ]
  },
  {
   "cell_type": "code",
   "execution_count": 51,
   "metadata": {
    "collapsed": false
   },
   "outputs": [
    {
     "name": "stdout",
     "output_type": "stream",
     "text": [
      "Enter a sub string to search: pro\n",
      "sub string:  pro find at: 7\n"
     ]
    }
   ],
   "source": [
    "# user gives a sub string, find whether given string is there or not in actual string\n",
    "s=\"python program\"\n",
    "sub = raw_input(\"Enter a sub string to search: \")\n",
    "if s.find(sub)!= -1:\n",
    "    print \"sub string: \",sub, \"find at:\", s.find(sub)\n",
    "else:\n",
    "    print \"sub string not found\""
   ]
  },
  {
   "cell_type": "code",
   "execution_count": 52,
   "metadata": {
    "collapsed": false
   },
   "outputs": [
    {
     "name": "stdout",
     "output_type": "stream",
     "text": [
      "Enter a sub string to search: PRO\n",
      "sub string not found\n"
     ]
    }
   ],
   "source": [
    "# user gives a sub string, find whether given string is there or not in actual string\n",
    "s=\"python program\"\n",
    "sub = raw_input(\"Enter a sub string to search: \")\n",
    "if s.find(sub)!= -1:\n",
    "    print \"sub string: \",sub, \"find at:\", s.find(sub)\n",
    "else:\n",
    "    print \"sub string not found\""
   ]
  },
  {
   "cell_type": "code",
   "execution_count": 53,
   "metadata": {
    "collapsed": false
   },
   "outputs": [
    {
     "name": "stdout",
     "output_type": "stream",
     "text": [
      "Enter a sub string to search: python\n",
      "sub string:  python find at: 0\n"
     ]
    }
   ],
   "source": [
    "# user gives a sub string, find whether given string is there or not in actual string\n",
    "s=\"python program\"\n",
    "sub = raw_input(\"Enter a sub string to search: \")\n",
    "res = s.find(sub)\n",
    "if res != -1:\n",
    "    print \"sub string: \",sub, \"find at:\", res\n",
    "else:\n",
    "    print \"sub string not found\""
   ]
  },
  {
   "cell_type": "code",
   "execution_count": 54,
   "metadata": {
    "collapsed": false
   },
   "outputs": [
    {
     "name": "stdout",
     "output_type": "stream",
     "text": [
      "Enter a sub string to search: pytho\n",
      "sub string:  pytho find at: 0\n"
     ]
    }
   ],
   "source": [
    "# user gives a sub string, find whether given string is there or not in actual string\n",
    "s=\"python program\"\n",
    "sub = raw_input(\"Enter a sub string to search: \")\n",
    "c_s = s.lower()\n",
    "c_sub = sub.lower()\n",
    "res = c_s.find(c_sub)\n",
    "if res != -1:\n",
    "    print \"sub string: \",sub, \"find at:\", res\n",
    "else:\n",
    "    print \"sub string not found\""
   ]
  },
  {
   "cell_type": "code",
   "execution_count": 55,
   "metadata": {
    "collapsed": false
   },
   "outputs": [
    {
     "name": "stdout",
     "output_type": "stream",
     "text": [
      "Enter a sub string to search: PYTHON\n",
      "sub string:  PYTHON find at: 0\n"
     ]
    }
   ],
   "source": [
    "# user gives a sub string, find whether given string is there or not in actual string\n",
    "s=\"python program\"\n",
    "sub = raw_input(\"Enter a sub string to search: \")\n",
    "c_s = s.lower()\n",
    "c_sub = sub.lower()\n",
    "res = c_s.find(c_sub)\n",
    "if res != -1:\n",
    "    print \"sub string: \",sub, \"find at:\", res\n",
    "else:\n",
    "    print \"sub string not found\""
   ]
  },
  {
   "cell_type": "code",
   "execution_count": 56,
   "metadata": {
    "collapsed": false
   },
   "outputs": [
    {
     "name": "stdout",
     "output_type": "stream",
     "text": [
      "Enter a sub string to search: PYThon\n",
      "sub string:  PYThon find at: 0\n"
     ]
    }
   ],
   "source": [
    "# user gives a sub string, find whether given string is there or not in actual string\n",
    "s=\"python program\"\n",
    "sub = raw_input(\"Enter a sub string to search: \")\n",
    "c_s = s.lower()\n",
    "c_sub = sub.lower()\n",
    "res = c_s.find(c_sub)\n",
    "if res != -1:\n",
    "    print \"sub string: \",sub, \"find at:\", res\n",
    "else:\n",
    "    print \"sub string not found\""
   ]
  },
  {
   "cell_type": "code",
   "execution_count": 57,
   "metadata": {
    "collapsed": false
   },
   "outputs": [
    {
     "data": {
      "text/plain": [
       "'python program'"
      ]
     },
     "execution_count": 57,
     "metadata": {},
     "output_type": "execute_result"
    }
   ],
   "source": [
    "s"
   ]
  },
  {
   "cell_type": "code",
   "execution_count": 58,
   "metadata": {
    "collapsed": false
   },
   "outputs": [
    {
     "data": {
      "text/plain": [
       "2"
      ]
     },
     "execution_count": 58,
     "metadata": {},
     "output_type": "execute_result"
    }
   ],
   "source": [
    "s.count('p')"
   ]
  },
  {
   "cell_type": "code",
   "execution_count": 59,
   "metadata": {
    "collapsed": false
   },
   "outputs": [
    {
     "data": {
      "text/plain": [
       "0"
      ]
     },
     "execution_count": 59,
     "metadata": {},
     "output_type": "execute_result"
    }
   ],
   "source": [
    "s.count('P')"
   ]
  },
  {
   "cell_type": "code",
   "execution_count": 60,
   "metadata": {
    "collapsed": false
   },
   "outputs": [
    {
     "data": {
      "text/plain": [
       "15"
      ]
     },
     "execution_count": 60,
     "metadata": {},
     "output_type": "execute_result"
    }
   ],
   "source": [
    "s.count('')"
   ]
  },
  {
   "cell_type": "code",
   "execution_count": 61,
   "metadata": {
    "collapsed": false
   },
   "outputs": [
    {
     "data": {
      "text/plain": [
       "1"
      ]
     },
     "execution_count": 61,
     "metadata": {},
     "output_type": "execute_result"
    }
   ],
   "source": [
    "s.count(' ')"
   ]
  },
  {
   "cell_type": "code",
   "execution_count": 62,
   "metadata": {
    "collapsed": false
   },
   "outputs": [
    {
     "data": {
      "text/plain": [
       "'python program'"
      ]
     },
     "execution_count": 62,
     "metadata": {},
     "output_type": "execute_result"
    }
   ],
   "source": [
    "s"
   ]
  },
  {
   "cell_type": "code",
   "execution_count": 63,
   "metadata": {
    "collapsed": false
   },
   "outputs": [
    {
     "data": {
      "text/plain": [
       "0"
      ]
     },
     "execution_count": 63,
     "metadata": {},
     "output_type": "execute_result"
    }
   ],
   "source": [
    "s.find('')"
   ]
  },
  {
   "cell_type": "code",
   "execution_count": 64,
   "metadata": {
    "collapsed": false
   },
   "outputs": [
    {
     "name": "stdout",
     "output_type": "stream",
     "text": [
      "Enter a sub string to search: \n",
      "sub string:   find at: 0\n"
     ]
    }
   ],
   "source": [
    "# user gives a sub string, find whether given string is there or not in actual string\n",
    "s=\"python program\"\n",
    "sub = raw_input(\"Enter a sub string to search: \")\n",
    "c_s = s.lower()\n",
    "c_sub = sub.lower()\n",
    "res = c_s.find(c_sub)\n",
    "if res != -1:\n",
    "    print \"sub string: \",sub, \"find at:\", res\n",
    "else:\n",
    "    print \"sub string not found\""
   ]
  },
  {
   "cell_type": "code",
   "execution_count": 65,
   "metadata": {
    "collapsed": false
   },
   "outputs": [
    {
     "name": "stdout",
     "output_type": "stream",
     "text": [
      "Enter a sub string to search: \n",
      "USer not given any data\n"
     ]
    }
   ],
   "source": [
    "# user gives a sub string, find whether given string is there or not in actual string\n",
    "s=\"python program\"\n",
    "sub = raw_input(\"Enter a sub string to search: \")\n",
    "if sub:\n",
    "    c_s = s.lower()\n",
    "    c_sub = sub.lower()\n",
    "    res = c_s.find(c_sub)\n",
    "    if res != -1:\n",
    "        print \"sub string: \",sub, \"find at:\", res\n",
    "    else:\n",
    "        print \"sub string not found\"\n",
    "else:\n",
    "    print \"USer not given any data\""
   ]
  },
  {
   "cell_type": "code",
   "execution_count": 67,
   "metadata": {
    "collapsed": false
   },
   "outputs": [
    {
     "name": "stdout",
     "output_type": "stream",
     "text": [
      "Enter a sub string to search: py\n",
      "given string found in the actual string\n"
     ]
    }
   ],
   "source": [
    "# user gives a sub string, find whether given string is there or not in actual string\n",
    "s=\"python program\"\n",
    "sub = raw_input(\"Enter a sub string to search: \")\n",
    "if sub:\n",
    "    c_s = s.lower()\n",
    "    c_sub = sub.lower()\n",
    "    res = c_s.count(c_sub)\n",
    "    if res >0 :\n",
    "        print \"given string found in the actual string\"\n",
    "    else:\n",
    "        print \"sub string not found\"\n",
    "else:\n",
    "    print \"USer not given any data\""
   ]
  },
  {
   "cell_type": "code",
   "execution_count": 68,
   "metadata": {
    "collapsed": false
   },
   "outputs": [
    {
     "name": "stdout",
     "output_type": "stream",
     "text": [
      "Enter a sub string to search: pgr\n",
      "sub string not found\n"
     ]
    }
   ],
   "source": [
    "# user gives a sub string, find whether given string is there or not in actual string\n",
    "s=\"python program\"\n",
    "sub = raw_input(\"Enter a sub string to search: \")\n",
    "if sub:\n",
    "    c_s = s.lower()\n",
    "    c_sub = sub.lower()\n",
    "    res = c_s.count(c_sub)\n",
    "    if res >0 :\n",
    "        print \"given string found in the actual string\"\n",
    "    else:\n",
    "        print \"sub string not found\"\n",
    "else:\n",
    "    print \"USer not given any data\""
   ]
  },
  {
   "cell_type": "code",
   "execution_count": 69,
   "metadata": {
    "collapsed": false
   },
   "outputs": [
    {
     "name": "stdout",
     "output_type": "stream",
     "text": [
      "Enter a sub string to search: \n",
      "USer not given any data\n"
     ]
    }
   ],
   "source": [
    "# user gives a sub string, find whether given string is there or not in actual string\n",
    "s=\"python program\"\n",
    "sub = raw_input(\"Enter a sub string to search: \")\n",
    "if sub:\n",
    "    c_s = s.lower()\n",
    "    c_sub = sub.lower()\n",
    "    res = c_s.count(c_sub)\n",
    "    if res >0 :\n",
    "        print \"given string found in the actual string\"\n",
    "    else:\n",
    "        print \"sub string not found\"\n",
    "else:\n",
    "    print \"USer not given any data\""
   ]
  },
  {
   "cell_type": "code",
   "execution_count": 70,
   "metadata": {
    "collapsed": false
   },
   "outputs": [
    {
     "data": {
      "text/plain": [
       "'python program'"
      ]
     },
     "execution_count": 70,
     "metadata": {},
     "output_type": "execute_result"
    }
   ],
   "source": [
    "s"
   ]
  },
  {
   "cell_type": "code",
   "execution_count": 71,
   "metadata": {
    "collapsed": false
   },
   "outputs": [
    {
     "data": {
      "text/plain": [
       "0"
      ]
     },
     "execution_count": 71,
     "metadata": {},
     "output_type": "execute_result"
    }
   ],
   "source": [
    "s.index(\"py\")"
   ]
  },
  {
   "cell_type": "code",
   "execution_count": 72,
   "metadata": {
    "collapsed": false
   },
   "outputs": [
    {
     "ename": "ValueError",
     "evalue": "substring not found",
     "output_type": "error",
     "traceback": [
      "\u001b[1;31m---------------------------------------------------------------------------\u001b[0m",
      "\u001b[1;31mValueError\u001b[0m                                Traceback (most recent call last)",
      "\u001b[1;32m<ipython-input-72-d77c497b1a09>\u001b[0m in \u001b[0;36m<module>\u001b[1;34m()\u001b[0m\n\u001b[1;32m----> 1\u001b[1;33m \u001b[0ms\u001b[0m\u001b[1;33m.\u001b[0m\u001b[0mindex\u001b[0m\u001b[1;33m(\u001b[0m\u001b[1;34m\"pgr\"\u001b[0m\u001b[1;33m)\u001b[0m\u001b[1;33m\u001b[0m\u001b[0m\n\u001b[0m",
      "\u001b[1;31mValueError\u001b[0m: substring not found"
     ]
    }
   ],
   "source": [
    "s.index(\"pgr\")"
   ]
  },
  {
   "cell_type": "code",
   "execution_count": 74,
   "metadata": {
    "collapsed": false
   },
   "outputs": [],
   "source": [
    "password = \"pasword1\"\n",
    "db_p = password.encode('base64')"
   ]
  },
  {
   "cell_type": "code",
   "execution_count": 75,
   "metadata": {
    "collapsed": false
   },
   "outputs": [
    {
     "name": "stdout",
     "output_type": "stream",
     "text": [
      "pasword1 cGFzd29yZDE=\n",
      "\n"
     ]
    }
   ],
   "source": [
    "print password,db_p"
   ]
  },
  {
   "cell_type": "code",
   "execution_count": 77,
   "metadata": {
    "collapsed": false
   },
   "outputs": [
    {
     "name": "stdout",
     "output_type": "stream",
     "text": [
      "passwords are matched\n"
     ]
    }
   ],
   "source": [
    "p2 = \"pasword1\"\n",
    "p2_en = p2.encode(\"base64\")\n",
    "if db_p == p2_en:\n",
    "    print \"passwords are matched\"\n",
    "else:\n",
    "    print \"passswords are not matched\""
   ]
  },
  {
   "cell_type": "code",
   "execution_count": 79,
   "metadata": {
    "collapsed": false
   },
   "outputs": [
    {
     "name": "stdout",
     "output_type": "stream",
     "text": [
      "passswords are not matched\n"
     ]
    }
   ],
   "source": [
    "p2 = \"paswordwerw\"\n",
    "p2_en = p2.encode(\"base64\")\n",
    "if db_p == p2_en:\n",
    "    print \"passwords are matched\"\n",
    "else:\n",
    "    print \"passswords are not matched\""
   ]
  },
  {
   "cell_type": "code",
   "execution_count": 80,
   "metadata": {
    "collapsed": false
   },
   "outputs": [
    {
     "name": "stdout",
     "output_type": "stream",
     "text": [
      "passwords are matched\n"
     ]
    }
   ],
   "source": [
    "p2 = \"pasword1\"\n",
    "db_p_de = db_p.decode(\"base64\")\n",
    "if db_p_de == p2:\n",
    "    print \"passwords are matched\"\n",
    "else:\n",
    "    print \"passswords are not matched\""
   ]
  },
  {
   "cell_type": "code",
   "execution_count": 81,
   "metadata": {
    "collapsed": false
   },
   "outputs": [
    {
     "name": "stdout",
     "output_type": "stream",
     "text": [
      "14\n"
     ]
    }
   ],
   "source": [
    "box_size = 25\n",
    "print len(s)"
   ]
  },
  {
   "cell_type": "code",
   "execution_count": 82,
   "metadata": {
    "collapsed": false
   },
   "outputs": [
    {
     "data": {
      "text/plain": [
       "'python program'"
      ]
     },
     "execution_count": 82,
     "metadata": {},
     "output_type": "execute_result"
    }
   ],
   "source": [
    "s"
   ]
  },
  {
   "cell_type": "code",
   "execution_count": 83,
   "metadata": {
    "collapsed": false
   },
   "outputs": [
    {
     "data": {
      "text/plain": [
       "'      python program     '"
      ]
     },
     "execution_count": 83,
     "metadata": {},
     "output_type": "execute_result"
    }
   ],
   "source": [
    "s.center(box_size)"
   ]
  },
  {
   "cell_type": "code",
   "execution_count": 84,
   "metadata": {
    "collapsed": false
   },
   "outputs": [
    {
     "name": "stdout",
     "output_type": "stream",
     "text": [
      "python program\n",
      "      python program     \n"
     ]
    }
   ],
   "source": [
    "print s\n",
    "print s.center(25)"
   ]
  },
  {
   "cell_type": "code",
   "execution_count": 85,
   "metadata": {
    "collapsed": false
   },
   "outputs": [
    {
     "name": "stdout",
     "output_type": "stream",
     "text": [
      "python program\n",
      "$$$$$$python program$$$$$\n"
     ]
    }
   ],
   "source": [
    "print s\n",
    "print s.center(25,'$')"
   ]
  },
  {
   "cell_type": "code",
   "execution_count": 86,
   "metadata": {
    "collapsed": false
   },
   "outputs": [
    {
     "name": "stdout",
     "output_type": "stream",
     "text": [
      "python program\n",
      "python program\n"
     ]
    }
   ],
   "source": [
    "print s\n",
    "print s.center(10)"
   ]
  },
  {
   "cell_type": "code",
   "execution_count": null,
   "metadata": {
    "collapsed": true
   },
   "outputs": [],
   "source": [
    "wwwwwwwwwwwwwwwwwwwwwwwwwwwwwwwwwwwwwwwwwwwwwwwwwwwwwwwwwwwwwwwwwwwwwwwwwwwwwwwwwwwwwwww"
   ]
  },
  {
   "cell_type": "code",
   "execution_count": 87,
   "metadata": {
    "collapsed": false
   },
   "outputs": [
    {
     "data": {
      "text/plain": [
       "'python program           '"
      ]
     },
     "execution_count": 87,
     "metadata": {},
     "output_type": "execute_result"
    }
   ],
   "source": [
    "s.ljust(25)"
   ]
  },
  {
   "cell_type": "code",
   "execution_count": 88,
   "metadata": {
    "collapsed": false
   },
   "outputs": [
    {
     "data": {
      "text/plain": [
       "'           python program'"
      ]
     },
     "execution_count": 88,
     "metadata": {},
     "output_type": "execute_result"
    }
   ],
   "source": [
    "s.rjust(25)"
   ]
  },
  {
   "cell_type": "code",
   "execution_count": 89,
   "metadata": {
    "collapsed": false
   },
   "outputs": [
    {
     "data": {
      "text/plain": [
       "'python program'"
      ]
     },
     "execution_count": 89,
     "metadata": {},
     "output_type": "execute_result"
    }
   ],
   "source": [
    "s.ljust(10)"
   ]
  },
  {
   "cell_type": "code",
   "execution_count": 90,
   "metadata": {
    "collapsed": false
   },
   "outputs": [
    {
     "data": {
      "text/plain": [
       "'python program'"
      ]
     },
     "execution_count": 90,
     "metadata": {},
     "output_type": "execute_result"
    }
   ],
   "source": [
    "s.ljust(-1)"
   ]
  },
  {
   "cell_type": "code",
   "execution_count": null,
   "metadata": {
    "collapsed": true
   },
   "outputs": [],
   "source": [
    "# https://github.com/sambapython/python/blob/master/assignments.txt\n",
    "\n",
    "#https://github.com/sambapython/python24"
   ]
  }
 ],
 "metadata": {
  "kernelspec": {
   "display_name": "Python 2",
   "language": "python",
   "name": "python2"
  },
  "language_info": {
   "codemirror_mode": {
    "name": "ipython",
    "version": 2
   },
   "file_extension": ".py",
   "mimetype": "text/x-python",
   "name": "python",
   "nbconvert_exporter": "python",
   "pygments_lexer": "ipython2",
   "version": "2.7.11"
  }
 },
 "nbformat": 4,
 "nbformat_minor": 0
}
