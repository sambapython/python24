{
 "cells": [
  {
   "cell_type": "code",
   "execution_count": 1,
   "metadata": {
    "collapsed": true
   },
   "outputs": [],
   "source": [
    "import os"
   ]
  },
  {
   "cell_type": "code",
   "execution_count": 2,
   "metadata": {
    "collapsed": false
   },
   "outputs": [
    {
     "data": {
      "text/plain": [
       "0"
      ]
     },
     "execution_count": 2,
     "metadata": {},
     "output_type": "execute_result"
    }
   ],
   "source": [
    "os.system('mkdir folder1')"
   ]
  },
  {
   "cell_type": "code",
   "execution_count": 3,
   "metadata": {
    "collapsed": true
   },
   "outputs": [],
   "source": [
    "import subprocess"
   ]
  },
  {
   "cell_type": "code",
   "execution_count": 6,
   "metadata": {
    "collapsed": false
   },
   "outputs": [
    {
     "data": {
      "text/plain": [
       "'USER       PID %CPU %MEM    VSZ   RSS TTY      STAT START   TIME COMMAND\\nroot         1  0.0  0.1 185104  5832 ?        Ss   Jan26   0:06 /sbin/init splash\\nroot         2  0.0  0.0      0     0 ?        S    Jan26   0:00 [kthreadd]\\nroot         3  0.0  0.0      0     0 ?        S    Jan26   0:00 [ksoftirqd/0]\\nroot         5  0.0  0.0      0     0 ?        S<   Jan26   0:00 [kworker/0:0H]\\nroot         7  0.0  0.0      0     0 ?        S    Jan26   0:07 [rcu_sched]\\nroot         8  0.0  0.0      0     0 ?        S    Jan26   0:00 [rcu_bh]\\nroot         9  0.0  0.0      0     0 ?        S    Jan26   0:05 [rcuos/0]\\nroot        10  0.0  0.0      0     0 ?        S    Jan26   0:00 [rcuob/0]\\nroot        11  0.0  0.0      0     0 ?        S    Jan26   0:00 [migration/0]\\nroot        12  0.0  0.0      0     0 ?        S    Jan26   0:00 [watchdog/0]\\nroot        13  0.0  0.0      0     0 ?        S<   Jan26   0:00 [khelper]\\nroot        14  0.0  0.0      0     0 ?        S    Jan26   0:00 [kdevtmpfs]\\nroot        15  0.0  0.0      0     0 ?        S<   Jan26   0:00 [netns]\\nroot        16  0.0  0.0      0     0 ?        S<   Jan26   0:00 [perf]\\nroot        17  0.0  0.0      0     0 ?        S    Jan26   0:00 [khungtaskd]\\nroot        18  0.0  0.0      0     0 ?        S<   Jan26   0:00 [writeback]\\nroot        19  0.0  0.0      0     0 ?        SN   Jan26   0:00 [ksmd]\\nroot        20  0.0  0.0      0     0 ?        SN   Jan26   0:17 [khugepaged]\\nroot        21  0.0  0.0      0     0 ?        S<   Jan26   0:00 [crypto]\\nroot        22  0.0  0.0      0     0 ?        S<   Jan26   0:00 [kintegrityd]\\nroot        23  0.0  0.0      0     0 ?        S<   Jan26   0:00 [bioset]\\nroot        24  0.0  0.0      0     0 ?        S<   Jan26   0:00 [kblockd]\\nroot        25  0.0  0.0      0     0 ?        S<   Jan26   0:00 [ata_sff]\\nroot        26  0.0  0.0      0     0 ?        S<   Jan26   0:00 [md]\\nroot        27  0.0  0.0      0     0 ?        S<   Jan26   0:00 [devfreq_wq]\\nroot        30  0.0  0.0      0     0 ?        S    Jan26   0:00 [kswapd0]\\nroot        31  0.0  0.0      0     0 ?        S<   Jan26   0:00 [vmstat]\\nroot        32  0.0  0.0      0     0 ?        S    Jan26   0:00 [fsnotify_mark]\\nroot        33  0.0  0.0      0     0 ?        S    Jan26   0:00 [ecryptfs-kthrea]\\nroot        44  0.0  0.0      0     0 ?        S<   Jan26   0:00 [kthrotld]\\nroot        45  0.0  0.0      0     0 ?        S<   Jan26   0:00 [acpi_thermal_pm]\\nroot        46  0.0  0.0      0     0 ?        S    Jan26   0:00 [scsi_eh_0]\\nroot        47  0.0  0.0      0     0 ?        S<   Jan26   0:00 [scsi_tmf_0]\\nroot        48  0.0  0.0      0     0 ?        S    Jan26   0:00 [scsi_eh_1]\\nroot        49  0.0  0.0      0     0 ?        S<   Jan26   0:00 [scsi_tmf_1]\\nroot        54  0.0  0.0      0     0 ?        S<   Jan26   0:00 [ipv6_addrconf]\\nroot        74  0.0  0.0      0     0 ?        S<   Jan26   0:00 [deferwq]\\nroot        75  0.0  0.0      0     0 ?        S<   Jan26   0:00 [charger_manager]\\nroot       115  0.0  0.0      0     0 ?        S<   Jan26   0:00 [kpsmoused]\\nroot       116  0.0  0.0      0     0 ?        S<   Jan26   0:01 [kworker/0:1H]\\nroot       117  0.0  0.0      0     0 ?        S    Jan26   0:00 [scsi_eh_2]\\nroot       118  0.0  0.0      0     0 ?        S<   Jan26   0:00 [scsi_tmf_2]\\nroot       144  0.0  0.0      0     0 ?        S    Jan26   0:04 [jbd2/sda1-8]\\nroot       145  0.0  0.0      0     0 ?        S<   Jan26   0:00 [ext4-rsv-conver]\\nroot       186  0.0  0.0      0     0 ?        S    Jan26   0:00 [kauditd]\\nroot       198  0.0  0.1  32352  4856 ?        Ss   Jan26   0:02 /lib/systemd/systemd-journald\\nroot       212  0.0  0.1  45584  5012 ?        Ss   Jan26   0:02 /lib/systemd/systemd-udevd\\nsystemd+   304  0.0  0.0 102356  2656 ?        Ssl  Jan26   0:00 /lib/systemd/systemd-timesyncd\\nroot       367  0.0  0.0      0     0 ?        S<   Jan26   0:00 [iprt-VBoxWQueue]\\nroot       510  0.0  0.0  28792  3440 ?        Ss   Jan26   0:00 /lib/systemd/systemd-logind\\nroot       511  0.0  0.0  33124  3116 ?        Ss   Jan26   0:00 /usr/sbin/cron -f\\nroot       516  0.0  0.2 337296 10836 ?        Ssl  Jan26   0:00 /usr/sbin/ModemManager\\nwhoopsie   517  0.0  0.3 529432 14252 ?        Ssl  Jan26   0:00 /usr/bin/whoopsie -f\\nsyslog     518  0.0  0.0 256372  3508 ?        Ssl  Jan26   0:00 /usr/sbin/rsyslogd -n\\nmessage+   527  0.0  0.1  44260  5244 ?        Ss   Jan26   0:08 /usr/bin/dbus-daemon --system --address=systemd: --nofork --nopidfile --systemd-activation\\nroot       566  0.0  0.3 381716 14660 ?        Ssl  Jan26   0:01 /usr/sbin/NetworkManager --no-daemon\\navahi      568  0.0  0.0  40180  3536 ?        Ss   Jan26   0:00 avahi-daemon: running [tcloudost-VirtualBox.local]\\nroot       571  0.0  0.0  25180  2624 ?        Ss   Jan26   0:00 /sbin/cgmanager -m name=systemd\\nroot       576  0.0  0.1 287312  7004 ?        Ssl  Jan26   0:03 /usr/lib/accountsservice/accounts-daemon\\nroot       596  0.0  0.2 285888 10468 ?        Ssl  Jan26   0:01 /usr/lib/policykit-1/polkitd --no-debug\\navahi      605  0.0  0.0  40068   320 ?        S    Jan26   0:00 avahi-daemon: chroot helper\\nroot       610  0.0  0.2 272356  9068 ?        Ssl  Jan26   0:00 /usr/sbin/cups-browsed\\nroot       626  0.0  0.0 247744  2124 ?        Sl   Jan26   0:13 /usr/sbin/VBoxService\\nroot       639  0.0  0.1  69932  6024 ?        Ss   Jan26   0:00 /usr/sbin/sshd -D\\nmysql      642  0.0  0.0   4476  1764 ?        Ss   Jan26   0:00 /bin/sh /usr/bin/mysqld_safe\\nroot       737  0.0  0.1  39192  4912 ?        Ss   Jan26   0:00 /sbin/wpa_supplicant -u -s -O /run/wpa_supplicant\\nnobody     902  0.0  0.1  52288  4096 ?        S    Jan26   0:01 /usr/sbin/dnsmasq --no-resolv --keep-in-foreground --no-hosts --bind-interfaces --pid-file=/run/sendsigs.omit.d/network-manager.dnsmasq.pid --listen-address=127.0.1.1 --conf-file=/var/run/NetworkManager/dnsmasq.conf --cache-size=0 --proxy-dnssec --enable-dbus=org.freedesktop.NetworkManager.dnsmasq --conf-dir=/etc/NetworkManager/dnsmasq.d\\npostgres   980  0.0  0.5 293632 24252 ?        S    Jan26   0:09 /usr/lib/postgresql/9.4/bin/postgres -D /var/lib/postgresql/9.4/main -c config_file=/etc/postgresql/9.4/main/postgresql.conf\\nmysql     1070  0.0  3.0 737464 124520 ?       Sl   Jan26   0:29 /usr/sbin/mysqld --basedir=/usr --datadir=/var/lib/mysql --plugin-dir=/usr/lib/mysql/plugin --log-error=/var/log/mysql/error.log --pid-file=/var/run/mysqld/mysqld.pid --socket=/var/run/mysqld/mysqld.sock --port=3306\\npostgres  1174  0.0  0.0 293632  3888 ?        Ss   Jan26   0:00 postgres: checkpointer process                                                                                              \\npostgres  1175  0.0  0.1 293632  5536 ?        Ss   Jan26   0:02 postgres: writer process                                                                                                    \\npostgres  1176  0.0  0.0 293632  3888 ?        Ss   Jan26   0:02 postgres: wal writer process                                                                                                \\npostgres  1177  0.0  0.1 294052  6188 ?        Ss   Jan26   0:04 postgres: autovacuum launcher process                                                                                       \\npostgres  1179  0.0  0.1 149052  4192 ?        Ss   Jan26   0:03 postgres: stats collector process                                                                                           \\nkernoops  1220  0.0  0.0  45276   364 ?        Ss   Jan26   0:00 /usr/sbin/kerneloops\\nroot      1379  0.0  0.1 352420  6156 ?        SLsl Jan26   0:00 /usr/sbin/lightdm\\nroot      1389  5.3  3.5 401124 142008 tty7    Ss+  Jan26  34:06 /usr/bin/X -core :0 -seat seat0 -auth /var/run/lightdm/root/:0 -nolisten tcp vt7 -novtswitch\\nroot      1406  0.0  0.0  20052  2168 tty1     Ss+  Jan26   0:00 /sbin/agetty --noclear tty1 linux\\nroot      1465  0.0  0.1 230224  6344 ?        Sl   Jan26   0:00 lightdm --session-child 12 19\\nrtkit     1527  0.0  0.0 178820  3004 ?        SNsl Jan26   0:01 /usr/lib/rtkit/rtkit-daemon\\nroot      1550  0.0  0.3 345648 12248 ?        Ssl  Jan26   0:00 /usr/lib/upower/upowerd\\ncolord    1560  0.0  0.2 305136 10796 ?        Ssl  Jan26   0:00 /usr/lib/colord/colord\\ntcloudo+  1582  0.0  0.1  45164  5124 ?        Ss   Jan26   0:00 /lib/systemd/systemd --user\\ntcloudo+  1583  0.0  0.0  61092  1828 ?        S    Jan26   0:00 (sd-pam)         \\ntcloudo+  1588  0.0  0.1 292492  7764 ?        Sl   Jan26   0:00 /usr/bin/gnome-keyring-daemon --daemonize --login\\ntcloudo+  1590  0.0  0.1  45892  4604 ?        Ss   Jan26   0:01 /sbin/upstart --user\\ntcloudo+  1668  0.0  0.0  49464  1384 ?        S    Jan26   0:12 /usr/bin/VBoxClient --clipboard\\ntcloudo+  1674  0.0  0.0  49464  1356 ?        S    Jan26   0:11 /usr/bin/VBoxClient --checkhostversion\\ntcloudo+  1681  0.0  0.0  49464  1428 ?        S    Jan26   0:12 /usr/bin/VBoxClient --display\\ntcloudo+  1691  0.0  0.0  39016  1860 ?        S    Jan26   0:00 dbus-launch --autolaunch=e51c7092bfbd4fb4ac8b04918ff33401 --binary-syntax --close-stderr\\ntcloudo+  1694  0.0  0.0  49464  1376 ?        S    Jan26   0:11 /usr/bin/VBoxClient --seamless\\ntcloudo+  1702  0.0  0.0  42860  3380 ?        Ss   Jan26   0:00 /usr/bin/dbus-daemon --fork --print-pid 5 --print-address 7 --session\\ntcloudo+  1705  0.0  0.0  49464  1412 ?        S    Jan26   0:11 /usr/bin/VBoxClient --draganddrop\\ntcloudo+  1713  0.0  0.6 439336 27692 ?        Sl   Jan26   0:04 /usr/lib/x86_64-linux-gnu/notify-osd\\ntcloudo+  1723  0.0  0.1 337956  5944 ?        Sl   Jan26   0:00 /usr/lib/at-spi2-core/at-spi-bus-launcher\\ntcloudo+  1728  0.0  0.0  42860  4032 ?        S    Jan26   0:01 /usr/bin/dbus-daemon --config-file=/etc/at-spi2/accessibility.conf --nofork --print-address 3\\ntcloudo+  1730  0.0  0.1 206936  5292 ?        Sl   Jan26   0:04 /usr/lib/at-spi2-core/at-spi2-registryd --use-gnome-session\\ntcloudo+  1738  0.0  0.1 271164  5500 ?        Sl   Jan26   0:00 /usr/lib/gvfs/gvfsd\\ntcloudo+  1744  0.0  0.1 409032  7472 ?        Sl   Jan26   0:00 /usr/lib/gvfs/gvfsd-fuse /run/user/1000/gvfs -f -o big_writes\\ntcloudo+  1761  0.0  0.0  32296   256 ?        S    Jan26   0:00 upstart-udev-bridge --daemon --user\\ntcloudo+  1774  0.0  0.5 426980 21404 ?        Sl   Jan26   0:04 /usr/bin/gnome-screensaver --no-daemon\\ntcloudo+  1775  0.0  0.1  43924  4440 ?        Ss   Jan26   0:08 dbus-daemon --fork --session --address=unix:abstract=/tmp/dbus-jd0tJHSOuH\\ntcloudo+  1790  0.0  0.2  88176  9636 ?        Ss   Jan26   0:00 /usr/lib/x86_64-linux-gnu/hud/window-stack-bridge\\ntcloudo+  1817  0.0  0.6 515420 25584 ?        Sl   Jan26   0:13 /usr/lib/x86_64-linux-gnu/bamf/bamfdaemon\\ntcloudo+  1844  0.0  0.2 418836  8132 ?        Sl   Jan26   0:00 /usr/lib/gvfs/gvfsd\\ntcloudo+  1855  0.1  0.4 359752 16648 ?        Ssl  Jan26   1:09 /usr/bin/ibus-daemon --daemonize --xim\\ntcloudo+  1868  0.0  0.0  32392  1948 ?        S    Jan26   0:02 upstart-dbus-bridge --daemon --session --user --bus-name session\\ntcloudo+  1869  0.0  0.0  40840  1832 ?        S    Jan26   0:00 upstart-file-bridge --daemon --user\\ntcloudo+  1870  0.0  0.0  32364  1836 ?        S    Jan26   0:00 upstart-dbus-bridge --daemon --system --user --bus-name system\\ntcloudo+  1877  0.0  0.1 270504  6116 ?        Sl   Jan26   0:00 /usr/lib/ibus/ibus-dconf\\ntcloudo+  1879  0.0  0.8 478360 35196 ?        Sl   Jan26   0:27 /usr/lib/ibus/ibus-ui-gtk3\\ntcloudo+  1883  0.0  0.3 376804 13828 ?        Sl   Jan26   0:00 /usr/lib/ibus/ibus-x11 --kill-daemon\\ntcloudo+  1890  0.0  1.4 720824 59540 ?        Ssl  Jan26   0:19 /usr/lib/x86_64-linux-gnu/hud/hud-service\\ntcloudo+  1895  0.0  0.9 797492 38676 ?        Ssl  Jan26   0:15 /usr/lib/unity-settings-daemon/unity-settings-daemon\\ntcloudo+  1904  7.9  6.3 1263120 256412 ?      Ssl  Jan26  50:45 compiz\\ntcloudo+  1905  0.0  0.3 554596 14164 ?        Ssl  Jan26   0:00 gnome-session --session=ubuntu\\ntcloudo+  1914  0.0  1.4 806568 60396 ?        Ssl  Jan26   0:18 /usr/lib/unity/unity-panel-service\\ntcloudo+  1916  0.0  0.1 194772  6100 ?        Sl   Jan26   0:18 /usr/lib/ibus/ibus-engine-simple\\ntcloudo+  1933  0.0  0.1 178628  4664 ?        Sl   Jan26   0:00 /usr/lib/dconf/dconf-service\\ntcloudo+  1958  0.0  0.2 363568  9532 ?        Ssl  Jan26   0:00 /usr/lib/x86_64-linux-gnu/indicator-messages/indicator-messages-service\\ntcloudo+  1959  0.0  0.1 337608  5700 ?        Ssl  Jan26   0:00 /usr/lib/x86_64-linux-gnu/indicator-bluetooth/indicator-bluetooth-service\\ntcloudo+  1960  0.0  0.1 123572  5300 ?        Ssl  Jan26   0:00 /usr/lib/x86_64-linux-gnu/indicator-power/indicator-power-service\\ntcloudo+  1968  0.0  0.4 775928 17984 ?        Ssl  Jan26   0:01 /usr/lib/x86_64-linux-gnu/indicator-datetime/indicator-datetime-service\\ntcloudo+  1969  0.0  0.6 715748 25588 ?        Ssl  Jan26   0:04 /usr/lib/x86_64-linux-gnu/indicator-keyboard/indicator-keyboard-service --use-gtk\\ntcloudo+  1970  0.0  0.2 548904 10500 ?        Ssl  Jan26   0:00 /usr/lib/x86_64-linux-gnu/indicator-sound/indicator-sound-service\\ntcloudo+  1972  0.0  0.5 541700 22596 ?        Ssl  Jan26   0:03 /usr/lib/x86_64-linux-gnu/indicator-printers/indicator-printers-service\\ntcloudo+  1974  0.0  0.2 565948  9192 ?        Ssl  Jan26   0:00 /usr/lib/x86_64-linux-gnu/indicator-session/indicator-session-service\\ntcloudo+  1981  0.0  0.3 469320 14068 ?        Ssl  Jan26   0:00 /usr/lib/x86_64-linux-gnu/indicator-application/indicator-application-service\\ntcloudo+  2001  0.0  0.5 911880 22684 ?        Sl   Jan26   0:00 /usr/lib/evolution/evolution-source-registry\\ntcloudo+  2024  0.0  0.2 434344 11024 ?        S<l  Jan26   0:00 /usr/bin/pulseaudio --start --log-target=syslog\\ntcloudo+  2055  0.1  1.5 1082268 62264 ?       Sl   Jan26   0:57 nautilus -n\\ntcloudo+  2056  0.0  0.4 255616 16264 ?        Sl   Jan26   0:00 /usr/lib/policykit-1-gnome/polkit-gnome-authentication-agent-1\\ntcloudo+  2060  0.0  0.5 573520 20636 ?        Sl   Jan26   0:03 /usr/lib/unity-settings-daemon/unity-fallback-mount-helper\\ntcloudo+  2067  0.0  0.8 588184 35016 ?        Sl   Jan26   0:05 nm-applet\\ntcloudo+  2079  0.0  0.1 289520  7692 ?        Sl   Jan26   0:00 /usr/lib/gvfs/gvfs-udisks2-volume-monitor\\nroot      2082  0.0  0.2 367508  8480 ?        Ssl  Jan26   0:00 /usr/lib/udisks2/udisksd --no-debug\\ntcloudo+  2093  0.0  1.4 859160 58968 ?        Sl   Jan26   0:00 /usr/lib/evolution/evolution-calendar-factory\\ntcloudo+  2098  0.0  0.2 403168  8632 ?        Sl   Jan26   0:00 /usr/lib/gvfs/gvfs-afc-volume-monitor\\ntcloudo+  2101  0.0  0.1  66292  6484 ?        S    Jan26   0:00 /usr/lib/x86_64-linux-gnu/gconf/gconfd-2\\ntcloudo+  2107  0.0  0.1 275816  5616 ?        Sl   Jan26   0:00 /usr/lib/gvfs/gvfs-gphoto2-volume-monitor\\ntcloudo+  2112  0.0  0.1 263620  5208 ?        Sl   Jan26   0:00 /usr/lib/gvfs/gvfs-mtp-volume-monitor\\ntcloudo+  2123  0.0  0.1 344896  5688 ?        Sl   Jan26   0:00 /usr/lib/gvfs/gvfsd-burn --spawner :1.6 /org/gtk/gvfs/exec_spaw/0\\ntcloudo+  2138  0.0  0.2 349772  8620 ?        Sl   Jan26   0:00 /usr/lib/gvfs/gvfsd-trash --spawner :1.6 /org/gtk/gvfs/exec_spaw/1\\ntcloudo+  2153  0.0  0.4 783660 17588 ?        Sl   Jan26   0:00 /usr/lib/evolution/evolution-calendar-factory-subprocess --factory contacts --bus-name org.gnome.evolution.dataserver.Subprocess.Backend.Calendarx2093x2 --own-path /org/gnome/evolution/dataserver/Subprocess/Backend/Calendar/2093/2\\ntcloudo+  2162  0.0  0.4 768036 18828 ?        Sl   Jan26   0:00 /usr/lib/evolution/evolution-calendar-factory-subprocess --factory local --bus-name org.gnome.evolution.dataserver.Subprocess.Backend.Calendarx2093x3 --own-path /org/gnome/evolution/dataserver/Subprocess/Backend/Calendar/2093/3\\ntcloudo+  2165  0.0  0.5 692320 20328 ?        Sl   Jan26   0:00 /usr/lib/evolution/evolution-addressbook-factory\\ntcloudo+  2186  0.0  0.4 767880 18092 ?        Sl   Jan26   0:00 /usr/lib/evolution/evolution-addressbook-factory-subprocess --factory local --bus-name org.gnome.evolution.dataserver.Subprocess.Backend.AddressBookx2165x2 --own-path /org/gnome/evolution/dataserver/Subprocess/Backend/AddressBook/2165/2\\ntcloudo+  2204  0.0  0.1 190616  5696 ?        Sl   Jan26   0:00 /usr/lib/gvfs/gvfsd-metadata\\ntcloudo+  2219  0.0  0.5 549192 23116 ?        Sl   Jan26   0:03 telepathy-indicator\\ntcloudo+  2228  0.0  0.3 424896 13116 ?        Sl   Jan26   0:00 /usr/lib/telepathy/mission-control-5\\ntcloudo+  2254  0.0  0.4 412508 17680 ?        Sl   Jan26   0:03 zeitgeist-datahub\\ntcloudo+  2260  0.0  0.2 338744  9860 ?        Sl   Jan26   0:01 /usr/bin/zeitgeist-daemon\\ntcloudo+  2266  0.0  0.5 326212 22620 ?        Sl   Jan26   0:01 /usr/lib/x86_64-linux-gnu/zeitgeist-fts\\ntcloudo+  2398  0.0  0.7 563612 30296 ?        Sl   Jan26   0:04 update-notifier\\ntcloudo+  2573  0.0  0.2 589160  9276 ?        Sl   Jan26   0:00 /usr/lib/x86_64-linux-gnu/deja-dup/deja-dup-monitor\\ntcloudo+  3037  0.0  0.6 741576 25408 ?        Sl   Jan26   0:01 /usr/lib/x86_64-linux-gnu/unity-scope-home/unity-scope-home\\nuuidd     3046  0.0  0.0  27592  1296 ?        Ss   Jan26   0:00 /usr/sbin/uuidd --socket-activation\\ntcloudo+  3051  0.0  0.6 583320 27328 ?        Sl   Jan26   0:04 /usr/bin/unity-scope-loader applications/applications.scope applications/scopes.scope commands.scope\\ntcloudo+  3053  0.0  0.3 710248 13220 ?        Sl   Jan26   0:15 /usr/lib/x86_64-linux-gnu/unity-lens-files/unity-files-daemon\\ntcloudo+  3058  0.0  0.3 339344 13576 ?        Sl   Jan26   0:03 /usr/lib/x86_64-linux-gnu/unity-lens-music/unity-music-daemon\\ntcloudo+  3116  0.0  0.5 714160 22060 ?        Sl   Jan26   0:00 /usr/lib/gvfs/gvfsd-http --spawner :1.6 /org/gtk/gvfs/exec_spaw/2\\nroot      4061  0.0  0.2 124508  9544 ?        S    Jan26   0:00 nginx: master process /usr/sbin/nginx -g daemon on; master_process on;\\nwww-data  4064  0.0  0.1 125004  4648 ?        S    Jan26   0:00 nginx: worker process                           \\ntcloudo+  5548  9.7 13.1 1360396 532612 ?      Rl   05:18  17:07 /usr/lib/firefox/firefox\\ntcloudo+  7813  0.0  0.8 486424 32568 ?        Sl   Jan26   0:05 /usr/lib/x86_64-linux-gnu/notify-osd\\ntcloudo+ 10001  0.1  1.2 422492 52492 pts/6    Sl+  06:17   0:11 /home/tcloudost/anaconda2/bin/python /home/tcloudost/anaconda2/bin/ipython notebook\\ntcloudo+ 10054  0.0  0.9 791116 38260 ?        Ssl  06:18   0:04 /home/tcloudost/anaconda2/bin/python -m ipykernel -f /run/user/1000/jupyter/kernel-23fa711d-77f9-42ec-9e24-04711193135a.json\\ntcloudo+ 10211  0.0  0.1 146436  6072 ?        Sl   06:19   0:00 /usr/lib/libreoffice/program/oosplash --writer file:///home/tcloudost/Downloads/question%20papaer.odt\\ntcloudo+ 10231  0.1  3.9 1216036 159084 ?      Sl   06:19   0:06 /usr/lib/libreoffice/program/soffice.bin --writer file:///home/tcloudost/Downloads/question%20papaer.odt --splash-pipe=5\\nroot     10452  0.0  0.1  90332  7308 ?        Ss   Jan26   0:00 /usr/sbin/cupsd -l\\ntcloudo+ 12312  2.2  1.9 2003996 80032 ?       Ssl  06:46   1:58 /opt/sublime_text/sublime_text\\ntcloudo+ 12330  0.1  1.1 305612 45484 ?        Sl   06:46   0:10 /opt/sublime_text/plugin_host 12312\\ntcloudo+ 12613  0.0  0.1  27564  6296 pts/12   Ss   06:49   0:00 bash\\ntcloudo+ 12775  0.0  0.8 633992 36396 ?        Ssl  Jan26   0:06 /home/tcloudost/anaconda2/bin/python -m ipykernel -f /run/user/1000/jupyter/kernel-670eb7b7-b052-4577-9a90-6ec7823712cc.json\\nroot     13203  0.0  0.0      0     0 ?        S    06:56   0:00 [kworker/u2:1]\\nroot     14715  0.0  0.2  23456 10268 ?        S    07:14   0:00 /sbin/dhclient -d -q -sf /usr/lib/NetworkManager/nm-dhcp-helper -pf /run/sendsigs.omit.d/network-manager.dhclient-enp0s3.pid -lf /var/lib/NetworkManager/dhclient-065f5de5-ae53-4b70-9186-f69a66752646-enp0s3.lease -cf /var/lib/NetworkManager/dhclient-enp0s3.conf enp0s3\\ntcloudo+ 15430  0.0  0.8 635312 36032 ?        Ssl  07:22   0:02 /home/tcloudost/anaconda2/bin/python -m ipykernel -f /run/user/1000/jupyter/kernel-f2972cdf-05b1-41e4-ba30-caf28500a620.json\\ntcloudo+ 17922  0.0  0.9 649096 37880 ?        Sl   00:40   0:23 /usr/lib/gnome-terminal/gnome-terminal-server\\ntcloudo+ 17933  0.0  0.0  14852  1960 ?        S    00:40   0:00 gnome-pty-helper\\ntcloudo+ 17934  0.0  0.1  27544  6312 pts/6    Ss   00:40   0:00 bash\\nroot     18155  0.0  0.0      0     0 ?        S    07:51   0:00 [kworker/0:0]\\nroot     18263  0.0  0.0      0     0 ?        S    07:52   0:00 [kworker/u2:0]\\nroot     18973  0.0  0.0      0     0 ?        S    08:01   0:00 [kworker/0:1]\\ntcloudo+ 19247  0.3  0.7 206220 29312 pts/12   Sl+  08:05   0:01 /home/tcloudost/anaconda2/bin/python /home/tcloudost/anaconda2/bin/ipython\\nroot     19619  0.0  0.0      0     0 ?        S    08:10   0:00 [kworker/0:2]\\ntcloudo+ 19826  0.0  0.0  22676  2612 ?        R    08:13   0:00 ps -aux\\ntcloudo+ 26477  0.0  1.0 685236 43392 ?        Sl   02:40   0:08 gedit\\n'"
      ]
     },
     "execution_count": 6,
     "metadata": {},
     "output_type": "execute_result"
    }
   ],
   "source": [
    "subprocess.check_output(['ps','-aux'])"
   ]
  },
  {
   "cell_type": "code",
   "execution_count": 10,
   "metadata": {
    "collapsed": false
   },
   "outputs": [],
   "source": [
    "import paramiko as pmk\n",
    "ssh = pmk.SSHClient()\n",
    "ssh.set_missing_host_key_policy(pmk.AutoAddPolicy())\n",
    "ssh.connect('127.0.0.1',username='tcloudost',password='')"
   ]
  },
  {
   "cell_type": "code",
   "execution_count": 11,
   "metadata": {
    "collapsed": false
   },
   "outputs": [
    {
     "data": {
      "text/plain": [
       "(<paramiko.ChannelFile from <paramiko.Channel 0 (open) window=2097152 -> <paramiko.Transport at 0x1815e310L (cipher aes128-ctr, 128 bits) (active; 1 open channel(s))>>>,\n",
       " <paramiko.ChannelFile from <paramiko.Channel 0 (open) window=2097152 -> <paramiko.Transport at 0x1815e310L (cipher aes128-ctr, 128 bits) (active; 1 open channel(s))>>>,\n",
       " <paramiko.ChannelFile from <paramiko.Channel 0 (open) window=2097152 -> <paramiko.Transport at 0x1815e310L (cipher aes128-ctr, 128 bits) (active; 1 open channel(s))>>>)"
      ]
     },
     "execution_count": 11,
     "metadata": {},
     "output_type": "execute_result"
    }
   ],
   "source": [
    "ssh.exec_command('mkdir ssh_folder1')"
   ]
  },
  {
   "cell_type": "code",
   "execution_count": 12,
   "metadata": {
    "collapsed": true
   },
   "outputs": [],
   "source": [
    "res = ssh.exec_command('mkdir ssh_folder1')"
   ]
  },
  {
   "cell_type": "code",
   "execution_count": 13,
   "metadata": {
    "collapsed": false
   },
   "outputs": [
    {
     "data": {
      "text/plain": [
       "<paramiko.ChannelFile from <paramiko.Channel 1 (closed) -> <paramiko.Transport at 0x1815e310L (cipher aes128-ctr, 128 bits) (active; 0 open channel(s))>>>"
      ]
     },
     "execution_count": 13,
     "metadata": {},
     "output_type": "execute_result"
    }
   ],
   "source": [
    "res[0]"
   ]
  },
  {
   "cell_type": "code",
   "execution_count": 14,
   "metadata": {
    "collapsed": false
   },
   "outputs": [
    {
     "data": {
      "text/plain": [
       "<paramiko.ChannelFile from <paramiko.Channel 1 (closed) -> <paramiko.Transport at 0x1815e310L (cipher aes128-ctr, 128 bits) (active; 0 open channel(s))>>>"
      ]
     },
     "execution_count": 14,
     "metadata": {},
     "output_type": "execute_result"
    }
   ],
   "source": [
    "res[1]"
   ]
  },
  {
   "cell_type": "code",
   "execution_count": 15,
   "metadata": {
    "collapsed": false
   },
   "outputs": [
    {
     "data": {
      "text/plain": [
       "<paramiko.ChannelFile from <paramiko.Channel 1 (closed) -> <paramiko.Transport at 0x1815e310L (cipher aes128-ctr, 128 bits) (active; 0 open channel(s))>>>"
      ]
     },
     "execution_count": 15,
     "metadata": {},
     "output_type": "execute_result"
    }
   ],
   "source": [
    "res[2]"
   ]
  },
  {
   "cell_type": "code",
   "execution_count": 16,
   "metadata": {
    "collapsed": false
   },
   "outputs": [
    {
     "data": {
      "text/plain": [
       "[]"
      ]
     },
     "execution_count": 16,
     "metadata": {},
     "output_type": "execute_result"
    }
   ],
   "source": [
    "res[2].readlines()"
   ]
  },
  {
   "cell_type": "code",
   "execution_count": 17,
   "metadata": {
    "collapsed": false
   },
   "outputs": [
    {
     "data": {
      "text/plain": [
       "''"
      ]
     },
     "execution_count": 17,
     "metadata": {},
     "output_type": "execute_result"
    }
   ],
   "source": [
    "res[1].read()"
   ]
  },
  {
   "cell_type": "code",
   "execution_count": 18,
   "metadata": {
    "collapsed": true
   },
   "outputs": [],
   "source": [
    "res = ssh.exec_command('ls -l')"
   ]
  },
  {
   "cell_type": "code",
   "execution_count": 19,
   "metadata": {
    "collapsed": false
   },
   "outputs": [
    {
     "data": {
      "text/plain": [
       "<paramiko.ChannelFile from <paramiko.Channel 2 (closed) -> <paramiko.Transport at 0x1815e310L (cipher aes128-ctr, 128 bits) (active; 0 open channel(s))>>>"
      ]
     },
     "execution_count": 19,
     "metadata": {},
     "output_type": "execute_result"
    }
   ],
   "source": [
    "res[1]"
   ]
  },
  {
   "cell_type": "code",
   "execution_count": 20,
   "metadata": {
    "collapsed": false
   },
   "outputs": [
    {
     "data": {
      "text/plain": [
       "[u'total 288\\n',\n",
       " u'drwxrwxr-x 18 tcloudost tcloudost  4096 Jan  6 07:49 anaconda2\\n',\n",
       " u'drwxrwxr-x  3 tcloudost tcloudost  4096 Jun 25  2016 app1_name\\n',\n",
       " u'drwxrwxr-x  2 tcloudost tcloudost  4096 Jun 25  2016 app_name\\n',\n",
       " u'-rw-rw-r--  1 tcloudost tcloudost    12 Sep 19 08:06 a.py\\n',\n",
       " u'-rw-rw-r--  1 tcloudost tcloudost    74 May 22  2016 a.py~\\n',\n",
       " u'drwxrwxr-x  2 tcloudost tcloudost  4096 May 23  2016 batch\\n',\n",
       " u'drwxr-xr-x  2 root      root       4096 Oct 15 14:15 cgi-bin\\n',\n",
       " u'-rw-rw-r--  1 tcloudost tcloudost  1234 Oct 15 14:15 cgi-bin.zip\\n',\n",
       " u'-rw-rw-r--  1 tcloudost tcloudost   652 May 20  2016 course content.text\\n',\n",
       " u'-rw-rw-r--  1 tcloudost tcloudost   652 May 20  2016 course content.text~\\n',\n",
       " u'drwxr-xr-x  2 tcloudost tcloudost  4096 Aug 25 08:58 Desktop\\n',\n",
       " u'drwxrwxr-x  2 tcloudost tcloudost  4096 Dec 31 09:32 dir1\\n',\n",
       " u'drwxr-xr-x  4 tcloudost tcloudost  4096 Dec 28 08:08 Documents\\n',\n",
       " u'drwxr-xr-x  7 tcloudost tcloudost  4096 Jan 25 08:17 Downloads\\n',\n",
       " u'-rw-r--r--  1 tcloudost tcloudost  8980 Mar 10  2016 examples.desktop\\n',\n",
       " u'-rw-rw-r--  1 tcloudost tcloudost    87 Jul 31 21:03 file1.py\\n',\n",
       " u'-rw-rw-r--  1 tcloudost tcloudost   172 Jul 31 21:03 file1.pyc\\n',\n",
       " u'-rw-rw-r--  1 tcloudost tcloudost    20 Jul  1  2016 first.py\\n',\n",
       " u'-rw-rw-r--  1 tcloudost tcloudost     0 Jul  1  2016 first.py~\\n',\n",
       " u'drwxrwxr-x  2 tcloudost tcloudost  4096 Jul  9  2016 hom_custom\\n',\n",
       " u'-rw-rw-r--  1 tcloudost tcloudost   668 Nov 27 14:18 Lab07.py\\n',\n",
       " u'-rw-rw-r--  1 tcloudost tcloudost 43291 Nov 13 07:37 m1.jpg\\n',\n",
       " u'drwxr-xr-x  2 tcloudost tcloudost  4096 Mar 10  2016 Music\\n',\n",
       " u'drwxrwxr-x  2 tcloudost tcloudost  4096 Oct  4 07:26 mydear\\n',\n",
       " u'-rw-rw-r--  1 tcloudost tcloudost  1561 Jun 16  2016 nginx_signing.key\\n',\n",
       " u'drwxrwxr-x  2 tcloudost tcloudost  4096 Nov 26 13:50 paramiko123\\n',\n",
       " u'drwxrwxr-x  2 tcloudost tcloudost  4096 Nov 26 13:55 path1\\n',\n",
       " u'-rw-rw-r--  1 tcloudost tcloudost   111 Nov 17 07:37 personsinfo.csv\\n',\n",
       " u'-rw-rw-r--  1 tcloudost tcloudost   111 Nov 17 07:37 personsinfo.csv~\\n',\n",
       " u'-rw-rw-r--  1 tcloudost tcloudost   354 Oct 15 11:51 pgadmin.log\\n',\n",
       " u'drwxr-xr-x  2 tcloudost tcloudost  4096 Aug 14 10:08 Pictures\\n',\n",
       " u'drwxr-xr-x  2 tcloudost tcloudost  4096 Mar 10  2016 Public\\n',\n",
       " u'-rw-rw-r--  1 tcloudost tcloudost 20247 Jul 30 21:02 python2.ipynb\\n',\n",
       " u'drwxrwxr-x 11 tcloudost tcloudost  4096 Jan 22 12:22 pythonexamples\\n',\n",
       " u'-rw-rw-r--  1 tcloudost tcloudost  3231 Jul  2  2016 python_modules\\n',\n",
       " u'drwxrwxr-x  2 tcloudost tcloudost  4096 Apr 13  2016 python_softwares\\n',\n",
       " u'-rw-rw-r--  1 tcloudost tcloudost   261 Apr  5  2016 qw.html~\\n',\n",
       " u'-rw-rw-r--  1 tcloudost tcloudost  1469 Aug 31 07:32 spyder_crash.log\\n',\n",
       " u'drwxrwxr-x  2 tcloudost tcloudost  4096 Jan 27 08:21 ssh_folder1\\n',\n",
       " u'drwxr-xr-x  2 tcloudost tcloudost  4096 Mar 10  2016 Templates\\n',\n",
       " u'-rw-rw-r--  1 tcloudost tcloudost  2103 Aug 11 08:09 Untitled1.ipynb\\n',\n",
       " u'-rw-rw-r--  1 tcloudost tcloudost   959 Aug 16 07:38 Untitled2.ipynb\\n',\n",
       " u'-rw-rw-r--  1 tcloudost tcloudost  2796 Sep 14 07:58 Untitled3.ipynb\\n',\n",
       " u'-rw-rw-r--  1 tcloudost tcloudost 15568 Sep 18 17:28 Untitled4.ipynb\\n',\n",
       " u'-rw-rw-r--  1 tcloudost tcloudost    72 Oct 18 07:31 Untitled5.ipynb\\n',\n",
       " u'-rw-rw-r--  1 tcloudost tcloudost  3809 Nov  5 11:48 Untitled6.ipynb\\n',\n",
       " u'-rw-rw-r--  1 tcloudost tcloudost  5171 Nov  5 12:45 Untitled7.ipynb\\n',\n",
       " u'-rw-rw-r--  1 tcloudost tcloudost  1891 Nov 27 14:12 Untitled8.ipynb\\n',\n",
       " u'-rw-rw-r--  1 tcloudost tcloudost  6342 Dec 30 08:52 Untitled9.ipynb\\n',\n",
       " u'-rw-rw-r--  1 tcloudost tcloudost   398 Aug 16 09:22 Untitled Document 1\\n',\n",
       " u'-rw-rw-r--  1 tcloudost tcloudost   582 May 24  2016 Untitled.ipynb\\n',\n",
       " u'drwxr-xr-x  2 tcloudost tcloudost  4096 Mar 10  2016 Videos\\n']"
      ]
     },
     "execution_count": 20,
     "metadata": {},
     "output_type": "execute_result"
    }
   ],
   "source": [
    "res[1].readlines()"
   ]
  },
  {
   "cell_type": "code",
   "execution_count": 21,
   "metadata": {
    "collapsed": true
   },
   "outputs": [],
   "source": [
    "res = ssh.exec_command('sudo ls /proc')"
   ]
  },
  {
   "cell_type": "code",
   "execution_count": 22,
   "metadata": {
    "collapsed": false
   },
   "outputs": [
    {
     "data": {
      "text/plain": [
       "'sudo: no tty present and no askpass program specified\\n'"
      ]
     },
     "execution_count": 22,
     "metadata": {},
     "output_type": "execute_result"
    }
   ],
   "source": [
    "res[2].read()"
   ]
  },
  {
   "cell_type": "code",
   "execution_count": 23,
   "metadata": {
    "collapsed": true
   },
   "outputs": [],
   "source": [
    "stdin,stdout,stderr = ssh.exec_command(\"echo pwd| sudo -S ls /proc\")"
   ]
  },
  {
   "cell_type": "code",
   "execution_count": 24,
   "metadata": {
    "collapsed": false
   },
   "outputs": [
    {
     "data": {
      "text/plain": [
       "'1\\n10\\n10001\\n10054\\n10211\\n10231\\n10452\\n1070\\n11\\n115\\n116\\n117\\n1174\\n1175\\n1176\\n1177\\n1179\\n118\\n12\\n1220\\n12312\\n12330\\n12613\\n12775\\n13\\n13203\\n1379\\n1389\\n14\\n1406\\n144\\n145\\n1465\\n14715\\n15\\n1527\\n15430\\n1550\\n1560\\n1582\\n1583\\n1588\\n1590\\n16\\n1668\\n1674\\n1681\\n1691\\n1694\\n17\\n1702\\n1705\\n1713\\n1723\\n1728\\n1730\\n1738\\n1744\\n1761\\n1774\\n1775\\n1790\\n17922\\n17933\\n17934\\n18\\n1817\\n18263\\n1844\\n1855\\n186\\n1868\\n1869\\n1870\\n1877\\n1879\\n1883\\n1890\\n1895\\n18973\\n19\\n1904\\n1905\\n1914\\n1916\\n1933\\n1958\\n1959\\n1960\\n1968\\n1969\\n1970\\n1972\\n1974\\n198\\n1981\\n2\\n20\\n2001\\n20199\\n2024\\n20275\\n20341\\n2055\\n2056\\n2060\\n20653\\n2067\\n20752\\n2079\\n2082\\n20845\\n20847\\n20848\\n2093\\n2098\\n21\\n2101\\n2107\\n2112\\n212\\n2123\\n2138\\n2153\\n2162\\n2165\\n2186\\n22\\n2204\\n2219\\n2228\\n2254\\n2260\\n2266\\n23\\n2398\\n24\\n25\\n2573\\n26\\n26477\\n27\\n3\\n30\\n3037\\n304\\n3046\\n3051\\n3053\\n3058\\n31\\n3116\\n32\\n33\\n367\\n4061\\n4064\\n44\\n45\\n46\\n47\\n48\\n49\\n5\\n510\\n511\\n516\\n517\\n518\\n527\\n54\\n5548\\n566\\n568\\n571\\n576\\n596\\n605\\n610\\n626\\n639\\n642\\n7\\n737\\n74\\n75\\n7813\\n8\\n9\\n902\\n980\\nacpi\\nasound\\nbuddyinfo\\nbus\\ncgroups\\ncmdline\\nconsoles\\ncpuinfo\\ncrypto\\ndevices\\ndiskstats\\ndma\\ndriver\\nexecdomains\\nfb\\nfilesystems\\nfs\\ninterrupts\\niomem\\nioports\\nirq\\nkallsyms\\nkcore\\nkeys\\nkey-users\\nkmsg\\nkpagecount\\nkpageflags\\nloadavg\\nlocks\\nmdstat\\nmeminfo\\nmisc\\nmodules\\nmounts\\nmtrr\\nnet\\npagetypeinfo\\npartitions\\nsched_debug\\nschedstat\\nscsi\\nself\\nslabinfo\\nsoftirqs\\nstat\\nswaps\\nsys\\nsysrq-trigger\\nsysvipc\\nthread-self\\ntimer_list\\ntimer_stats\\ntty\\nuptime\\nversion\\nversion_signature\\nvmallocinfo\\nvmstat\\nzoneinfo\\n'"
      ]
     },
     "execution_count": 24,
     "metadata": {},
     "output_type": "execute_result"
    }
   ],
   "source": [
    "stdout.read()"
   ]
  },
  {
   "cell_type": "code",
   "execution_count": null,
   "metadata": {
    "collapsed": true
   },
   "outputs": [],
   "source": []
  }
 ],
 "metadata": {
  "kernelspec": {
   "display_name": "Python 2",
   "language": "python",
   "name": "python2"
  },
  "language_info": {
   "codemirror_mode": {
    "name": "ipython",
    "version": 2
   },
   "file_extension": ".py",
   "mimetype": "text/x-python",
   "name": "python",
   "nbconvert_exporter": "python",
   "pygments_lexer": "ipython2",
   "version": "2.7.11"
  }
 },
 "nbformat": 4,
 "nbformat_minor": 0
}
