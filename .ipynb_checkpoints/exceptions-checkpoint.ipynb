{
 "cells": [
  {
   "cell_type": "code",
   "execution_count": 1,
   "metadata": {
    "collapsed": false
   },
   "outputs": [
    {
     "name": "stdout",
     "output_type": "stream",
     "text": [
      "program started\n",
      "A value:12\n",
      "B valie:6\n",
      "2\n",
      "other statements in program \n",
      "program ended\n"
     ]
    }
   ],
   "source": [
    "print \"program started\"\n",
    "\n",
    "a=raw_input(\"A value:\")\n",
    "b=raw_input(\"B valie:\")\n",
    "a=int(a)\n",
    "b=int(b)\n",
    "c=a/b\n",
    "print c\n",
    "\n",
    "print \"other statements in program \"\n",
    "\n",
    "print \"program ended\""
   ]
  },
  {
   "cell_type": "code",
   "execution_count": 2,
   "metadata": {
    "collapsed": false
   },
   "outputs": [
    {
     "name": "stdout",
     "output_type": "stream",
     "text": [
      "program started\n",
      "A value:2\n",
      "B valie:1.3\n"
     ]
    },
    {
     "ename": "ValueError",
     "evalue": "invalid literal for int() with base 10: '1.3'",
     "output_type": "error",
     "traceback": [
      "\u001b[1;31m---------------------------------------------------------------------------\u001b[0m",
      "\u001b[1;31mValueError\u001b[0m                                Traceback (most recent call last)",
      "\u001b[1;32m<ipython-input-2-57e1886151a5>\u001b[0m in \u001b[0;36m<module>\u001b[1;34m()\u001b[0m\n\u001b[0;32m      4\u001b[0m \u001b[0mb\u001b[0m\u001b[1;33m=\u001b[0m\u001b[0mraw_input\u001b[0m\u001b[1;33m(\u001b[0m\u001b[1;34m\"B valie:\"\u001b[0m\u001b[1;33m)\u001b[0m\u001b[1;33m\u001b[0m\u001b[0m\n\u001b[0;32m      5\u001b[0m \u001b[0ma\u001b[0m\u001b[1;33m=\u001b[0m\u001b[0mint\u001b[0m\u001b[1;33m(\u001b[0m\u001b[0ma\u001b[0m\u001b[1;33m)\u001b[0m\u001b[1;33m\u001b[0m\u001b[0m\n\u001b[1;32m----> 6\u001b[1;33m \u001b[0mb\u001b[0m\u001b[1;33m=\u001b[0m\u001b[0mint\u001b[0m\u001b[1;33m(\u001b[0m\u001b[0mb\u001b[0m\u001b[1;33m)\u001b[0m\u001b[1;33m\u001b[0m\u001b[0m\n\u001b[0m\u001b[0;32m      7\u001b[0m \u001b[0mc\u001b[0m\u001b[1;33m=\u001b[0m\u001b[0ma\u001b[0m\u001b[1;33m/\u001b[0m\u001b[0mb\u001b[0m\u001b[1;33m\u001b[0m\u001b[0m\n\u001b[0;32m      8\u001b[0m \u001b[1;32mprint\u001b[0m \u001b[0mc\u001b[0m\u001b[1;33m\u001b[0m\u001b[0m\n",
      "\u001b[1;31mValueError\u001b[0m: invalid literal for int() with base 10: '1.3'"
     ]
    }
   ],
   "source": [
    "print \"program started\"\n",
    "\n",
    "a=raw_input(\"A value:\")\n",
    "b=raw_input(\"B valie:\")\n",
    "a=int(a)\n",
    "b=int(b)\n",
    "c=a/b\n",
    "print c\n",
    "\n",
    "print \"other statements in program \"\n",
    "\n",
    "print \"program ended\""
   ]
  },
  {
   "cell_type": "code",
   "execution_count": 3,
   "metadata": {
    "collapsed": false
   },
   "outputs": [
    {
     "name": "stdout",
     "output_type": "stream",
     "text": [
      "program started\n",
      "A value:12\n",
      "B valie:0.2\n",
      "60.0\n",
      "other statements in program \n",
      "program ended\n"
     ]
    }
   ],
   "source": [
    "print \"program started\"\n",
    "\n",
    "a=raw_input(\"A value:\")\n",
    "b=raw_input(\"B valie:\")\n",
    "a=float(a)\n",
    "b=float(b)\n",
    "c=a/b\n",
    "print c\n",
    "\n",
    "print \"other statements in program \"\n",
    "\n",
    "print \"program ended\""
   ]
  },
  {
   "cell_type": "code",
   "execution_count": 4,
   "metadata": {
    "collapsed": false
   },
   "outputs": [
    {
     "name": "stdout",
     "output_type": "stream",
     "text": [
      "program started\n",
      "A value:12\n",
      "B valie:we\n"
     ]
    },
    {
     "ename": "ValueError",
     "evalue": "could not convert string to float: we",
     "output_type": "error",
     "traceback": [
      "\u001b[1;31m---------------------------------------------------------------------------\u001b[0m",
      "\u001b[1;31mValueError\u001b[0m                                Traceback (most recent call last)",
      "\u001b[1;32m<ipython-input-4-b61002978bde>\u001b[0m in \u001b[0;36m<module>\u001b[1;34m()\u001b[0m\n\u001b[0;32m      4\u001b[0m \u001b[0mb\u001b[0m\u001b[1;33m=\u001b[0m\u001b[0mraw_input\u001b[0m\u001b[1;33m(\u001b[0m\u001b[1;34m\"B valie:\"\u001b[0m\u001b[1;33m)\u001b[0m\u001b[1;33m\u001b[0m\u001b[0m\n\u001b[0;32m      5\u001b[0m \u001b[0ma\u001b[0m\u001b[1;33m=\u001b[0m\u001b[0mfloat\u001b[0m\u001b[1;33m(\u001b[0m\u001b[0ma\u001b[0m\u001b[1;33m)\u001b[0m\u001b[1;33m\u001b[0m\u001b[0m\n\u001b[1;32m----> 6\u001b[1;33m \u001b[0mb\u001b[0m\u001b[1;33m=\u001b[0m\u001b[0mfloat\u001b[0m\u001b[1;33m(\u001b[0m\u001b[0mb\u001b[0m\u001b[1;33m)\u001b[0m\u001b[1;33m\u001b[0m\u001b[0m\n\u001b[0m\u001b[0;32m      7\u001b[0m \u001b[0mc\u001b[0m\u001b[1;33m=\u001b[0m\u001b[0ma\u001b[0m\u001b[1;33m/\u001b[0m\u001b[0mb\u001b[0m\u001b[1;33m\u001b[0m\u001b[0m\n\u001b[0;32m      8\u001b[0m \u001b[1;32mprint\u001b[0m \u001b[0mc\u001b[0m\u001b[1;33m\u001b[0m\u001b[0m\n",
      "\u001b[1;31mValueError\u001b[0m: could not convert string to float: we"
     ]
    }
   ],
   "source": [
    "print \"program started\"\n",
    "\n",
    "a=raw_input(\"A value:\")\n",
    "b=raw_input(\"B valie:\")\n",
    "a=float(a)\n",
    "b=float(b)\n",
    "c=a/b\n",
    "print c\n",
    "print \"other statements in program \"\n",
    "print \"program ended\""
   ]
  },
  {
   "cell_type": "code",
   "execution_count": 5,
   "metadata": {
    "collapsed": false
   },
   "outputs": [
    {
     "name": "stdout",
     "output_type": "stream",
     "text": [
      "program started\n",
      "A value:12\n",
      "B valie:6\n",
      "2.0\n",
      "other statements in program \n",
      "program ended\n"
     ]
    }
   ],
   "source": [
    "try:\n",
    "    print \"program started\"\n",
    "    a=raw_input(\"A value:\")\n",
    "    b=raw_input(\"B valie:\")\n",
    "    a=float(a)\n",
    "    b=float(b)\n",
    "    c=a/b\n",
    "    print c\n",
    "    print \"other statements in program \"\n",
    "    print \"program ended\"\n",
    "except:\n",
    "    print \"Somethong went wrong\""
   ]
  },
  {
   "cell_type": "code",
   "execution_count": 6,
   "metadata": {
    "collapsed": false
   },
   "outputs": [
    {
     "name": "stdout",
     "output_type": "stream",
     "text": [
      "program started\n",
      "A value:we2\n",
      "B valie:23\n",
      "Somethong went wrong\n"
     ]
    }
   ],
   "source": [
    "try:\n",
    "    print \"program started\"\n",
    "    a=raw_input(\"A value:\")\n",
    "    b=raw_input(\"B valie:\")\n",
    "    a=float(a)\n",
    "    b=float(b)\n",
    "    c=a/b\n",
    "    print c\n",
    "    print \"other statements in program \"\n",
    "    print \"program ended\"\n",
    "except:\n",
    "    print \"Somethong went wrong\""
   ]
  },
  {
   "cell_type": "code",
   "execution_count": 7,
   "metadata": {
    "collapsed": false
   },
   "outputs": [
    {
     "name": "stdout",
     "output_type": "stream",
     "text": [
      "program started\n",
      "A value:12\n",
      "B valie:6\n",
      "2.0\n",
      "other statements in program \n",
      "program ended\n"
     ]
    }
   ],
   "source": [
    "print \"program started\"\n",
    "a=raw_input(\"A value:\")\n",
    "b=raw_input(\"B valie:\")\n",
    "try:\n",
    "    a=float(a)\n",
    "    b=float(b)\n",
    "    c=a/b\n",
    "    print c\n",
    "except:\n",
    "    print \"Somethong went wrong\"\n",
    "\n",
    "print \"other statements in program \"\n",
    "print \"program ended\""
   ]
  },
  {
   "cell_type": "code",
   "execution_count": 8,
   "metadata": {
    "collapsed": false
   },
   "outputs": [
    {
     "name": "stdout",
     "output_type": "stream",
     "text": [
      "program started\n",
      "A value:qwe\n",
      "B valie:23\n",
      "Somethong went wrong\n",
      "other statements in program \n",
      "program ended\n"
     ]
    }
   ],
   "source": [
    "print \"program started\"\n",
    "a=raw_input(\"A value:\")\n",
    "b=raw_input(\"B valie:\")\n",
    "try:\n",
    "    a=float(a)\n",
    "    b=float(b)\n",
    "    c=a/b\n",
    "    print c\n",
    "except:\n",
    "    print \"Somethong went wrong\"\n",
    "\n",
    "print \"other statements in program \"\n",
    "print \"program ended\""
   ]
  },
  {
   "cell_type": "code",
   "execution_count": 10,
   "metadata": {
    "collapsed": false
   },
   "outputs": [
    {
     "name": "stdout",
     "output_type": "stream",
     "text": [
      "program started\n",
      "A value:12\n",
      "B valie:ert\n",
      "Enter only digits but not the chars\n",
      "other statements in program \n",
      "program ended\n"
     ]
    }
   ],
   "source": [
    "print \"program started\"\n",
    "a=raw_input(\"A value:\")\n",
    "b=raw_input(\"B valie:\")\n",
    "try:\n",
    "    a=float(a)\n",
    "    b=float(b)\n",
    "    c=a/b\n",
    "    print c\n",
    "except:\n",
    "    print \"Enter only digits but not the chars\"\n",
    "\n",
    "print \"other statements in program \"\n",
    "print \"program ended\""
   ]
  },
  {
   "cell_type": "code",
   "execution_count": 11,
   "metadata": {
    "collapsed": false
   },
   "outputs": [
    {
     "name": "stdout",
     "output_type": "stream",
     "text": [
      "program started\n",
      "A value:12\n",
      "B valie:0\n",
      "Enter only digits but not the chars\n",
      "other statements in program \n",
      "program ended\n"
     ]
    }
   ],
   "source": [
    "print \"program started\"\n",
    "a=raw_input(\"A value:\")\n",
    "b=raw_input(\"B valie:\")\n",
    "try:\n",
    "    a=float(a)\n",
    "    b=float(b)\n",
    "    c=a/b\n",
    "    print c\n",
    "except:\n",
    "    print \"Enter only digits but not the chars\"\n",
    "\n",
    "print \"other statements in program \"\n",
    "print \"program ended\""
   ]
  },
  {
   "cell_type": "code",
   "execution_count": 12,
   "metadata": {
    "collapsed": false
   },
   "outputs": [
    {
     "name": "stdout",
     "output_type": "stream",
     "text": [
      "program started\n",
      "A value:11\n",
      "B valie:0\n",
      "Enter only digits but not the chars\n",
      "Don't enter zero for b\n",
      "other statements in program \n",
      "program ended\n"
     ]
    }
   ],
   "source": [
    "print \"program started\"\n",
    "a=raw_input(\"A value:\")\n",
    "b=raw_input(\"B valie:\")\n",
    "try:\n",
    "    a=float(a)\n",
    "    b=float(b)\n",
    "    c=a/b\n",
    "    print c\n",
    "except:\n",
    "    print \"Enter only digits but not the chars\"\n",
    "    print \"Don't enter zero for b\"\n",
    "\n",
    "print \"other statements in program \"\n",
    "print \"program ended\""
   ]
  },
  {
   "cell_type": "code",
   "execution_count": 13,
   "metadata": {
    "collapsed": false
   },
   "outputs": [
    {
     "name": "stdout",
     "output_type": "stream",
     "text": [
      "program started\n",
      "A value:12\n",
      "B valie:6\n",
      "2.0\n",
      "other statements in program \n",
      "program ended\n"
     ]
    }
   ],
   "source": [
    "print \"program started\"\n",
    "a=raw_input(\"A value:\")\n",
    "b=raw_input(\"B valie:\")\n",
    "try:\n",
    "    a=float(a)\n",
    "    b=float(b)\n",
    "    c=a/b\n",
    "    print c\n",
    "except:\n",
    "    print \"Enter only digits but not the chars\"\n",
    "    print \"Don't enter zero for b\"\n",
    "\n",
    "print \"other statements in program \"\n",
    "print \"program ended\""
   ]
  },
  {
   "cell_type": "code",
   "execution_count": 14,
   "metadata": {
    "collapsed": false
   },
   "outputs": [
    {
     "name": "stdout",
     "output_type": "stream",
     "text": [
      "program started\n",
      "A value:12\n",
      "B valie:6\n",
      "2.0\n",
      "other statements in program \n",
      "program ended\n"
     ]
    }
   ],
   "source": [
    "print \"program started\"\n",
    "a=raw_input(\"A value:\")\n",
    "b=raw_input(\"B valie:\")\n",
    "try:\n",
    "    a=float(a)\n",
    "    b=float(b)\n",
    "    c=a/b\n",
    "    print c\n",
    "except Exception as err:\n",
    "    print err\n",
    "print \"other statements in program \"\n",
    "print \"program ended\""
   ]
  },
  {
   "cell_type": "code",
   "execution_count": 15,
   "metadata": {
    "collapsed": false
   },
   "outputs": [
    {
     "name": "stdout",
     "output_type": "stream",
     "text": [
      "program started\n",
      "A value:12\n",
      "B valie:0\n",
      "float division by zero\n",
      "other statements in program \n",
      "program ended\n"
     ]
    }
   ],
   "source": [
    "print \"program started\"\n",
    "a=raw_input(\"A value:\")\n",
    "b=raw_input(\"B valie:\")\n",
    "try:\n",
    "    a=float(a)\n",
    "    b=float(b)\n",
    "    c=a/b\n",
    "    print c\n",
    "except Exception as err:\n",
    "    print err\n",
    "print \"other statements in program \"\n",
    "print \"program ended\""
   ]
  },
  {
   "cell_type": "code",
   "execution_count": 16,
   "metadata": {
    "collapsed": false
   },
   "outputs": [
    {
     "name": "stdout",
     "output_type": "stream",
     "text": [
      "program started\n",
      "A value:12\n",
      "B valie:wer\n",
      "could not convert string to float: wer\n",
      "other statements in program \n",
      "program ended\n"
     ]
    }
   ],
   "source": [
    "print \"program started\"\n",
    "a=raw_input(\"A value:\")\n",
    "b=raw_input(\"B valie:\")\n",
    "try:\n",
    "    a=float(a)\n",
    "    b=float(b)\n",
    "    c=a/b\n",
    "    print c\n",
    "except Exception as err:\n",
    "    print err\n",
    "print \"other statements in program \"\n",
    "print \"program ended\""
   ]
  },
  {
   "cell_type": "code",
   "execution_count": 17,
   "metadata": {
    "collapsed": false
   },
   "outputs": [
    {
     "name": "stdout",
     "output_type": "stream",
     "text": [
      "program started\n",
      "A value:12\n",
      "B valie:6\n",
      "2.0\n",
      "other statements in program \n",
      "program ended\n"
     ]
    }
   ],
   "source": [
    "print \"program started\"\n",
    "a=raw_input(\"A value:\")\n",
    "b=raw_input(\"B valie:\")\n",
    "try:\n",
    "    a=float(a)\n",
    "    b=float(b)\n",
    "    c=a/b\n",
    "    print c\n",
    "except ValueError:\n",
    "    print \"Enter oinly digits\"\n",
    "except ZeroDivisionError:\n",
    "    print \"Don't enter zero for b\"\n",
    "    \n",
    "print \"other statements in program \"\n",
    "print \"program ended\""
   ]
  },
  {
   "cell_type": "code",
   "execution_count": 18,
   "metadata": {
    "collapsed": false
   },
   "outputs": [
    {
     "name": "stdout",
     "output_type": "stream",
     "text": [
      "program started\n",
      "A value:12\n",
      "B valie:0\n",
      "Don't enter zero for b\n",
      "other statements in program \n",
      "program ended\n"
     ]
    }
   ],
   "source": [
    "print \"program started\"\n",
    "a=raw_input(\"A value:\")\n",
    "b=raw_input(\"B valie:\")\n",
    "try:\n",
    "    a=float(a)\n",
    "    b=float(b)\n",
    "    c=a/b\n",
    "    print c\n",
    "except ValueError:\n",
    "    print \"Enter oinly digits\"\n",
    "except ZeroDivisionError:\n",
    "    print \"Don't enter zero for b\"\n",
    "    \n",
    "print \"other statements in program \"\n",
    "print \"program ended\""
   ]
  },
  {
   "cell_type": "code",
   "execution_count": 19,
   "metadata": {
    "collapsed": false
   },
   "outputs": [
    {
     "name": "stdout",
     "output_type": "stream",
     "text": [
      "program started\n",
      "A value:12\n",
      "B valie:wer\n",
      "Enter oinly digits\n",
      "other statements in program \n",
      "program ended\n"
     ]
    }
   ],
   "source": [
    "print \"program started\"\n",
    "a=raw_input(\"A value:\")\n",
    "b=raw_input(\"B valie:\")\n",
    "try:\n",
    "    a=float(a)\n",
    "    b=float(b)\n",
    "    c=a/b\n",
    "    print c\n",
    "except ValueError:\n",
    "    print \"Enter oinly digits\"\n",
    "except ZeroDivisionError:\n",
    "    print \"Don't enter zero for b\"\n",
    "    \n",
    "print \"other statements in program \"\n",
    "print \"program ended\""
   ]
  },
  {
   "cell_type": "code",
   "execution_count": 20,
   "metadata": {
    "collapsed": false
   },
   "outputs": [
    {
     "name": "stdout",
     "output_type": "stream",
     "text": [
      "program started\n",
      "A value:12\n",
      "B valie:we\n",
      "Enter oinly digits\n",
      "other statements in program \n",
      "program ended\n"
     ]
    }
   ],
   "source": [
    "print \"program started\"\n",
    "a=raw_input(\"A value:\")\n",
    "b=raw_input(\"B valie:\")\n",
    "try:\n",
    "    a=float(a)\n",
    "    b=float(b)\n",
    "    c=a/b\n",
    "    print c\n",
    "except ValueError:\n",
    "    print \"Enter oinly digits\"\n",
    "except ZeroDivisionError:\n",
    "    print \"Don't enter zero for b\"\n",
    "except Exception as err:\n",
    "    print err\n",
    "    \n",
    "print \"other statements in program \"\n",
    "print \"program ended\""
   ]
  },
  {
   "cell_type": "code",
   "execution_count": 21,
   "metadata": {
    "collapsed": false
   },
   "outputs": [
    {
     "name": "stdout",
     "output_type": "stream",
     "text": [
      "program started\n",
      "A value:12\n",
      "B valie:0\n",
      "float division by zero\n",
      "other statements in program \n",
      "program ended\n"
     ]
    }
   ],
   "source": [
    "print \"program started\"\n",
    "a=raw_input(\"A value:\")\n",
    "b=raw_input(\"B valie:\")\n",
    "try:\n",
    "    a=float(a)\n",
    "    b=float(b)\n",
    "    c=a/b\n",
    "    print c\n",
    "except Exception as err:\n",
    "    print err\n",
    "except ValueError:\n",
    "    print \"Enter oinly digits\"\n",
    "except ZeroDivisionError:\n",
    "    print \"Don't enter zero for b\"\n",
    "    \n",
    "print \"other statements in program \"\n",
    "print \"program ended\""
   ]
  },
  {
   "cell_type": "code",
   "execution_count": 22,
   "metadata": {
    "collapsed": false
   },
   "outputs": [
    {
     "name": "stdout",
     "output_type": "stream",
     "text": [
      "100\n"
     ]
    }
   ],
   "source": [
    "def fun():\n",
    "    return 100\n",
    "    return 200\n",
    "a=fun()\n",
    "print a"
   ]
  },
  {
   "cell_type": "code",
   "execution_count": null,
   "metadata": {
    "collapsed": true
   },
   "outputs": [],
   "source": [
    "print \"program started\"\n",
    "a=raw_input(\"A value:\")\n",
    "b=raw_input(\"B valie:\")\n",
    "f=open('f1.txt')\n",
    "f.write(\"This file is for store divisions\")\n",
    "try:\n",
    "    a=float(a)\n",
    "    b=float(b)\n",
    "    c=a/b\n",
    "    \n",
    "    print c\n",
    "    f.write(\"\\nresult:{0}\".format(c))\n",
    "    \n",
    "except Exception as err:\n",
    "    print err\n",
    "except ValueError:\n",
    "    print \"Enter oinly digits\"\n",
    "except ZeroDivisionError:\n",
    "    print \"Don't enter zero for b\"\n",
    "    \n",
    "print \"other statements in program \"\n",
    "print \"program ended\""
   ]
  }
 ],
 "metadata": {
  "kernelspec": {
   "display_name": "Python 2",
   "language": "python",
   "name": "python2"
  },
  "language_info": {
   "codemirror_mode": {
    "name": "ipython",
    "version": 2
   },
   "file_extension": ".py",
   "mimetype": "text/x-python",
   "name": "python",
   "nbconvert_exporter": "python",
   "pygments_lexer": "ipython2",
   "version": "2.7.11"
  }
 },
 "nbformat": 4,
 "nbformat_minor": 0
}
