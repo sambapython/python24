{
 "cells": [
  {
   "cell_type": "code",
   "execution_count": 1,
   "metadata": {
    "collapsed": false
   },
   "outputs": [
    {
     "name": "stdout",
     "output_type": "stream",
     "text": [
      "('Anil', 2, 356)\n"
     ]
    }
   ],
   "source": [
    "class Emp:\n",
    "    def __init__(self,e_id,name,sal):\n",
    "        self.e_id = e_id\n",
    "        self.name = name\n",
    "        self.sal = sal\n",
    "        \n",
    "    def get_emp(self):\n",
    "        return self.name,self.e_id,self.\n",
    "        \n",
    "ashok = Emp(1,'Ashok',123456)\n",
    "anil = Emp(2,\"Anil\",356)\n",
    "print anil.get_emp()"
   ]
  },
  {
   "cell_type": "code",
   "execution_count": 3,
   "metadata": {
    "collapsed": false
   },
   "outputs": [
    {
     "name": "stdout",
     "output_type": "stream",
     "text": [
      "('Ashok', 1, 123456)\n"
     ]
    }
   ],
   "source": [
    "print ashok.get_emp()"
   ]
  },
  {
   "cell_type": "code",
   "execution_count": 8,
   "metadata": {
    "collapsed": false
   },
   "outputs": [
    {
     "name": "stdout",
     "output_type": "stream",
     "text": [
      "('Ashok', 1, 10, 123456)\n",
      "20\n",
      "('mod_ashok_name', 1, 10, 123456)\n",
      "('Anil', 2, 10, 356)\n"
     ]
    }
   ],
   "source": [
    "class Emp:\n",
    "    def __init__(self,e_id,name,sal):\n",
    "        self.e_id = e_id\n",
    "        self.name = name\n",
    "        self.sal = sal\n",
    "        self.__inc = 10\n",
    "        \n",
    "    def get_emp(self):\n",
    "        return self.name,self.e_id,self.__inc,self.sal\n",
    "        \n",
    "ashok = Emp(1,'Ashok',123456)\n",
    "print ashok.get_emp()\n",
    "ashok.name=\"mod_ashok_name\"\n",
    "ashok.__inc=20\n",
    "print ashok.__inc\n",
    "print ashok.get_emp()\n",
    "anil = Emp(2,\"Anil\",356)\n",
    "print anil.get_emp()"
   ]
  },
  {
   "cell_type": "code",
   "execution_count": 10,
   "metadata": {
    "collapsed": false
   },
   "outputs": [
    {
     "name": "stdout",
     "output_type": "stream",
     "text": [
      "this is oper1 in c1\n",
      "this is oper2 in c2\n"
     ]
    }
   ],
   "source": [
    "class c1:\n",
    "    def oper1(self):\n",
    "        print \"this is oper1 in c1\"\n",
    "class c2:\n",
    "    def oper2(self):\n",
    "        print \"this is oper2 in c2\"\n",
    "class c3:\n",
    "    def operations(self):\n",
    "        o1=c1()\n",
    "        o2=c2()\n",
    "        o1.oper1()\n",
    "        o2.oper2()\n",
    "        \n",
    "o3 = c3()\n",
    "o3.operations()"
   ]
  },
  {
   "cell_type": "code",
   "execution_count": 9,
   "metadata": {
    "collapsed": false
   },
   "outputs": [
    {
     "name": "stdout",
     "output_type": "stream",
     "text": [
      "operations\n"
     ]
    }
   ],
   "source": [
    "class c1:\n",
    "    def oper(self):\n",
    "        print \"operations\"\n",
    "        \n",
    "o1=c1()\n",
    "o1.oper()"
   ]
  },
  {
   "cell_type": "code",
   "execution_count": 11,
   "metadata": {
    "collapsed": false
   },
   "outputs": [
    {
     "ename": "AttributeError",
     "evalue": "c3 instance has no attribute 'oper1'",
     "output_type": "error",
     "traceback": [
      "\u001b[1;31m---------------------------------------------------------------------------\u001b[0m",
      "\u001b[1;31mAttributeError\u001b[0m                            Traceback (most recent call last)",
      "\u001b[1;32m<ipython-input-11-0aee2b89ca21>\u001b[0m in \u001b[0;36m<module>\u001b[1;34m()\u001b[0m\n\u001b[0;32m     11\u001b[0m \u001b[1;33m\u001b[0m\u001b[0m\n\u001b[0;32m     12\u001b[0m \u001b[0mo3\u001b[0m \u001b[1;33m=\u001b[0m \u001b[0mc3\u001b[0m\u001b[1;33m(\u001b[0m\u001b[1;33m)\u001b[0m\u001b[1;33m\u001b[0m\u001b[0m\n\u001b[1;32m---> 13\u001b[1;33m \u001b[0mo3\u001b[0m\u001b[1;33m.\u001b[0m\u001b[0moperations\u001b[0m\u001b[1;33m(\u001b[0m\u001b[1;33m)\u001b[0m\u001b[1;33m\u001b[0m\u001b[0m\n\u001b[0m",
      "\u001b[1;32m<ipython-input-11-0aee2b89ca21>\u001b[0m in \u001b[0;36moperations\u001b[1;34m(self)\u001b[0m\n\u001b[0;32m      7\u001b[0m \u001b[1;32mclass\u001b[0m \u001b[0mc3\u001b[0m\u001b[1;33m:\u001b[0m\u001b[1;33m\u001b[0m\u001b[0m\n\u001b[0;32m      8\u001b[0m     \u001b[1;32mdef\u001b[0m \u001b[0moperations\u001b[0m\u001b[1;33m(\u001b[0m\u001b[0mself\u001b[0m\u001b[1;33m)\u001b[0m\u001b[1;33m:\u001b[0m\u001b[1;33m\u001b[0m\u001b[0m\n\u001b[1;32m----> 9\u001b[1;33m         \u001b[0mself\u001b[0m\u001b[1;33m.\u001b[0m\u001b[0moper1\u001b[0m\u001b[1;33m(\u001b[0m\u001b[1;33m)\u001b[0m\u001b[1;33m\u001b[0m\u001b[0m\n\u001b[0m\u001b[0;32m     10\u001b[0m         \u001b[0mself\u001b[0m\u001b[1;33m.\u001b[0m\u001b[0moper2\u001b[0m\u001b[1;33m(\u001b[0m\u001b[1;33m)\u001b[0m\u001b[1;33m\u001b[0m\u001b[0m\n\u001b[0;32m     11\u001b[0m \u001b[1;33m\u001b[0m\u001b[0m\n",
      "\u001b[1;31mAttributeError\u001b[0m: c3 instance has no attribute 'oper1'"
     ]
    }
   ],
   "source": [
    "class c1:\n",
    "    def oper1(self):\n",
    "        print \"this is oper1 in c1\"\n",
    "class c2:\n",
    "    def oper2(self):\n",
    "        print \"this is oper2 in c2\"\n",
    "class c3:\n",
    "    def operations(self):\n",
    "        self.oper1()\n",
    "        self.oper2()\n",
    "        \n",
    "o3 = c3()\n",
    "o3.operations()"
   ]
  },
  {
   "cell_type": "code",
   "execution_count": 12,
   "metadata": {
    "collapsed": false
   },
   "outputs": [
    {
     "name": "stdout",
     "output_type": "stream",
     "text": [
      "this is oper1 in c1\n",
      "this is oper2 in c2\n"
     ]
    }
   ],
   "source": [
    "class c1:\n",
    "    def oper1(self):\n",
    "        print \"this is oper1 in c1\"\n",
    "class c2:\n",
    "    def oper2(self):\n",
    "        print \"this is oper2 in c2\"\n",
    "class c3(c1,c2):\n",
    "    def operations(self):\n",
    "        self.oper1()\n",
    "        self.oper2()\n",
    "        \n",
    "o3 = c3()\n",
    "o3.operations()"
   ]
  },
  {
   "cell_type": "code",
   "execution_count": 13,
   "metadata": {
    "collapsed": false
   },
   "outputs": [
    {
     "name": "stdout",
     "output_type": "stream",
     "text": [
      "this is oper1 in c3\n",
      "this is oper2 in c2\n"
     ]
    }
   ],
   "source": [
    "class c1:\n",
    "    def oper1(self):\n",
    "        print \"this is oper1 in c1\"\n",
    "class c2:\n",
    "    def oper2(self):\n",
    "        print \"this is oper2 in c2\"\n",
    "class c3(c1,c2):\n",
    "    def operations(self):\n",
    "        self.oper1()\n",
    "        self.oper2()\n",
    "        \n",
    "    def oper1(self):\n",
    "        print \"this is oper1 in c3\"\n",
    "        \n",
    "o3 = c3()\n",
    "o3.operations()"
   ]
  },
  {
   "cell_type": "code",
   "execution_count": 14,
   "metadata": {
    "collapsed": false
   },
   "outputs": [
    {
     "name": "stdout",
     "output_type": "stream",
     "text": [
      "this is oper1 in c3\n",
      "this is oper2 in c2\n"
     ]
    }
   ],
   "source": [
    "class c1:\n",
    "    def oper1(self):\n",
    "        print \"this is oper1 in c1\"\n",
    "class c2(c1):\n",
    "    def oper2(self):\n",
    "        print \"this is oper2 in c2\"\n",
    "class c3(c2):\n",
    "    def operations(self):\n",
    "        self.oper1()\n",
    "        self.oper2()\n",
    "        \n",
    "    def oper1(self):\n",
    "        print \"this is oper1 in c3\"\n",
    "        \n",
    "o3 = c3()\n",
    "o3.operations()"
   ]
  },
  {
   "cell_type": "code",
   "execution_count": 15,
   "metadata": {
    "collapsed": false
   },
   "outputs": [
    {
     "name": "stdout",
     "output_type": "stream",
     "text": [
      "<__main__.c1 instance at 0x7f22d08e1f38>\n"
     ]
    }
   ],
   "source": [
    "class c1:\n",
    "    def __init__(self,a,b):\n",
    "        self.a=a\n",
    "        self.b=b\n",
    "o1=c1(10,20)\n",
    "print o1      "
   ]
  },
  {
   "cell_type": "code",
   "execution_count": 19,
   "metadata": {
    "collapsed": false
   },
   "outputs": [
    {
     "name": "stdout",
     "output_type": "stream",
     "text": [
      "__str__ called\n",
      "10,20\n"
     ]
    }
   ],
   "source": [
    "class c1:\n",
    "    def __init__(self,a,b):\n",
    "        self.a=a\n",
    "        self.b=b\n",
    "    def __str__(self):\n",
    "        print \"__str__ called\"\n",
    "        return str(self.a)+\",\"+str(self.b)\n",
    "    def oper(self):\n",
    "        print \"operations\"\n",
    "o1=c1(10,20)\n",
    "print o1    \n",
    "o1.oper\n",
    "o2=o1"
   ]
  },
  {
   "cell_type": "code",
   "execution_count": 20,
   "metadata": {
    "collapsed": false
   },
   "outputs": [
    {
     "name": "stdout",
     "output_type": "stream",
     "text": [
      "<type 'instance'>\n"
     ]
    }
   ],
   "source": [
    "class c1:\n",
    "    def __init__(self,a,b):\n",
    "        self.a=a\n",
    "        self.b=b\n",
    "    def __str__(self):\n",
    "        print \"__str__ called\"\n",
    "        return str(self.a)+\",\"+str(self.b)\n",
    "    def oper(self):\n",
    "        print \"operations\"\n",
    "o1=c1(10,20)\n",
    "o2=c1(100,200)\n",
    "print type(o1)"
   ]
  },
  {
   "cell_type": "code",
   "execution_count": 21,
   "metadata": {
    "collapsed": false
   },
   "outputs": [
    {
     "ename": "TypeError",
     "evalue": "unsupported operand type(s) for +: 'instance' and 'instance'",
     "output_type": "error",
     "traceback": [
      "\u001b[1;31m---------------------------------------------------------------------------\u001b[0m",
      "\u001b[1;31mTypeError\u001b[0m                                 Traceback (most recent call last)",
      "\u001b[1;32m<ipython-input-21-107e1a232bc4>\u001b[0m in \u001b[0;36m<module>\u001b[1;34m()\u001b[0m\n\u001b[1;32m----> 1\u001b[1;33m \u001b[1;32mprint\u001b[0m \u001b[0mo1\u001b[0m\u001b[1;33m+\u001b[0m\u001b[0mo2\u001b[0m\u001b[1;33m\u001b[0m\u001b[0m\n\u001b[0m",
      "\u001b[1;31mTypeError\u001b[0m: unsupported operand type(s) for +: 'instance' and 'instance'"
     ]
    }
   ],
   "source": [
    "print o1+o2"
   ]
  },
  {
   "cell_type": "code",
   "execution_count": 22,
   "metadata": {
    "collapsed": false
   },
   "outputs": [
    {
     "name": "stdout",
     "output_type": "stream",
     "text": [
      "30\n"
     ]
    }
   ],
   "source": [
    "a=10\n",
    "b=20\n",
    "print a+b"
   ]
  },
  {
   "cell_type": "code",
   "execution_count": null,
   "metadata": {
    "collapsed": true
   },
   "outputs": [],
   "source": [
    "class c1:\n",
    "    def __init__(self,a,b):\n",
    "        self.a=a\n",
    "        self.b=b\n",
    "    def __str__(self):\n",
    "        print \"__str__ called\"\n",
    "        return str(self.a)+\",\"+str(self.b)\n",
    "    def __add__(self):\n",
    "        return \"dummy value\"\n",
    "    def oper(self):\n",
    "        print \"operations\"\n",
    "o1=c1(10,20)\n",
    "o2=c1(100,200)\n",
    "print type(o1)"
   ]
  }
 ],
 "metadata": {
  "kernelspec": {
   "display_name": "Python 2",
   "language": "python",
   "name": "python2"
  },
  "language_info": {
   "codemirror_mode": {
    "name": "ipython",
    "version": 2
   },
   "file_extension": ".py",
   "mimetype": "text/x-python",
   "name": "python",
   "nbconvert_exporter": "python",
   "pygments_lexer": "ipython2",
   "version": "2.7.11"
  }
 },
 "nbformat": 4,
 "nbformat_minor": 0
}
