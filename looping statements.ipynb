{
 "cells": [
  {
   "cell_type": "code",
   "execution_count": null,
   "metadata": {
    "collapsed": true
   },
   "outputs": [],
   "source": [
    "# for while\n",
    "'''\n",
    "while condition:\n",
    "    print \"statements \"\n",
    "\n",
    "'''\n",
    "print \"program started\"\n",
    "i=0\n",
    "\n",
    "while i<10:\n",
    "    print \"i=\",i\n",
    "    \n",
    "print \"other statements in pprogramn\"\n",
    "print \"program ended\"\n"
   ]
  },
  {
   "cell_type": "code",
   "execution_count": 1,
   "metadata": {
    "collapsed": false
   },
   "outputs": [
    {
     "name": "stdout",
     "output_type": "stream",
     "text": [
      "program started\n",
      "i= 0\n",
      "i= 1\n",
      "i= 2\n",
      "other statements in pprogramn\n",
      "program ended\n"
     ]
    }
   ],
   "source": [
    "print \"program started\"\n",
    "i=0\n",
    "\n",
    "while i<3:\n",
    "    print \"i=\",i\n",
    "    i=i+1\n",
    "    \n",
    "print \"other statements in pprogramn\"\n",
    "print \"program ended\"\n"
   ]
  },
  {
   "cell_type": "code",
   "execution_count": 2,
   "metadata": {
    "collapsed": false
   },
   "outputs": [
    {
     "name": "stdout",
     "output_type": "stream",
     "text": [
      "program started\n",
      "i= 3\n",
      "other statements in pprogramn\n",
      "program ended\n"
     ]
    }
   ],
   "source": [
    "print \"program started\"\n",
    "i=0\n",
    "\n",
    "while i<3:\n",
    "    i=i+1\n",
    "print \"i=\",i\n",
    "    \n",
    "print \"other statements in pprogramn\"\n",
    "print \"program ended\"\n"
   ]
  },
  {
   "cell_type": "code",
   "execution_count": 3,
   "metadata": {
    "collapsed": false
   },
   "outputs": [
    {
     "name": "stdout",
     "output_type": "stream",
     "text": [
      "program started\n",
      "i= 0\n",
      "other statements in pprogramn\n",
      "program ended\n"
     ]
    }
   ],
   "source": [
    "# looping control staments\n",
    "print \"program started\"\n",
    "i=0\n",
    "\n",
    "while i<3:\n",
    "    break\n",
    "    i=i+1\n",
    "print \"i=\",i\n",
    "    \n",
    "print \"other statements in pprogramn\"\n",
    "print \"program ended\"\n"
   ]
  },
  {
   "cell_type": "code",
   "execution_count": 4,
   "metadata": {
    "collapsed": false
   },
   "outputs": [
    {
     "name": "stdout",
     "output_type": "stream",
     "text": [
      "program started\n",
      "i= 1\n",
      "other statements in pprogramn\n",
      "program ended\n"
     ]
    }
   ],
   "source": [
    "# looping control staments\n",
    "print \"program started\"\n",
    "i=0\n",
    "\n",
    "while i<3:\n",
    "    i=i+1\n",
    "    break\n",
    "print \"i=\",i\n",
    "    \n",
    "print \"other statements in pprogramn\"\n",
    "print \"program ended\"\n"
   ]
  },
  {
   "cell_type": "code",
   "execution_count": 6,
   "metadata": {
    "collapsed": false
   },
   "outputs": [
    {
     "name": "stdout",
     "output_type": "stream",
     "text": [
      "program started\n",
      "i= 1\n",
      "i= 2\n",
      "i= 3\n",
      "i= 4\n",
      "i= 5\n",
      "other statements in pprogramn\n",
      "program ended\n"
     ]
    }
   ],
   "source": [
    "# looping control staments\n",
    "print \"program started\"\n",
    "i=1\n",
    "\n",
    "while i<10:\n",
    "    print \"i=\",i\n",
    "    if i%5==0:\n",
    "        break\n",
    "    i=i+1\n",
    "    \n",
    "print \"other statements in pprogramn\"\n",
    "print \"program ended\"\n"
   ]
  },
  {
   "cell_type": "code",
   "execution_count": 8,
   "metadata": {
    "collapsed": false
   },
   "outputs": [
    {
     "name": "stdout",
     "output_type": "stream",
     "text": [
      "program started\n",
      "i= 2\n",
      "i= 3\n",
      "i= 4\n",
      "i= 6\n",
      "i= 7\n",
      "i= 8\n",
      "i= 9\n",
      "other statements in pprogramn\n",
      "program ended\n"
     ]
    }
   ],
   "source": [
    "# looping control staments\n",
    "print \"program started\"\n",
    "i=1\n",
    "\n",
    "while i<10:\n",
    "    \n",
    "    i=i+1\n",
    "    if i%5==0:\n",
    "        continue\n",
    "    print \"i=\",i\n",
    "       \n",
    "print \"other statements in pprogramn\"\n",
    "print \"program ended\"\n"
   ]
  },
  {
   "cell_type": "code",
   "execution_count": 9,
   "metadata": {
    "collapsed": false
   },
   "outputs": [
    {
     "name": "stdout",
     "output_type": "stream",
     "text": [
      "program started\n",
      "p\n",
      "y\n",
      "t\n",
      "h\n",
      "o\n",
      "n\n",
      " \n",
      "p\n",
      "r\n",
      "o\n",
      "g\n",
      "r\n",
      "a\n",
      "m\n",
      "other statements in pprogramn\n",
      "program ended\n"
     ]
    }
   ],
   "source": [
    "#for\n",
    "print \"program started\"\n",
    "for i in \"python program\":\n",
    "    print i\n",
    "print \"other statements in pprogramn\"\n",
    "print \"program ended\""
   ]
  },
  {
   "cell_type": "code",
   "execution_count": 10,
   "metadata": {
    "collapsed": false
   },
   "outputs": [
    {
     "name": "stdout",
     "output_type": "stream",
     "text": [
      "program started\n",
      "p\n",
      "other statements in pprogramn\n",
      "program ended\n"
     ]
    }
   ],
   "source": [
    "#for\n",
    "print \"program started\"\n",
    "for i in \"python program\":\n",
    "    print i\n",
    "    break\n",
    "print \"other statements in pprogramn\"\n",
    "print \"program ended\""
   ]
  },
  {
   "cell_type": "code",
   "execution_count": 11,
   "metadata": {
    "collapsed": false
   },
   "outputs": [
    {
     "name": "stdout",
     "output_type": "stream",
     "text": [
      "program started\n",
      "p\n",
      "y\n",
      "t\n",
      "h\n",
      "o\n",
      "n\n",
      " \n",
      "p\n",
      "r\n",
      "o\n",
      "g\n",
      "r\n",
      "a\n",
      "m\n",
      "other statements in pprogramn\n",
      "program ended\n"
     ]
    }
   ],
   "source": [
    "#for\n",
    "print \"program started\"\n",
    "for i in \"python program\":\n",
    "    print i\n",
    "    continue\n",
    "print \"other statements in pprogramn\"\n",
    "print \"program ended\""
   ]
  },
  {
   "cell_type": "code",
   "execution_count": 12,
   "metadata": {
    "collapsed": false
   },
   "outputs": [
    {
     "name": "stdout",
     "output_type": "stream",
     "text": [
      "program started\n",
      "other statements in pprogramn\n",
      "program ended\n"
     ]
    }
   ],
   "source": [
    "#for\n",
    "print \"program started\"\n",
    "for i in \"python program\":\n",
    "    continue\n",
    "    print i\n",
    "    \n",
    "print \"other statements in pprogramn\"\n",
    "print \"program ended\""
   ]
  },
  {
   "cell_type": "code",
   "execution_count": 13,
   "metadata": {
    "collapsed": false
   },
   "outputs": [
    {
     "name": "stdout",
     "output_type": "stream",
     "text": [
      "m\n"
     ]
    }
   ],
   "source": [
    "print i"
   ]
  },
  {
   "cell_type": "code",
   "execution_count": 14,
   "metadata": {
    "collapsed": false
   },
   "outputs": [
    {
     "name": "stdout",
     "output_type": "stream",
     "text": [
      "program started\n",
      "other statements in pprogramn\n",
      "program ended\n"
     ]
    }
   ],
   "source": [
    "#for\n",
    "print \"program started\"\n",
    "for i in \"python program\":\n",
    "    break\n",
    "    print i\n",
    "    \n",
    "print \"other statements in pprogramn\"\n",
    "print \"program ended\""
   ]
  },
  {
   "cell_type": "code",
   "execution_count": 15,
   "metadata": {
    "collapsed": false
   },
   "outputs": [
    {
     "name": "stdout",
     "output_type": "stream",
     "text": [
      "p\n"
     ]
    }
   ],
   "source": [
    "print i"
   ]
  },
  {
   "cell_type": "code",
   "execution_count": 16,
   "metadata": {
    "collapsed": false
   },
   "outputs": [
    {
     "name": "stdout",
     "output_type": "stream",
     "text": [
      "program started\n",
      "other statements in pprogramn\n",
      "program ended\n"
     ]
    }
   ],
   "source": [
    "#for\n",
    "print \"program started\"\n",
    "for i in \"python program\":\n",
    "    break\n",
    "    print i\n",
    "else:\n",
    "    print \"this is for else block\"\n",
    "    \n",
    "print \"other statements in pprogramn\"\n",
    "print \"program ended\""
   ]
  },
  {
   "cell_type": "code",
   "execution_count": 17,
   "metadata": {
    "collapsed": false
   },
   "outputs": [
    {
     "name": "stdout",
     "output_type": "stream",
     "text": [
      "program started\n",
      "p\n",
      "y\n",
      "t\n",
      "h\n",
      "o\n",
      "n\n",
      " \n",
      "p\n",
      "r\n",
      "o\n",
      "g\n",
      "r\n",
      "a\n",
      "m\n",
      "this is for else block\n",
      "other statements in pprogramn\n",
      "program ended\n"
     ]
    }
   ],
   "source": [
    "#for\n",
    "print \"program started\"\n",
    "for i in \"python program\":\n",
    "    print i\n",
    "else:\n",
    "    print \"this is for else block\"\n",
    "    \n",
    "print \"other statements in pprogramn\"\n",
    "print \"program ended\""
   ]
  },
  {
   "cell_type": "code",
   "execution_count": 18,
   "metadata": {
    "collapsed": false
   },
   "outputs": [
    {
     "name": "stdout",
     "output_type": "stream",
     "text": [
      "program started\n",
      "p\n",
      "y\n",
      "t\n",
      "h\n",
      "o\n",
      "n\n",
      " \n",
      "other statements in pprogramn\n",
      "program ended\n"
     ]
    }
   ],
   "source": [
    "#for\n",
    "print \"program started\"\n",
    "for i in \"python program\":\n",
    "    print i\n",
    "    if i==\" \":\n",
    "        break\n",
    "\n",
    "    \n",
    "print \"other statements in pprogramn\"\n",
    "print \"program ended\""
   ]
  },
  {
   "cell_type": "code",
   "execution_count": 19,
   "metadata": {
    "collapsed": false
   },
   "outputs": [
    {
     "data": {
      "text/plain": [
       "False"
      ]
     },
     "execution_count": 19,
     "metadata": {},
     "output_type": "execute_result"
    }
   ],
   "source": [
    "\"python program\".isspace()"
   ]
  },
  {
   "cell_type": "code",
   "execution_count": 20,
   "metadata": {
    "collapsed": false
   },
   "outputs": [
    {
     "data": {
      "text/plain": [
       "False"
      ]
     },
     "execution_count": 20,
     "metadata": {},
     "output_type": "execute_result"
    }
   ],
   "source": [
    "\"\".isspace()"
   ]
  },
  {
   "cell_type": "code",
   "execution_count": 21,
   "metadata": {
    "collapsed": false
   },
   "outputs": [
    {
     "data": {
      "text/plain": [
       "True"
      ]
     },
     "execution_count": 21,
     "metadata": {},
     "output_type": "execute_result"
    }
   ],
   "source": [
    "\" \".isspace()"
   ]
  },
  {
   "cell_type": "code",
   "execution_count": 22,
   "metadata": {
    "collapsed": false
   },
   "outputs": [
    {
     "data": {
      "text/plain": [
       "True"
      ]
     },
     "execution_count": 22,
     "metadata": {},
     "output_type": "execute_result"
    }
   ],
   "source": [
    "\"    \".isspace()"
   ]
  },
  {
   "cell_type": "code",
   "execution_count": 23,
   "metadata": {
    "collapsed": false
   },
   "outputs": [
    {
     "name": "stdout",
     "output_type": "stream",
     "text": [
      "program started\n",
      "p\n",
      "y\n",
      "t\n",
      "h\n",
      "o\n",
      "n\n",
      " \n",
      "other statements in pprogramn\n",
      "program ended\n"
     ]
    }
   ],
   "source": [
    "#for\n",
    "print \"program started\"\n",
    "for i in \"python program\":\n",
    "    print i\n",
    "    if i.isspace():\n",
    "        break\n",
    "\n",
    "    \n",
    "print \"other statements in pprogramn\"\n",
    "print \"program ended\""
   ]
  },
  {
   "cell_type": "code",
   "execution_count": 24,
   "metadata": {
    "collapsed": false
   },
   "outputs": [
    {
     "data": {
      "text/plain": [
       "False"
      ]
     },
     "execution_count": 24,
     "metadata": {},
     "output_type": "execute_result"
    }
   ],
   "source": [
    "#s=raw_input(\"Enter a string:\")\n",
    "\"abcdfer\".isupper()"
   ]
  },
  {
   "cell_type": "code",
   "execution_count": 25,
   "metadata": {
    "collapsed": false
   },
   "outputs": [
    {
     "data": {
      "text/plain": [
       "False"
      ]
     },
     "execution_count": 25,
     "metadata": {},
     "output_type": "execute_result"
    }
   ],
   "source": [
    "\"bsdfbdskfA\".isupper()"
   ]
  },
  {
   "cell_type": "code",
   "execution_count": 26,
   "metadata": {
    "collapsed": false
   },
   "outputs": [
    {
     "data": {
      "text/plain": [
       "True"
      ]
     },
     "execution_count": 26,
     "metadata": {},
     "output_type": "execute_result"
    }
   ],
   "source": [
    "\"ASWERT\".isupper()"
   ]
  },
  {
   "cell_type": "code",
   "execution_count": 27,
   "metadata": {
    "collapsed": false
   },
   "outputs": [
    {
     "data": {
      "text/plain": [
       "False"
      ]
     },
     "execution_count": 27,
     "metadata": {},
     "output_type": "execute_result"
    }
   ],
   "source": [
    "\"1234\".isupper()"
   ]
  },
  {
   "cell_type": "code",
   "execution_count": 28,
   "metadata": {
    "collapsed": false
   },
   "outputs": [
    {
     "data": {
      "text/plain": [
       "False"
      ]
     },
     "execution_count": 28,
     "metadata": {},
     "output_type": "execute_result"
    }
   ],
   "source": [
    "\"\".isupper()"
   ]
  },
  {
   "cell_type": "code",
   "execution_count": 29,
   "metadata": {
    "collapsed": false
   },
   "outputs": [
    {
     "data": {
      "text/plain": [
       "False"
      ]
     },
     "execution_count": 29,
     "metadata": {},
     "output_type": "execute_result"
    }
   ],
   "source": [
    "\"123abc\".isupper()"
   ]
  },
  {
   "cell_type": "code",
   "execution_count": 30,
   "metadata": {
    "collapsed": false
   },
   "outputs": [
    {
     "data": {
      "text/plain": [
       "True"
      ]
     },
     "execution_count": 30,
     "metadata": {},
     "output_type": "execute_result"
    }
   ],
   "source": [
    "\"123ABC\".isupper()"
   ]
  },
  {
   "cell_type": "code",
   "execution_count": 31,
   "metadata": {
    "collapsed": true
   },
   "outputs": [],
   "source": [
    "s=\"python program\""
   ]
  },
  {
   "cell_type": "code",
   "execution_count": 32,
   "metadata": {
    "collapsed": false
   },
   "outputs": [
    {
     "data": {
      "text/plain": [
       "'Python program'"
      ]
     },
     "execution_count": 32,
     "metadata": {},
     "output_type": "execute_result"
    }
   ],
   "source": [
    "s.capitalize()"
   ]
  },
  {
   "cell_type": "code",
   "execution_count": 33,
   "metadata": {
    "collapsed": false
   },
   "outputs": [
    {
     "name": "stdout",
     "output_type": "stream",
     "text": [
      "Python program\n"
     ]
    }
   ],
   "source": [
    "s=\"PYTHON PROGRAM\"\n",
    "print s.capitalize()"
   ]
  },
  {
   "cell_type": "code",
   "execution_count": 34,
   "metadata": {
    "collapsed": false
   },
   "outputs": [
    {
     "data": {
      "text/plain": [
       "True"
      ]
     },
     "execution_count": 34,
     "metadata": {},
     "output_type": "execute_result"
    }
   ],
   "source": [
    "\"python program\".islower()"
   ]
  },
  {
   "cell_type": "code",
   "execution_count": 35,
   "metadata": {
    "collapsed": false
   },
   "outputs": [
    {
     "data": {
      "text/plain": [
       "False"
      ]
     },
     "execution_count": 35,
     "metadata": {},
     "output_type": "execute_result"
    }
   ],
   "source": [
    "\"python prograM\".islower()"
   ]
  },
  {
   "cell_type": "code",
   "execution_count": 36,
   "metadata": {
    "collapsed": false
   },
   "outputs": [
    {
     "data": {
      "text/plain": [
       "False"
      ]
     },
     "execution_count": 36,
     "metadata": {},
     "output_type": "execute_result"
    }
   ],
   "source": [
    "\"\".islower()"
   ]
  },
  {
   "cell_type": "code",
   "execution_count": 37,
   "metadata": {
    "collapsed": false
   },
   "outputs": [
    {
     "data": {
      "text/plain": [
       "False"
      ]
     },
     "execution_count": 37,
     "metadata": {},
     "output_type": "execute_result"
    }
   ],
   "source": [
    "\"123Abc\".islower()"
   ]
  },
  {
   "cell_type": "code",
   "execution_count": 38,
   "metadata": {
    "collapsed": false
   },
   "outputs": [
    {
     "data": {
      "text/plain": [
       "False"
      ]
     },
     "execution_count": 38,
     "metadata": {},
     "output_type": "execute_result"
    }
   ],
   "source": [
    "\"123\".islower()"
   ]
  },
  {
   "cell_type": "code",
   "execution_count": 39,
   "metadata": {
    "collapsed": false
   },
   "outputs": [
    {
     "data": {
      "text/plain": [
       "False"
      ]
     },
     "execution_count": 39,
     "metadata": {},
     "output_type": "execute_result"
    }
   ],
   "source": [
    "\"123#$%\".islower()"
   ]
  },
  {
   "cell_type": "code",
   "execution_count": 40,
   "metadata": {
    "collapsed": false
   },
   "outputs": [
    {
     "data": {
      "text/plain": [
       "False"
      ]
     },
     "execution_count": 40,
     "metadata": {},
     "output_type": "execute_result"
    }
   ],
   "source": [
    "\"\".islower()"
   ]
  },
  {
   "cell_type": "code",
   "execution_count": 41,
   "metadata": {
    "collapsed": false
   },
   "outputs": [
    {
     "name": "stdout",
     "output_type": "stream",
     "text": [
      "Given string does not contains capital lettelrs\n"
     ]
    }
   ],
   "source": [
    "a=\"python program\"\n",
    "if a.islower():\n",
    "    print \"Given string does not contains capital lettelrs\"\n",
    "else:\n",
    "    print \"Given string  contains capital lettelrs\""
   ]
  },
  {
   "cell_type": "code",
   "execution_count": 42,
   "metadata": {
    "collapsed": false
   },
   "outputs": [
    {
     "name": "stdout",
     "output_type": "stream",
     "text": [
      "Given string  contains capital lettelrs\n"
     ]
    }
   ],
   "source": [
    "a=\"\"\n",
    "if a.islower():\n",
    "    print \"Given string does not contains capital lettelrs\"\n",
    "else:\n",
    "    print \"Given string  contains capital lettelrs\""
   ]
  },
  {
   "cell_type": "code",
   "execution_count": 44,
   "metadata": {
    "collapsed": false
   },
   "outputs": [
    {
     "name": "stdout",
     "output_type": "stream",
     "text": [
      "Given string is empty\n"
     ]
    }
   ],
   "source": [
    "a=\"\"\n",
    "if len(a)>0:\n",
    "    if a.islower():\n",
    "        print \"Given string does not contains capital lettelrs\"\n",
    "    else:\n",
    "        print \"Given string  contains capital lettelrs\"\n",
    "else:\n",
    "    print \"Given string is empty\""
   ]
  },
  {
   "cell_type": "code",
   "execution_count": 45,
   "metadata": {
    "collapsed": false
   },
   "outputs": [
    {
     "data": {
      "text/plain": [
       "False"
      ]
     },
     "execution_count": 45,
     "metadata": {},
     "output_type": "execute_result"
    }
   ],
   "source": [
    "bool(a)"
   ]
  },
  {
   "cell_type": "code",
   "execution_count": 46,
   "metadata": {
    "collapsed": false
   },
   "outputs": [
    {
     "name": "stdout",
     "output_type": "stream",
     "text": [
      "Given string is empty\n"
     ]
    }
   ],
   "source": [
    "a=\"\"\n",
    "if bool(a):\n",
    "    if a.islower():\n",
    "        print \"Given string does not contains capital lettelrs\"\n",
    "    else:\n",
    "        print \"Given string  contains capital lettelrs\"\n",
    "else:\n",
    "    print \"Given string is empty\""
   ]
  },
  {
   "cell_type": "code",
   "execution_count": 47,
   "metadata": {
    "collapsed": false
   },
   "outputs": [
    {
     "name": "stdout",
     "output_type": "stream",
     "text": [
      "Given string is empty\n"
     ]
    }
   ],
   "source": [
    "a=\"\"\n",
    "if a:\n",
    "    if a.islower():\n",
    "        print \"Given string does not contains capital lettelrs\"\n",
    "    else:\n",
    "        print \"Given string  contains capital lettelrs\"\n",
    "else:\n",
    "    print \"Given string is empty\""
   ]
  },
  {
   "cell_type": "code",
   "execution_count": 48,
   "metadata": {
    "collapsed": false
   },
   "outputs": [
    {
     "name": "stdout",
     "output_type": "stream",
     "text": [
      "Given string  contains capital lettelrs\n"
     ]
    }
   ],
   "source": [
    "a=\"123\"\n",
    "if a:\n",
    "    if a.islower():\n",
    "        print \"Given string does not contains capital lettelrs\"\n",
    "    else:\n",
    "        print \"Given string  contains capital lettelrs\"\n",
    "else:\n",
    "    print \"Given string is empty\""
   ]
  },
  {
   "cell_type": "code",
   "execution_count": 49,
   "metadata": {
    "collapsed": false
   },
   "outputs": [
    {
     "data": {
      "text/plain": [
       "True"
      ]
     },
     "execution_count": 49,
     "metadata": {},
     "output_type": "execute_result"
    }
   ],
   "source": [
    "\"123\".isdigit()"
   ]
  },
  {
   "cell_type": "code",
   "execution_count": 50,
   "metadata": {
    "collapsed": false
   },
   "outputs": [
    {
     "data": {
      "text/plain": [
       "False"
      ]
     },
     "execution_count": 50,
     "metadata": {},
     "output_type": "execute_result"
    }
   ],
   "source": [
    "\"123asdv\".isdigit()"
   ]
  },
  {
   "cell_type": "code",
   "execution_count": 51,
   "metadata": {
    "collapsed": false
   },
   "outputs": [
    {
     "data": {
      "text/plain": [
       "False"
      ]
     },
     "execution_count": 51,
     "metadata": {},
     "output_type": "execute_result"
    }
   ],
   "source": [
    "\"\".isdigit()"
   ]
  },
  {
   "cell_type": "code",
   "execution_count": 52,
   "metadata": {
    "collapsed": false
   },
   "outputs": [
    {
     "data": {
      "text/plain": [
       "False"
      ]
     },
     "execution_count": 52,
     "metadata": {},
     "output_type": "execute_result"
    }
   ],
   "source": [
    "\"123#$%\".isdigit()"
   ]
  },
  {
   "cell_type": "code",
   "execution_count": 53,
   "metadata": {
    "collapsed": false
   },
   "outputs": [
    {
     "name": "stdout",
     "output_type": "stream",
     "text": [
      "Given string does not contains capital lettelrs\n"
     ]
    }
   ],
   "source": [
    "a=\"123\"\n",
    "if a:\n",
    "    if not a.islower() and not a.isdigit():\n",
    "        print \"Given string  contains capital lettelrs\"\n",
    "        \n",
    "    else:\n",
    "        print \"Given string does not contains capital lettelrs\"\n",
    "        \n",
    "else:\n",
    "    print \"Given string is empty\""
   ]
  },
  {
   "cell_type": "code",
   "execution_count": 54,
   "metadata": {
    "collapsed": false
   },
   "outputs": [
    {
     "name": "stdout",
     "output_type": "stream",
     "text": [
      "Given string does not contains capital lettelrs\n"
     ]
    }
   ],
   "source": [
    "a=\"123asdasd\"\n",
    "if a:\n",
    "    if not a.islower() and not a.isdigit():\n",
    "        print \"Given string  contains capital lettelrs\"\n",
    "        \n",
    "    else:\n",
    "        print \"Given string does not contains capital lettelrs\"\n",
    "        \n",
    "else:\n",
    "    print \"Given string is empty\""
   ]
  },
  {
   "cell_type": "code",
   "execution_count": 55,
   "metadata": {
    "collapsed": false
   },
   "outputs": [
    {
     "name": "stdout",
     "output_type": "stream",
     "text": [
      "Given string is empty\n"
     ]
    }
   ],
   "source": [
    "a=\"\"\n",
    "if a:\n",
    "    if not a.islower() and not a.isdigit():\n",
    "        print \"Given string  contains capital lettelrs\"\n",
    "        \n",
    "    else:\n",
    "        print \"Given string does not contains capital lettelrs\"\n",
    "        \n",
    "else:\n",
    "    print \"Given string is empty\""
   ]
  },
  {
   "cell_type": "code",
   "execution_count": 56,
   "metadata": {
    "collapsed": false
   },
   "outputs": [
    {
     "name": "stdout",
     "output_type": "stream",
     "text": [
      "Given string  contains capital lettelrs\n"
     ]
    }
   ],
   "source": [
    "a=\"1234QSF\"\n",
    "if a:\n",
    "    if not a.islower() and not a.isdigit():\n",
    "        print \"Given string  contains capital lettelrs\"\n",
    "        \n",
    "    else:\n",
    "        print \"Given string does not contains capital lettelrs\"\n",
    "        \n",
    "else:\n",
    "    print \"Given string is empty\""
   ]
  },
  {
   "cell_type": "code",
   "execution_count": 57,
   "metadata": {
    "collapsed": false
   },
   "outputs": [
    {
     "name": "stdout",
     "output_type": "stream",
     "text": [
      "Given string  contains capital lettelrs\n"
     ]
    }
   ],
   "source": [
    "a=\"1234Asdwty\"\n",
    "if a:\n",
    "    if not a.islower() and not a.isdigit():\n",
    "        print \"Given string  contains capital lettelrs\"\n",
    "        \n",
    "    else:\n",
    "        print \"Given string does not contains capital lettelrs\"\n",
    "        \n",
    "else:\n",
    "    print \"Given string is empty\""
   ]
  },
  {
   "cell_type": "code",
   "execution_count": null,
   "metadata": {
    "collapsed": true
   },
   "outputs": [],
   "source": [
    "a=\"1234Asdwty\"\n",
    "if a:\n",
    "    if not a.islower() and not a.isdigit():\n",
    "        print \"Given string  contains capital lettelrs\"\n",
    "        \n",
    "    else:\n",
    "        print \"Given string does not contains capital lettelrs\"\n",
    "        \n",
    "else:\n",
    "    print \"Given string is empty\""
   ]
  },
  {
   "cell_type": "code",
   "execution_count": 58,
   "metadata": {
    "collapsed": false
   },
   "outputs": [
    {
     "data": {
      "text/plain": [
       "False"
      ]
     },
     "execution_count": 58,
     "metadata": {},
     "output_type": "execute_result"
    }
   ],
   "source": [
    "\"@#$\".isdigit()"
   ]
  },
  {
   "cell_type": "code",
   "execution_count": 59,
   "metadata": {
    "collapsed": false
   },
   "outputs": [
    {
     "data": {
      "text/plain": [
       "False"
      ]
     },
     "execution_count": 59,
     "metadata": {},
     "output_type": "execute_result"
    }
   ],
   "source": [
    "\"@#$\".islower()"
   ]
  },
  {
   "cell_type": "code",
   "execution_count": 60,
   "metadata": {
    "collapsed": false
   },
   "outputs": [
    {
     "name": "stdout",
     "output_type": "stream",
     "text": [
      "Given string  contains capital lettelrs\n"
     ]
    }
   ],
   "source": [
    "a=\"@#$\"\n",
    "if a:\n",
    "    if not a.islower() and not a.isdigit():\n",
    "        print \"Given string  contains capital lettelrs\"\n",
    "        \n",
    "    else:\n",
    "        print \"Given string does not contains capital lettelrs\"\n",
    "        \n",
    "else:\n",
    "    print \"Given string is empty\""
   ]
  },
  {
   "cell_type": "code",
   "execution_count": 61,
   "metadata": {
    "collapsed": false
   },
   "outputs": [
    {
     "name": "stdout",
     "output_type": "stream",
     "text": [
      "hello world\n"
     ]
    }
   ],
   "source": [
    "print \"hello world\""
   ]
  },
  {
   "cell_type": "code",
   "execution_count": 62,
   "metadata": {
    "collapsed": false
   },
   "outputs": [
    {
     "name": "stdout",
     "output_type": "stream",
     "text": [
      "hello world\n"
     ]
    }
   ],
   "source": [
    "print (\"hello world\")"
   ]
  },
  {
   "cell_type": "code",
   "execution_count": null,
   "metadata": {
    "collapsed": true
   },
   "outputs": [],
   "source": []
  }
 ],
 "metadata": {
  "kernelspec": {
   "display_name": "Python 2",
   "language": "python",
   "name": "python2"
  },
  "language_info": {
   "codemirror_mode": {
    "name": "ipython",
    "version": 2
   },
   "file_extension": ".py",
   "mimetype": "text/x-python",
   "name": "python",
   "nbconvert_exporter": "python",
   "pygments_lexer": "ipython2",
   "version": "2.7.11"
  }
 },
 "nbformat": 4,
 "nbformat_minor": 0
}
